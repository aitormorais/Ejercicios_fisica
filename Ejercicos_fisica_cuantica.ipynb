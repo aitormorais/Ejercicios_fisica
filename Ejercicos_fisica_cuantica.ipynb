{
  "nbformat": 4,
  "nbformat_minor": 0,
  "metadata": {
    "colab": {
      "provenance": [],
      "authorship_tag": "ABX9TyMLBkdj7wITL7wl/BXQaDax",
      "include_colab_link": true
    },
    "kernelspec": {
      "name": "python3",
      "display_name": "Python 3"
    },
    "language_info": {
      "name": "python"
    }
  },
  "cells": [
    {
      "cell_type": "markdown",
      "metadata": {
        "id": "view-in-github",
        "colab_type": "text"
      },
      "source": [
        "<a href=\"https://colab.research.google.com/github/aitormorais/Fundamentos-F-sico-Matem-ticos/blob/main/Ejercicos_fisica_cuantica.ipynb\" target=\"_parent\"><img src=\"https://colab.research.google.com/assets/colab-badge.svg\" alt=\"Open In Colab\"/></a>"
      ]
    },
    {
      "cell_type": "markdown",
      "source": [
        "## Teoria cuántica antigua\n",
        "---"
      ],
      "metadata": {
        "id": "tnkemLQ4fyHN"
      }
    },
    {
      "cell_type": "markdown",
      "source": [
        "### **Ejercicio 1: Aplicando la Ley del desplazamiento de Wien, calcúlese las longitudes de onda de mayor energía a la temperatura de:**\n",
        "\n",
        "---\n",
        "a) 10^6 K\n",
        "\n",
        "b) 10^3 K\n",
        "\n"
      ],
      "metadata": {
        "id": "LynVScFCO_6F"
      }
    },
    {
      "cell_type": "markdown",
      "source": [
        "Definimos la constante de desplazamiento de Wien:"
      ],
      "metadata": {
        "id": "w_6t9--HPbhy"
      }
    },
    {
      "cell_type": "code",
      "execution_count": 7,
      "metadata": {
        "id": "GZj-W4TkOwjt"
      },
      "outputs": [],
      "source": [
        "b = 2.8976e-3"
      ]
    },
    {
      "cell_type": "markdown",
      "source": [
        "Calculamos longitud de onda para a) 10^6 K"
      ],
      "metadata": {
        "id": "ZtX0ZU1bPoTe"
      }
    },
    {
      "cell_type": "code",
      "source": [
        "T1=1e6\n",
        "lambda1 = b/T1"
      ],
      "metadata": {
        "id": "RWI4epuOPq8s"
      },
      "execution_count": 20,
      "outputs": []
    },
    {
      "cell_type": "markdown",
      "source": [
        "Calculamos longitud de onda para b) 10^3 K"
      ],
      "metadata": {
        "id": "IFrwNmBPP3p0"
      }
    },
    {
      "cell_type": "code",
      "source": [
        "T2= 1e3\n",
        "lambda2 =b/T2"
      ],
      "metadata": {
        "id": "LFTIUPW6P3RW"
      },
      "execution_count": 21,
      "outputs": []
    },
    {
      "cell_type": "markdown",
      "source": [
        "Resultado"
      ],
      "metadata": {
        "id": "WWMMwHwNQBBN"
      }
    },
    {
      "cell_type": "code",
      "source": [
        "print(f\"Longitud de onda para 10^6 K: { lambda1 } m\")"
      ],
      "metadata": {
        "colab": {
          "base_uri": "https://localhost:8080/"
        },
        "id": "tkog1RAwQCjF",
        "outputId": "cdbfd015-f09a-4bf0-aa14-f8c171adbf3e"
      },
      "execution_count": 24,
      "outputs": [
        {
          "output_type": "stream",
          "name": "stdout",
          "text": [
            "Longitud de onda para 10^6 K: 2.8976e-09 m\n"
          ]
        }
      ]
    },
    {
      "cell_type": "code",
      "source": [
        "print(f\"Longitud de onda para 10^6 K: {lambda2} m\")"
      ],
      "metadata": {
        "colab": {
          "base_uri": "https://localhost:8080/"
        },
        "id": "fwSUWbfRQRyW",
        "outputId": "28d2a323-afa9-47b2-c9d0-2352b50bcf84"
      },
      "execution_count": 23,
      "outputs": [
        {
          "output_type": "stream",
          "name": "stdout",
          "text": [
            "Longitud de onda para 10^6 K: 2.8976e-06 m\n"
          ]
        }
      ]
    },
    {
      "cell_type": "markdown",
      "source": [
        "### **Ejercicio 2:                                                            Las estrellas enanas blancas tienen una temperatura superficial de unos 10^4 K ¿Cuál es la longitudde onda máxima λmáx correspondiente a esa temperatura según la ley de Wien?**\n",
        "\n",
        "---"
      ],
      "metadata": {
        "id": "ObKUgCrLaBw-"
      }
    },
    {
      "cell_type": "code",
      "source": [
        "#sabiendo que λ = b/T\n",
        "resultado = b/(1e4)\n",
        "print(f\"La longitud de onda correspondiente es: {resultado} m\")"
      ],
      "metadata": {
        "colab": {
          "base_uri": "https://localhost:8080/"
        },
        "id": "FgrXSTIUaext",
        "outputId": "1705808d-9bcd-4318-d01f-3712b9b44a45"
      },
      "execution_count": 19,
      "outputs": [
        {
          "output_type": "stream",
          "name": "stdout",
          "text": [
            "La longitud de onda correspondiente es: 2.8976e-07 m\n"
          ]
        }
      ]
    },
    {
      "cell_type": "markdown",
      "source": [
        "### **Ejercicio 3:  El sol tiene su máxima emisión de energía a una longitud de onda de 4,75·(10^-7) m. Considerando que el espectro de radiación del sol es como el de un cuerpo negro. Calcular la temperatura en la superficie del sol**\n",
        "---"
      ],
      "metadata": {
        "id": "WXDUDXs2bRTF"
      }
    },
    {
      "cell_type": "code",
      "source": [
        "res = b/4.75e-7"
      ],
      "metadata": {
        "id": "MZ_ShE_hcGQB"
      },
      "execution_count": 17,
      "outputs": []
    },
    {
      "cell_type": "code",
      "source": [
        "print(f\"La temperatura de la superfice del sol es {res} K\")"
      ],
      "metadata": {
        "colab": {
          "base_uri": "https://localhost:8080/"
        },
        "id": "EvM019wlcoTM",
        "outputId": "22149474-152d-407e-8ca1-ce9492586000"
      },
      "execution_count": 18,
      "outputs": [
        {
          "output_type": "stream",
          "name": "stdout",
          "text": [
            "La temperatura de la superfice del sol es 6100.21052631579 K\n"
          ]
        }
      ]
    },
    {
      "cell_type": "markdown",
      "source": [
        "### **Ejercicio 4:Explicar en que consiste “La Catástrofe Ultravioleta”**\n",
        "---"
      ],
      "metadata": {
        "id": "naKTCWF2dg3r"
      }
    },
    {
      "cell_type": "markdown",
      "source": [
        "EXPLICACION\n"
      ],
      "metadata": {
        "id": "uLPI63-6e9aS"
      }
    },
    {
      "cell_type": "markdown",
      "source": [
        "## El Átomo de Bohr\n",
        "---"
      ],
      "metadata": {
        "id": "P_Lcuh47gQCG"
      }
    },
    {
      "cell_type": "markdown",
      "source": [
        "### **Ejercicio 5: Determinar la energía y la longitud de onda λ de la raya espectral que tiene la longitud de onda más larga de la serie de Lyman**\n",
        "---\n"
      ],
      "metadata": {
        "id": "niCAhBlrgrtO"
      }
    },
    {
      "cell_type": "markdown",
      "source": [
        "La formula de la serie lyman es: (1/λ) = R ((1/(n_1)\n",
        "^2) - (1/(n_2)^2))\n",
        "Donde:\n",
        "\n",
        "*   R es la constante de Rydberg\n",
        "*   n_1 y n_2  son los niveles de energia inicial y final\n",
        "\n"
      ],
      "metadata": {
        "id": "szKq9Mhyhxpz"
      }
    },
    {
      "cell_type": "markdown",
      "source": [
        "Definimos las constantes"
      ],
      "metadata": {
        "id": "yw9xHLyHlTh4"
      }
    },
    {
      "cell_type": "code",
      "source": [
        "from scipy.constants import h, c, Rydberg"
      ],
      "metadata": {
        "id": "qaLH-ZJlmeAT"
      },
      "execution_count": 34,
      "outputs": []
    },
    {
      "cell_type": "code",
      "source": [
        "\n",
        "R = Rydberg  # m^-1, Constante de Rydberg\n",
        "h = h  # J s, Constante de Planck\n",
        "c = c  # m/s, Velocidad de la luz"
      ],
      "metadata": {
        "id": "jlZXEWPqlW1X"
      },
      "execution_count": 31,
      "outputs": []
    },
    {
      "cell_type": "markdown",
      "source": [
        "Calculamos la longitud de onda para n = 2"
      ],
      "metadata": {
        "id": "eFcJ96MnlbJv"
      }
    },
    {
      "cell_type": "markdown",
      "source": [
        "Cálculo longitud de onda"
      ],
      "metadata": {
        "id": "Zn6acQeZn2HU"
      }
    },
    {
      "cell_type": "code",
      "source": [
        "n = 2\n",
        "lambda_inverse = R * (1/1**2 - 1/n**2)\n",
        "lambda_lyman = 1/lambda_inverse"
      ],
      "metadata": {
        "id": "jQsSE3cVoADT"
      },
      "execution_count": 38,
      "outputs": []
    },
    {
      "cell_type": "markdown",
      "source": [
        "Cálculo de la energía"
      ],
      "metadata": {
        "id": "zidsSqO2oAVp"
      }
    },
    {
      "cell_type": "code",
      "source": [
        "E = h * c * lambda_inverse"
      ],
      "metadata": {
        "id": "GoCgmsfgoA3a"
      },
      "execution_count": 39,
      "outputs": []
    },
    {
      "cell_type": "markdown",
      "source": [
        "Resultados"
      ],
      "metadata": {
        "id": "DbVjG9aaoF78"
      }
    },
    {
      "cell_type": "code",
      "source": [
        "\n",
        "print(f\"Longitud de onda de la raya espectral más larga de la serie de Lyman: {lambda_lyman} m\")\n",
        "print(f\"Energía de la raya espectral más larga de la serie de Lyman: {E} J\")\n"
      ],
      "metadata": {
        "colab": {
          "base_uri": "https://localhost:8080/"
        },
        "id": "mqQtUfiqjuHz",
        "outputId": "743aa5fb-632d-45a4-e19e-ce6b16cdaffd"
      },
      "execution_count": 40,
      "outputs": [
        {
          "output_type": "stream",
          "name": "stdout",
          "text": [
            "Longitud de onda de la raya espectral más larga de la serie de Lyman: 1.2150227341098497e-07 m\n",
            "Energía de la raya espectral más larga de la serie de Lyman: 1.6349042708276885e-18 J\n"
          ]
        }
      ]
    }
  ]
}