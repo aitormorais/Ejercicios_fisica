{
  "nbformat": 4,
  "nbformat_minor": 0,
  "metadata": {
    "colab": {
      "provenance": [],
      "authorship_tag": "ABX9TyM0772yoXcTu6J+x8IUvUzg",
      "include_colab_link": true
    },
    "kernelspec": {
      "name": "python3",
      "display_name": "Python 3"
    },
    "language_info": {
      "name": "python"
    }
  },
  "cells": [
    {
      "cell_type": "markdown",
      "metadata": {
        "id": "view-in-github",
        "colab_type": "text"
      },
      "source": [
        "<a href=\"https://colab.research.google.com/github/aitormorais/Ejercicios_fisica/blob/main/Ejercicos_fisica_cuantica.ipynb\" target=\"_parent\"><img src=\"https://colab.research.google.com/assets/colab-badge.svg\" alt=\"Open In Colab\"/></a>"
      ]
    },
    {
      "cell_type": "markdown",
      "source": [
        "## Teoria cuántica antigua\n",
        "---"
      ],
      "metadata": {
        "id": "tnkemLQ4fyHN"
      }
    },
    {
      "cell_type": "markdown",
      "source": [
        "### **Ejercicio 1: Aplicando la Ley del desplazamiento de Wien, calcúlese las longitudes de onda de mayor energía a la temperatura de:**\n",
        "\n",
        "---\n",
        "a) 10^6 K\n",
        "\n",
        "b) 10^3 K\n",
        "\n"
      ],
      "metadata": {
        "id": "LynVScFCO_6F"
      }
    },
    {
      "cell_type": "markdown",
      "source": [
        "Definimos la constante de desplazamiento de Wien:"
      ],
      "metadata": {
        "id": "w_6t9--HPbhy"
      }
    },
    {
      "cell_type": "code",
      "execution_count": null,
      "metadata": {
        "id": "GZj-W4TkOwjt"
      },
      "outputs": [],
      "source": [
        "b = 2.8976e-3"
      ]
    },
    {
      "cell_type": "markdown",
      "source": [
        "Calculamos longitud de onda para a) 10^6 K"
      ],
      "metadata": {
        "id": "ZtX0ZU1bPoTe"
      }
    },
    {
      "cell_type": "code",
      "source": [
        "T1=1e6\n",
        "lambda1 = b/T1"
      ],
      "metadata": {
        "id": "RWI4epuOPq8s"
      },
      "execution_count": null,
      "outputs": []
    },
    {
      "cell_type": "markdown",
      "source": [
        "Calculamos longitud de onda para b) 10^3 K"
      ],
      "metadata": {
        "id": "IFrwNmBPP3p0"
      }
    },
    {
      "cell_type": "code",
      "source": [
        "T2= 1e3\n",
        "lambda2 =b/T2"
      ],
      "metadata": {
        "id": "LFTIUPW6P3RW"
      },
      "execution_count": null,
      "outputs": []
    },
    {
      "cell_type": "markdown",
      "source": [
        "Resultado"
      ],
      "metadata": {
        "id": "WWMMwHwNQBBN"
      }
    },
    {
      "cell_type": "code",
      "source": [
        "print(f\"Longitud de onda para 10^6 K: { lambda1 } m\")"
      ],
      "metadata": {
        "colab": {
          "base_uri": "https://localhost:8080/"
        },
        "id": "tkog1RAwQCjF",
        "outputId": "cdbfd015-f09a-4bf0-aa14-f8c171adbf3e"
      },
      "execution_count": null,
      "outputs": [
        {
          "output_type": "stream",
          "name": "stdout",
          "text": [
            "Longitud de onda para 10^6 K: 2.8976e-09 m\n"
          ]
        }
      ]
    },
    {
      "cell_type": "code",
      "source": [
        "print(f\"Longitud de onda para 10^6 K: {lambda2} m\")"
      ],
      "metadata": {
        "colab": {
          "base_uri": "https://localhost:8080/"
        },
        "id": "fwSUWbfRQRyW",
        "outputId": "28d2a323-afa9-47b2-c9d0-2352b50bcf84"
      },
      "execution_count": null,
      "outputs": [
        {
          "output_type": "stream",
          "name": "stdout",
          "text": [
            "Longitud de onda para 10^6 K: 2.8976e-06 m\n"
          ]
        }
      ]
    },
    {
      "cell_type": "markdown",
      "source": [
        "### **Ejercicio 2:                                                            Las estrellas enanas blancas tienen una temperatura superficial de unos 10^4 K ¿Cuál es la longitudde onda máxima λ máx correspondiente a esa temperatura según la ley de Wien?**\n",
        "\n",
        "---"
      ],
      "metadata": {
        "id": "ObKUgCrLaBw-"
      }
    },
    {
      "cell_type": "code",
      "source": [
        "#sabiendo que λ = b/T\n",
        "resultado = b/(1e4)\n",
        "print(f\"La longitud de onda correspondiente es: {resultado} m\")"
      ],
      "metadata": {
        "colab": {
          "base_uri": "https://localhost:8080/"
        },
        "id": "FgrXSTIUaext",
        "outputId": "1705808d-9bcd-4318-d01f-3712b9b44a45"
      },
      "execution_count": null,
      "outputs": [
        {
          "output_type": "stream",
          "name": "stdout",
          "text": [
            "La longitud de onda correspondiente es: 2.8976e-07 m\n"
          ]
        }
      ]
    },
    {
      "cell_type": "markdown",
      "source": [
        "### **Ejercicio 3:  El sol tiene su máxima emisión de energía a una longitud de onda de 4,75·(10^-7) m. Considerando que el espectro de radiación del sol es como el de un cuerpo negro. Calcular la temperatura en la superficie del sol**\n",
        "---"
      ],
      "metadata": {
        "id": "WXDUDXs2bRTF"
      }
    },
    {
      "cell_type": "code",
      "source": [
        "res = b/4.75e-7"
      ],
      "metadata": {
        "id": "MZ_ShE_hcGQB"
      },
      "execution_count": null,
      "outputs": []
    },
    {
      "cell_type": "code",
      "source": [
        "print(f\"La temperatura de la superfice del sol es {res} K\")"
      ],
      "metadata": {
        "colab": {
          "base_uri": "https://localhost:8080/"
        },
        "id": "EvM019wlcoTM",
        "outputId": "22149474-152d-407e-8ca1-ce9492586000"
      },
      "execution_count": null,
      "outputs": [
        {
          "output_type": "stream",
          "name": "stdout",
          "text": [
            "La temperatura de la superfice del sol es 6100.21052631579 K\n"
          ]
        }
      ]
    },
    {
      "cell_type": "markdown",
      "source": [
        "### **Ejercicio 4:Explicar en que consiste “La Catástrofe Ultravioleta”**\n",
        "---"
      ],
      "metadata": {
        "id": "naKTCWF2dg3r"
      }
    },
    {
      "cell_type": "markdown",
      "source": [
        "EXPLICACION\n"
      ],
      "metadata": {
        "id": "uLPI63-6e9aS"
      }
    },
    {
      "cell_type": "markdown",
      "source": [
        "## El Átomo de Bohr\n",
        "---"
      ],
      "metadata": {
        "id": "P_Lcuh47gQCG"
      }
    },
    {
      "cell_type": "markdown",
      "source": [
        "### **Ejercicio 5: Determinar la energía y la longitud de onda λ de la raya espectral que tiene la longitud de onda más larga de la serie de Lyman**\n",
        "---\n"
      ],
      "metadata": {
        "id": "niCAhBlrgrtO"
      }
    },
    {
      "cell_type": "markdown",
      "source": [
        "La formula de la serie lyman es: $(1/λ) = R ((1/(n_1)\n",
        "^2) - (1/(n_2)^2))$\n",
        "Donde:\n",
        "\n",
        "*   R es la constante de Rydberg\n",
        "*   n_1 y n_2  son los niveles de energia inicial y final\n",
        "\n"
      ],
      "metadata": {
        "id": "szKq9Mhyhxpz"
      }
    },
    {
      "cell_type": "markdown",
      "source": [
        "Definimos las constantes"
      ],
      "metadata": {
        "id": "yw9xHLyHlTh4"
      }
    },
    {
      "cell_type": "code",
      "source": [
        "from scipy.constants import h, c, Rydberg,electron_mass"
      ],
      "metadata": {
        "id": "qaLH-ZJlmeAT"
      },
      "execution_count": null,
      "outputs": []
    },
    {
      "cell_type": "code",
      "source": [
        "\n",
        "R = Rydberg  # m^-1, Constante de Rydberg\n",
        "h = h  # J s, Constante de Planck\n",
        "c = c  # m/s, Velocidad de la luz"
      ],
      "metadata": {
        "id": "jlZXEWPqlW1X"
      },
      "execution_count": null,
      "outputs": []
    },
    {
      "cell_type": "markdown",
      "source": [
        "Calculamos la longitud de onda para n = 2"
      ],
      "metadata": {
        "id": "eFcJ96MnlbJv"
      }
    },
    {
      "cell_type": "markdown",
      "source": [
        "Cálculo longitud de onda"
      ],
      "metadata": {
        "id": "Zn6acQeZn2HU"
      }
    },
    {
      "cell_type": "code",
      "source": [
        "n = 2\n",
        "lambda_inverse = R * (1/1**2 - 1/n**2)\n",
        "lambda_lyman = 1/lambda_inverse"
      ],
      "metadata": {
        "id": "jQsSE3cVoADT"
      },
      "execution_count": null,
      "outputs": []
    },
    {
      "cell_type": "markdown",
      "source": [
        "Cálculo de la energía"
      ],
      "metadata": {
        "id": "zidsSqO2oAVp"
      }
    },
    {
      "cell_type": "code",
      "source": [
        "E = h * c * lambda_inverse"
      ],
      "metadata": {
        "id": "GoCgmsfgoA3a"
      },
      "execution_count": null,
      "outputs": []
    },
    {
      "cell_type": "markdown",
      "source": [
        "Resultados"
      ],
      "metadata": {
        "id": "DbVjG9aaoF78"
      }
    },
    {
      "cell_type": "code",
      "source": [
        "\n",
        "print(f\"Longitud de onda de la raya espectral más larga de la serie de Lyman: {lambda_lyman} m\")\n",
        "print(f\"Energía de la raya espectral más larga de la serie de Lyman: {E} J\")\n"
      ],
      "metadata": {
        "colab": {
          "base_uri": "https://localhost:8080/"
        },
        "id": "mqQtUfiqjuHz",
        "outputId": "743aa5fb-632d-45a4-e19e-ce6b16cdaffd"
      },
      "execution_count": null,
      "outputs": [
        {
          "output_type": "stream",
          "name": "stdout",
          "text": [
            "Longitud de onda de la raya espectral más larga de la serie de Lyman: 1.2150227341098497e-07 m\n",
            "Energía de la raya espectral más larga de la serie de Lyman: 1.6349042708276885e-18 J\n"
          ]
        }
      ]
    },
    {
      "cell_type": "markdown",
      "source": [
        "### **Ejercicio 6 : Haciendo uso de la fórmula de Rydberg obtener las 4 líneas menos energéticas del espectro del átomo de hidrógeno**\n",
        "---"
      ],
      "metadata": {
        "id": "dNfUpva8Owmu"
      }
    },
    {
      "cell_type": "markdown",
      "source": [
        "Función para calcular la longitud de onda utilizando la fórmula de Rydberg"
      ],
      "metadata": {
        "id": "hSRf-i3kdEK4"
      }
    },
    {
      "cell_type": "code",
      "source": [
        "def calcular_longitud_de_onda(n1, n2):\n",
        "    return 1 / (R * (1/n1**2 - 1/n2**2)) * 1e9 #convertir a nm"
      ],
      "metadata": {
        "id": "f_ADxd97dAbg"
      },
      "execution_count": null,
      "outputs": []
    },
    {
      "cell_type": "code",
      "source": [
        "# Cálculo de las longitudes de onda para n1=2 y n2 variando de 3 a 6\n",
        "longitudes_de_onda = [calcular_longitud_de_onda(2, n2) for n2 in range(3, 7)]"
      ],
      "metadata": {
        "id": "_pIlJJrbdN2D"
      },
      "execution_count": null,
      "outputs": []
    },
    {
      "cell_type": "code",
      "source": [
        "for i in longitudes_de_onda: print(f\"{i} nm\")\n"
      ],
      "metadata": {
        "id": "fnL3OySndUjA",
        "outputId": "0d113eb4-f848-45c4-d05a-2a3612e55500",
        "colab": {
          "base_uri": "https://localhost:8080/"
        }
      },
      "execution_count": null,
      "outputs": [
        {
          "output_type": "stream",
          "name": "stdout",
          "text": [
            "656.112276419319 nm\n",
            "486.0090936439399 nm\n",
            "433.93669075351784 nm\n",
            "410.0701727620744 nm\n"
          ]
        }
      ]
    },
    {
      "cell_type": "markdown",
      "source": [
        "### **Ejercicio 7:**\n",
        "**Utilizar el átomo de Borh para explicar el principio de correspondencia**\n",
        "\n",
        "---"
      ],
      "metadata": {
        "id": "25o_CCezO7vV"
      }
    },
    {
      "cell_type": "markdown",
      "source": [
        "### **Ejercicio 8: Describir los conceptos de cuantización que aparecen en los postulados de Bohr para explicar el átomo de hidrógeno**\n",
        "---"
      ],
      "metadata": {
        "id": "9IVNer_oPJ24"
      }
    },
    {
      "cell_type": "markdown",
      "source": [
        "## Dualidad Onda-Corpúsculo\n",
        "---"
      ],
      "metadata": {
        "id": "DBi00Vp0PWok"
      }
    },
    {
      "cell_type": "markdown",
      "source": [
        "### **Ejercicio : 9**\n",
        "\n",
        "**Una onda electromagnética plana se desplaza en el vacío en el sentido positivo del eje OX, con una frecuencia de 2·108 Hz. Calcular la longitud de onda y el periodo.**\n",
        "\n",
        "---"
      ],
      "metadata": {
        "id": "VWMCYV9_PcYd"
      }
    },
    {
      "cell_type": "code",
      "source": [
        "frecuencia = 2*108 #HZ"
      ],
      "metadata": {
        "id": "K47h4DQ_iMwk"
      },
      "execution_count": null,
      "outputs": []
    },
    {
      "cell_type": "markdown",
      "source": [
        "Cálculo de la longitud de onda"
      ],
      "metadata": {
        "id": "2-y63lfHjW1q"
      }
    },
    {
      "cell_type": "code",
      "source": [
        "longitud_de_onda = c / frecuencia"
      ],
      "metadata": {
        "id": "90bQj41wjOZM"
      },
      "execution_count": null,
      "outputs": []
    },
    {
      "cell_type": "markdown",
      "source": [
        "Cálculo del periodo"
      ],
      "metadata": {
        "id": "uPRAUu5ljcmS"
      }
    },
    {
      "cell_type": "code",
      "source": [
        "periodo = 1 / frecuencia"
      ],
      "metadata": {
        "id": "-LQ3eeagjfzb"
      },
      "execution_count": null,
      "outputs": []
    },
    {
      "cell_type": "code",
      "source": [
        "print(f'Longitud de onda: {longitud_de_onda} m')\n",
        "print(f'Periodo: {periodo} s')"
      ],
      "metadata": {
        "id": "sBw0b_tQjzFK",
        "outputId": "19b52b48-23a9-490c-9bdf-864d7eeeb661",
        "colab": {
          "base_uri": "https://localhost:8080/"
        }
      },
      "execution_count": null,
      "outputs": [
        {
          "output_type": "stream",
          "name": "stdout",
          "text": [
            "Longitud de onda: 1.49896229 m\n",
            "Periodo: 5e-09 s\n"
          ]
        }
      ]
    },
    {
      "cell_type": "code",
      "source": [
        "print(f'Longitud de onda: {longitud_de_onda} m')\n",
        "print(f'Periodo: {periodo} s')"
      ],
      "metadata": {
        "id": "Y-i3PaZcjlFR",
        "outputId": "ee4e1b12-f1c0-4e49-963d-02af33634efb",
        "colab": {
          "base_uri": "https://localhost:8080/"
        }
      },
      "execution_count": null,
      "outputs": [
        {
          "output_type": "stream",
          "name": "stdout",
          "text": [
            "Longitud de onda: 1387928.0462962964 m\n",
            "Periodo: 0.004629629629629629 s\n"
          ]
        }
      ]
    },
    {
      "cell_type": "markdown",
      "source": [
        "### **Ejercicio : 10**\n",
        "**Calcular la energía de los fotones correspondientes a los extremos, violeta y rojo, del espectro visible (400nm y 700nm)**\n",
        "\n",
        "---"
      ],
      "metadata": {
        "id": "VSv7ZYfsPlHk"
      }
    },
    {
      "cell_type": "markdown",
      "source": [
        "Convertimos las longitudes de ondas a metros"
      ],
      "metadata": {
        "id": "HwllRAkDkgrp"
      }
    },
    {
      "cell_type": "code",
      "source": [
        "lambda_violeta=400e-9\n",
        "lambda_rojo=700e-9"
      ],
      "metadata": {
        "id": "zfAJc3LtkU9p"
      },
      "execution_count": null,
      "outputs": []
    },
    {
      "cell_type": "markdown",
      "source": [
        "Calculamos la energia $E = \\frac{hc}{λ}$"
      ],
      "metadata": {
        "id": "x720CAS4kqA4"
      }
    },
    {
      "cell_type": "code",
      "source": [
        "E_violeta = (h*c)/lambda_violeta\n",
        "E_rojo = (h*c)/lambda_rojo"
      ],
      "metadata": {
        "id": "yKszNLnekpnh"
      },
      "execution_count": null,
      "outputs": []
    },
    {
      "cell_type": "markdown",
      "source": [
        "Resultado"
      ],
      "metadata": {
        "id": "2w1MULx5l0df"
      }
    },
    {
      "cell_type": "code",
      "source": [
        "print(f'Energía del fotón violeta: {E_violeta} Joules')\n",
        "print(f'Energía del fotón rojo: {E_rojo} Joules')"
      ],
      "metadata": {
        "id": "hEjnXrhqlwPz",
        "outputId": "91bbc1b9-f9b8-4f71-b2be-f2ccfd24fdc9",
        "colab": {
          "base_uri": "https://localhost:8080/"
        }
      },
      "execution_count": null,
      "outputs": [
        {
          "output_type": "stream",
          "name": "stdout",
          "text": [
            "Energía del fotón violeta: 4.966114642872322e-19 Joules\n",
            "Energía del fotón rojo: 2.837779795927041e-19 Joules\n"
          ]
        }
      ]
    },
    {
      "cell_type": "markdown",
      "source": [
        "### **Ejercicio : 11**\n",
        "\n",
        "**Dada una bola de billar de masa 1kg que se mueve con velocidad 0.25 m/s sobre la mesa de juego.\n",
        "Según de Broglie ¿Cuál sería la longitud de onda asociada que llevaría esta bola? ¿Y si en lugar de\n",
        "una bola de billar fuese un electrón?**\n",
        "\n",
        "---"
      ],
      "metadata": {
        "id": "dFHQStUYPl5M"
      }
    },
    {
      "cell_type": "markdown",
      "source": [
        "La relacion de Broglie estabelece que toda particular con un momento lineal (producto de su masa y velocidad) tiene asociada una longitud de onda dada por:\n",
        "$ λ = \\frac{h}{p}$\n",
        "Donde p es el momento lineal de la particula, que se calcula como $p = m*v$ siendo (m) la masa y (v) la velocidad"
      ],
      "metadata": {
        "id": "R8g0Ow7AEqc0"
      }
    },
    {
      "cell_type": "markdown",
      "source": [
        "Entonces para la bola de billar:"
      ],
      "metadata": {
        "id": "f0tjgq_4EqXr"
      }
    },
    {
      "cell_type": "code",
      "source": [
        "m_bola = 1#kg\n",
        "v = 0.25 #m/s\n",
        "p_bola = m_bola*v\n",
        "lambda_bola = h/p_bola\n",
        "print(f\"Longitud de onda para la bola de billar: {lambda_bola} m/s\")"
      ],
      "metadata": {
        "id": "hg0hSeglFnMc",
        "outputId": "a09e2cac-cb67-4bbb-8f60-e103ae1d013d",
        "colab": {
          "base_uri": "https://localhost:8080/"
        }
      },
      "execution_count": null,
      "outputs": [
        {
          "output_type": "stream",
          "name": "stdout",
          "text": [
            "Longitud de onda para la bola de billar: 2.65042806e-33 m/s\n"
          ]
        }
      ]
    },
    {
      "cell_type": "code",
      "source": [
        "p_electron = electron_mass*v\n",
        "lambda_electron = h/p_electron\n",
        "print(f\"Longitud de onda para la bola de billar: {lambda_electron} m/s\")"
      ],
      "metadata": {
        "id": "KVRBcJ0TGxJj",
        "outputId": "6dc23f72-0fed-445b-be5d-306563bca4d4",
        "colab": {
          "base_uri": "https://localhost:8080/"
        }
      },
      "execution_count": null,
      "outputs": [
        {
          "output_type": "stream",
          "name": "stdout",
          "text": [
            "Longitud de onda para la bola de billar: 0.0029095580413014835 m/s\n"
          ]
        }
      ]
    },
    {
      "cell_type": "markdown",
      "source": [
        "### **Ejercicio : 12**\n",
        "\n",
        "**La longitud de onda mínima para arrancar un electrón en una placa de potasio es de 564 nm.\n",
        "Calcular la función del trabajo del Potasio. ¿Cuál es el potencial de detención cuando se ilumina la\n",
        "placa con luz de 400nm?**\n",
        "\n",
        "---"
      ],
      "metadata": {
        "id": "GM6d1G38Pmq1"
      }
    },
    {
      "cell_type": "markdown",
      "source": [
        "Para resolver esta pregunta, usaremos la ecuación del efecto fotoeléctrico:\n",
        "\n",
        "$ h*f = ϕ + K_{max}$\n",
        "\n",
        "\n",
        "*   h es la constante de Planck\n",
        "*   f es la frecuencia de la luz incidente.\n",
        "* ϕ es la función de trabajo del material, en este caso, potasio.\n",
        "\n",
        "*   $K_{max}$  es la energía cinética máxima del electrón liberado.\n"
      ],
      "metadata": {
        "id": "QwnY7krLMK01"
      }
    },
    {
      "cell_type": "markdown",
      "source": [
        "La relación entre la frecuencia f y la longitud de onda λ es:\n",
        "$$f = \\frac{c}{λ}$$\n",
        "\n",
        "Cuando se usa la longitud de onda mínima para arrancar un electrón, $K_{max}$ es 0.\n",
        "\n",
        "Entonces nos queda la siguiente formula:\n",
        "$$ ϕ = h*\\frac{c}{λ}$$\n"
      ],
      "metadata": {
        "id": "LE-lWgevNLZC"
      }
    },
    {
      "cell_type": "code",
      "source": [
        "phi = (h *c)/564e-9#longitud de onda en metros\n",
        "print(f\"Función de trabajo del potasio: {phi} J\")"
      ],
      "metadata": {
        "id": "fbowC0uEOMx-",
        "outputId": "5cfafad9-b43a-4005-bc8c-f66e11cdf559",
        "colab": {
          "base_uri": "https://localhost:8080/"
        }
      },
      "execution_count": null,
      "outputs": [
        {
          "output_type": "stream",
          "name": "stdout",
          "text": [
            "Función de trabajo del potasio: 3.522067122604483e-19 J\n"
          ]
        }
      ]
    },
    {
      "cell_type": "markdown",
      "source": [
        "Al iluminar la placa con luz de 400nm, determinamos el potencial de detencion con $K_{max} = e * V$ y la ecuacion del efecto fotoeléctrico se convierte en:\n",
        "$$ h* f_{400nm} = ϕ + e * V $$ y esto en : $$V = \\frac{h*f_{400nm}-ϕ}{e}$$"
      ],
      "metadata": {
        "id": "QP4vDdFuPwzt"
      }
    },
    {
      "cell_type": "code",
      "source": [
        "v = (h*(c/400e-9)-phi)/(electron_mass)\n",
        "print(f\"Potencial de detención: {v} V\")"
      ],
      "metadata": {
        "id": "2Vzi5ZbRPIB6",
        "outputId": "371652a7-7350-4c40-c5a7-1ae77bdca060",
        "colab": {
          "base_uri": "https://localhost:8080/"
        }
      },
      "execution_count": null,
      "outputs": [
        {
          "output_type": "stream",
          "name": "stdout",
          "text": [
            "Potencial de detención: 158523075499.6141 V\n"
          ]
        }
      ]
    },
    {
      "cell_type": "markdown",
      "source": [
        "### **Ejercicio 13:                                                     Describir los siguientes experimentos y explicar cómo contribuyeron al desarrollo de la teoría cuántica**\n",
        "---"
      ],
      "metadata": {
        "id": "PXCXxvKaPmlk"
      }
    },
    {
      "cell_type": "markdown",
      "source": [
        "#### **a)El Experimento de Stern-Gerlach**\n",
        "---"
      ],
      "metadata": {
        "id": "n3fYyEbrQDej"
      }
    },
    {
      "cell_type": "markdown",
      "source": [
        "#### **b)El Efecto Compton**\n",
        "---"
      ],
      "metadata": {
        "id": "TdpoXhVjQRwz"
      }
    },
    {
      "cell_type": "markdown",
      "source": [
        "#### **c)El Efecto fotoeléctrico**\n",
        "---"
      ],
      "metadata": {
        "id": "F_5tS4klQTkb"
      }
    },
    {
      "cell_type": "markdown",
      "source": [
        "## **La Ecuación de Schrödinger**\n",
        "---"
      ],
      "metadata": {
        "id": "QuyPUuHvQbQk"
      }
    },
    {
      "cell_type": "markdown",
      "source": [
        "### **Ejercicio 14: Dadas las funciones:**\n",
        "\\begin{align*}\n",
        "a) \\ \\psi(x) &= x \\\\\n",
        "b) \\ \\phi(x) &= e^{-x^2}\n",
        "\\end{align*}\n",
        "\\begin{align*}\n",
        "\\text{definidas en el intervalo } 0 \\leq x \\leq  \\infty. \\text{ Comprobar si pueden ser funciones de onda.}\n",
        "\\end{align*}\n",
        "\n",
        "---"
      ],
      "metadata": {
        "id": "BCrKJkiAQojj"
      }
    },
    {
      "cell_type": "code",
      "source": [],
      "metadata": {
        "id": "njwtPLlecY2r"
      },
      "execution_count": 58,
      "outputs": []
    },
    {
      "cell_type": "markdown",
      "source": [
        "### **Ejercicio 15:**\n",
        "\n",
        "La función de onda para una partícula confinada en el intervalo **0 ≤ x ≤ a** en el estado fundamental es:\n",
        "\n",
        "$$\n",
        "\\psi(x) = A \\cdot \\sin\\left(\\frac{\\pi x}{a}\\right)\n",
        "$$\n",
        "\n",
        "donde A es la constante de normalización. Encontrar:\n",
        "\n",
        "---\n",
        "\n"
      ],
      "metadata": {
        "id": "ZGjWwzpoRTbS"
      }
    },
    {
      "cell_type": "markdown",
      "source": [
        "#### **a) Encontrar el valor de A**\n",
        "---"
      ],
      "metadata": {
        "id": "F8O9kR0lT14Q"
      }
    },
    {
      "cell_type": "code",
      "source": [
        "from sympy import symbols, integrate, sin, pi, solve, sqrt"
      ],
      "metadata": {
        "id": "VBdFnfIEjIds"
      },
      "execution_count": 60,
      "outputs": []
    },
    {
      "cell_type": "markdown",
      "source": [
        "Definimos las variables que vamos a usar:"
      ],
      "metadata": {
        "id": "j2LdMJGdi9QU"
      }
    },
    {
      "cell_type": "code",
      "source": [
        "A, x, a = symbols('A x a')"
      ],
      "metadata": {
        "id": "FSsFrYRzi63F"
      },
      "execution_count": 61,
      "outputs": []
    },
    {
      "cell_type": "markdown",
      "source": [
        "Definimos la función de onda:"
      ],
      "metadata": {
        "id": "F7NOPupojBmt"
      }
    },
    {
      "cell_type": "code",
      "source": [
        "psi = A * sin(pi*x/a)"
      ],
      "metadata": {
        "id": "4cKYszwfjBWc"
      },
      "execution_count": 62,
      "outputs": []
    },
    {
      "cell_type": "code",
      "source": [
        "integrand = (psi**2).integrate((x, 0, a))"
      ],
      "metadata": {
        "id": "dWld0j2VjcPo"
      },
      "execution_count": 63,
      "outputs": []
    },
    {
      "cell_type": "code",
      "source": [
        "integrand"
      ],
      "metadata": {
        "id": "MWdHeb2RjiD8",
        "outputId": "fc2da122-b01a-4bb2-bd19-58648725c290",
        "colab": {
          "base_uri": "https://localhost:8080/",
          "height": 68
        }
      },
      "execution_count": 64,
      "outputs": [
        {
          "output_type": "execute_result",
          "data": {
            "text/plain": [
              "Piecewise((A**2*a/2, (a > -oo) & (a < oo) & Ne(a, 0)), (0, True))"
            ],
            "text/latex": "$\\displaystyle \\begin{cases} \\frac{A^{2} a}{2} & \\text{for}\\: a > -\\infty \\wedge a < \\infty \\wedge a \\neq 0 \\\\0 & \\text{otherwise} \\end{cases}$"
          },
          "metadata": {},
          "execution_count": 64
        }
      ]
    },
    {
      "cell_type": "code",
      "source": [
        "# Resolver para A\n",
        "A_value = solve(integrand -1, A)[0]# -1 ya que el resultado tiene que ser = 1 y para resolver esta ecuacion haciendo eso la igualamos a 0\n",
        "A_value"
      ],
      "metadata": {
        "id": "LYQzEYgbhqfv",
        "outputId": "7a28ac6f-b4ea-4351-dd45-7cbd4d3a87fd",
        "colab": {
          "base_uri": "https://localhost:8080/",
          "height": 73
        }
      },
      "execution_count": 66,
      "outputs": [
        {
          "output_type": "execute_result",
          "data": {
            "text/plain": [
              "Piecewise((-sqrt(2)*sqrt(1/a), (a > -oo) & (a < oo) & Ne(a, 0)), (nan, True))"
            ],
            "text/latex": "$\\displaystyle \\begin{cases} - \\sqrt{2} \\sqrt{\\frac{1}{a}} & \\text{for}\\: a > -\\infty \\wedge a < \\infty \\wedge a \\neq 0 \\\\\\text{NaN} & \\text{otherwise} \\end{cases}$"
          },
          "metadata": {},
          "execution_count": 66
        }
      ]
    },
    {
      "cell_type": "markdown",
      "source": [
        "#### b) **Calcular la probabilidad de que la partícula se encuentre en el intervalo**\n",
        "$$\n",
        " \\frac{a}{2} \\leq x \\leq \\frac{3a}{4}\n",
        "$$\n",
        "\n",
        "---"
      ],
      "metadata": {
        "id": "Fe8R_Yq2T85J"
      }
    },
    {
      "cell_type": "markdown",
      "source": [
        "Sabiendo que  $A = -\\sqrt{\\frac{2}{a}} $\n",
        "\n",
        "Entonces:\n",
        "\n",
        "$|\\psi(x)|^2 = \\frac{2}{a} \\sin^2\\left(\\frac{\\pi x}{a}\\right)$\n"
      ],
      "metadata": {
        "id": "qR8cpWCmmv7D"
      }
    },
    {
      "cell_type": "markdown",
      "source": [
        "Definir la función de onda con la constante de normalización ya encontrada"
      ],
      "metadata": {
        "id": "ZeOdjT_uoIsx"
      }
    },
    {
      "cell_type": "code",
      "source": [
        "psi_normalized = sqrt(2/a) * sin(pi*x/a)"
      ],
      "metadata": {
        "id": "HRfYBT83oGTI"
      },
      "execution_count": 68,
      "outputs": []
    },
    {
      "cell_type": "markdown",
      "source": [
        "Densidad de probabilidad"
      ],
      "metadata": {
        "id": "Khqphl24oMfw"
      }
    },
    {
      "cell_type": "code",
      "source": [
        "probability_density = psi_normalized**2"
      ],
      "metadata": {
        "id": "LUj6DXw3oKqg"
      },
      "execution_count": 69,
      "outputs": []
    },
    {
      "cell_type": "code",
      "source": [
        "probability_density"
      ],
      "metadata": {
        "id": "LVsZrNsioSXB",
        "outputId": "8108d043-d48d-4b65-c7d0-6fd5bac2de79",
        "colab": {
          "base_uri": "https://localhost:8080/",
          "height": 56
        }
      },
      "execution_count": 70,
      "outputs": [
        {
          "output_type": "execute_result",
          "data": {
            "text/plain": [
              "2*sin(pi*x/a)**2/a"
            ],
            "text/latex": "$\\displaystyle \\frac{2 \\sin^{2}{\\left(\\frac{\\pi x}{a} \\right)}}{a}$"
          },
          "metadata": {},
          "execution_count": 70
        }
      ]
    },
    {
      "cell_type": "markdown",
      "source": [
        "Integramos en el intervalo [a/2, 3a/4]"
      ],
      "metadata": {
        "id": "U4Vv5421oYVo"
      }
    },
    {
      "cell_type": "code",
      "source": [
        "probability = integrate(probability_density, (x, a/2, (3*a)/4))"
      ],
      "metadata": {
        "id": "04fw9v4WocX6"
      },
      "execution_count": 73,
      "outputs": []
    },
    {
      "cell_type": "code",
      "source": [
        "probability"
      ],
      "metadata": {
        "id": "4K79cA4Rn-Wp",
        "outputId": "d6275b6e-915a-4215-9edc-24fd251bf108",
        "colab": {
          "base_uri": "https://localhost:8080/",
          "height": 71
        }
      },
      "execution_count": 74,
      "outputs": [
        {
          "output_type": "execute_result",
          "data": {
            "text/plain": [
              "Piecewise((-1/2 + 2*(1/4 + 3*pi/8)/pi, (a > -oo) & (a < oo) & Ne(a, 0)), (0, True))"
            ],
            "text/latex": "$\\displaystyle \\begin{cases} - \\frac{1}{2} + \\frac{2 \\cdot \\left(\\frac{1}{4} + \\frac{3 \\pi}{8}\\right)}{\\pi} & \\text{for}\\: a > -\\infty \\wedge a < \\infty \\wedge a \\neq 0 \\\\0 & \\text{otherwise} \\end{cases}$"
          },
          "metadata": {},
          "execution_count": 74
        }
      ]
    },
    {
      "cell_type": "markdown",
      "source": [
        "### **Ejercicio 16: Dada una partícula cuya función de onda es de la forma: $\\psi(x,t) = \\phi(x) \\chi(t) $ y sometida a un potencial $ V(x) :$**\n",
        "---\n"
      ],
      "metadata": {
        "id": "WLOiHSQhVAzl"
      }
    },
    {
      "cell_type": "markdown",
      "source": [
        "#### **a) Demostrar que la parte temporal es del tipo  $\\chi(t) = Ae^{i\\omega t} $ siendo  A una constante**\n",
        "---\n",
        "\n",
        "\n"
      ],
      "metadata": {
        "id": "y7VSFl_sWN6l"
      }
    },
    {
      "cell_type": "markdown",
      "source": [
        "#### **b) Demostrar que la parte espacial $ \\phi(x) $ verifica la ecuación de Schrödinger independiente del tiempo con $ E = \\hbar \\omega $, es decir: $$\\frac{-\\hbar^2}{2m} \\frac{d^2\\phi(x)}{dx^2} + V(x)\\phi(x) = \\hbar\\omega\\phi(x) $$**\n",
        "---\n",
        "\n"
      ],
      "metadata": {
        "id": "qELup1UGWUlW"
      }
    },
    {
      "cell_type": "markdown",
      "source": [
        "#### **c) Demostrar que la densidad de probabilidad de esta función de onda es independiente del tiempo.**\n",
        "---"
      ],
      "metadata": {
        "id": "VCeiW5bGXAG9"
      }
    },
    {
      "cell_type": "markdown",
      "source": [
        "### **Ejercicio 17:**\n",
        "\n",
        "**Una partícula viene descrita por la siguiente función de onda:**\n",
        "$$\n",
        "\\psi(x,t) = \\sqrt{\\frac{1}{a}} \\sin\\left(\\frac{\\pi x}{a}\\right) e^{-iE_1t/\\hbar} + \\sqrt{\\frac{1}{a}} \\sin\\left(\\frac{2\\pi x}{a}\\right) e^{-iE_2t/\\hbar}\n",
        "$$\n",
        "\n",
        "**Encontrar la corriente de probabilidad para este sistema.**\n",
        "\n",
        "---"
      ],
      "metadata": {
        "id": "FtEmDIPmYaG1"
      }
    },
    {
      "cell_type": "markdown",
      "source": [
        "###**Ejercicio 18:**\n",
        "\n",
        "Encontrar el valor $Δ x \\Delta p$ para una partícula de masa \\(m\\) que se encuentra confinada en una caja de potencial en su estado fundamental. Su función de onda en estas condiciones es:\n",
        "$$\n",
        "\\psi(x) = \\sqrt{\\frac{2}{a}} \\sin\\left(\\frac{\\pi x}{a}\\right)\n",
        "$$\n",
        "\n",
        "---"
      ],
      "metadata": {
        "id": "7jWCz2VsYyJ7"
      }
    },
    {
      "cell_type": "markdown",
      "source": [
        "### **Ejercicio 19:**\n",
        "La masa de una bala es de 50g y la de un electrón es de $(9,1 \\times 10^{-28}g)$. Para ambos se mide una velocidad de \\(300 m/s\\) con una incertidumbre del \\(0,01\\%\\).\n",
        "\n",
        "Calcula la exactitud con la que puede medirse la posición de la bala y la del electrón si tanto velocidad como posición se miden de forma simultánea en el mismo experimento.\n",
        "\n",
        "---\n"
      ],
      "metadata": {
        "id": "yHyiU5EuZe2r"
      }
    },
    {
      "cell_type": "markdown",
      "source": [
        "### **Ejercicio 20:**\n",
        "Calcular los valores esperados $(<x>)$ y $(<p>)$ para una partícula confinada en una caja unidimensional de longitud $(0 \\leq x \\leq a)$ que se encuentra en su estado fundamental descrito por la función de onda:\n",
        "$$\n",
        "\\psi(x) = \\sqrt{\\frac{2}{a}} \\sin\\left(\\frac{\\pi x}{a}\\right)\n",
        "$$\n",
        "\n",
        "---"
      ],
      "metadata": {
        "id": "sDiCl8cdZuyd"
      }
    },
    {
      "cell_type": "markdown",
      "source": [
        "### **Ejercicio 21:**\n",
        "Hallar el valor esperado de la posición de un oscilador armónico cuántico en el estado fundamental.\n",
        "\n",
        "---"
      ],
      "metadata": {
        "id": "lKYQO0JEaCoM"
      }
    }
  ]
}