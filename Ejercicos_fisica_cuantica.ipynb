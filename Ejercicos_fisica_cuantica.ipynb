{
  "nbformat": 4,
  "nbformat_minor": 0,
  "metadata": {
    "colab": {
      "provenance": [],
      "authorship_tag": "ABX9TyMWgclgjWRpfDB9S34EimRF",
      "include_colab_link": true
    },
    "kernelspec": {
      "name": "python3",
      "display_name": "Python 3"
    },
    "language_info": {
      "name": "python"
    }
  },
  "cells": [
    {
      "cell_type": "markdown",
      "metadata": {
        "id": "view-in-github",
        "colab_type": "text"
      },
      "source": [
        "<a href=\"https://colab.research.google.com/github/aitormorais/Ejercicios_fisica/blob/main/Ejercicos_fisica_cuantica.ipynb\" target=\"_parent\"><img src=\"https://colab.research.google.com/assets/colab-badge.svg\" alt=\"Open In Colab\"/></a>"
      ]
    },
    {
      "cell_type": "code",
      "source": [
        "from sympy import symbols, integrate, sin, pi, solve, sqrt,diff,simplify,I\n",
        "from scipy.integrate import quad\n",
        "import numpy as np\n",
        "from scipy import constants as const\n",
        "import sympy as sp\n",
        "from scipy.constants import h, c, Rydberg,electron_mass\n"
      ],
      "metadata": {
        "id": "H1wqsAq3s-D3"
      },
      "execution_count": 63,
      "outputs": []
    },
    {
      "cell_type": "markdown",
      "source": [
        "# Física\n",
        "\n",
        "---\n",
        "\n"
      ],
      "metadata": {
        "id": "NcfG63U0qvi9"
      }
    },
    {
      "cell_type": "markdown",
      "source": [
        "## Teoria cuántica antigua\n",
        "---"
      ],
      "metadata": {
        "id": "tnkemLQ4fyHN"
      }
    },
    {
      "cell_type": "markdown",
      "source": [
        "### **Ejercicio 1: Aplicando la Ley del desplazamiento de Wien, calcúlese las longitudes de onda de mayor energía a la temperatura de:**\n",
        "\n",
        "---\n",
        "a) 10^6 K\n",
        "\n",
        "b) 10^3 K\n",
        "\n"
      ],
      "metadata": {
        "id": "LynVScFCO_6F"
      }
    },
    {
      "cell_type": "markdown",
      "source": [
        "Definimos la constante de desplazamiento de Wien:"
      ],
      "metadata": {
        "id": "w_6t9--HPbhy"
      }
    },
    {
      "cell_type": "code",
      "execution_count": null,
      "metadata": {
        "id": "GZj-W4TkOwjt"
      },
      "outputs": [],
      "source": [
        "b = 2.8976e-3"
      ]
    },
    {
      "cell_type": "markdown",
      "source": [
        "Calculamos longitud de onda para a) 10^6 K"
      ],
      "metadata": {
        "id": "ZtX0ZU1bPoTe"
      }
    },
    {
      "cell_type": "code",
      "source": [
        "T1=1e6\n",
        "lambda1 = b/T1"
      ],
      "metadata": {
        "id": "RWI4epuOPq8s"
      },
      "execution_count": null,
      "outputs": []
    },
    {
      "cell_type": "markdown",
      "source": [
        "Calculamos longitud de onda para b) 10^3 K"
      ],
      "metadata": {
        "id": "IFrwNmBPP3p0"
      }
    },
    {
      "cell_type": "code",
      "source": [
        "T2= 1e3\n",
        "lambda2 =b/T2"
      ],
      "metadata": {
        "id": "LFTIUPW6P3RW"
      },
      "execution_count": null,
      "outputs": []
    },
    {
      "cell_type": "markdown",
      "source": [
        "Resultado"
      ],
      "metadata": {
        "id": "WWMMwHwNQBBN"
      }
    },
    {
      "cell_type": "code",
      "source": [
        "print(f\"Longitud de onda para 10^6 K: { lambda1 } m\")"
      ],
      "metadata": {
        "colab": {
          "base_uri": "https://localhost:8080/"
        },
        "id": "tkog1RAwQCjF",
        "outputId": "899ae8df-71a4-4b9f-d45a-033c6740507e"
      },
      "execution_count": null,
      "outputs": [
        {
          "output_type": "stream",
          "name": "stdout",
          "text": [
            "Longitud de onda para 10^6 K: 2.8976e-09 m\n"
          ]
        }
      ]
    },
    {
      "cell_type": "code",
      "source": [
        "print(f\"Longitud de onda para 10^6 K: {lambda2} m\")"
      ],
      "metadata": {
        "colab": {
          "base_uri": "https://localhost:8080/"
        },
        "id": "fwSUWbfRQRyW",
        "outputId": "326d3426-acaa-473a-a8a8-1d97e616e3e3"
      },
      "execution_count": null,
      "outputs": [
        {
          "output_type": "stream",
          "name": "stdout",
          "text": [
            "Longitud de onda para 10^6 K: 2.8976e-06 m\n"
          ]
        }
      ]
    },
    {
      "cell_type": "markdown",
      "source": [
        "### **Ejercicio 2:                                                            Las estrellas enanas blancas tienen una temperatura superficial de unos 10^4 K ¿Cuál es la longitudde onda máxima λ máx correspondiente a esa temperatura según la ley de Wien?**\n",
        "\n",
        "---"
      ],
      "metadata": {
        "id": "ObKUgCrLaBw-"
      }
    },
    {
      "cell_type": "code",
      "source": [
        "#sabiendo que λ = b/T\n",
        "resultado = b/(1e4)\n",
        "print(f\"La longitud de onda correspondiente es: {resultado} m\")"
      ],
      "metadata": {
        "colab": {
          "base_uri": "https://localhost:8080/"
        },
        "id": "FgrXSTIUaext",
        "outputId": "3feec400-53b7-4558-8af5-a9f6434f2dfe"
      },
      "execution_count": null,
      "outputs": [
        {
          "output_type": "stream",
          "name": "stdout",
          "text": [
            "La longitud de onda correspondiente es: 2.8976e-07 m\n"
          ]
        }
      ]
    },
    {
      "cell_type": "markdown",
      "source": [
        "### **Ejercicio 3:  El sol tiene su máxima emisión de energía a una longitud de onda de 4,75·(10^-7) m. Considerando que el espectro de radiación del sol es como el de un cuerpo negro. Calcular la temperatura en la superficie del sol**\n",
        "---"
      ],
      "metadata": {
        "id": "WXDUDXs2bRTF"
      }
    },
    {
      "cell_type": "code",
      "source": [
        "res = b/4.75e-7"
      ],
      "metadata": {
        "id": "MZ_ShE_hcGQB"
      },
      "execution_count": null,
      "outputs": []
    },
    {
      "cell_type": "code",
      "source": [
        "print(f\"La temperatura de la superfice del sol es {res} K\")"
      ],
      "metadata": {
        "colab": {
          "base_uri": "https://localhost:8080/"
        },
        "id": "EvM019wlcoTM",
        "outputId": "9fa81f8b-40c6-4f45-fcfe-8b754642654c"
      },
      "execution_count": null,
      "outputs": [
        {
          "output_type": "stream",
          "name": "stdout",
          "text": [
            "La temperatura de la superfice del sol es 6100.21052631579 K\n"
          ]
        }
      ]
    },
    {
      "cell_type": "markdown",
      "source": [
        "### **Ejercicio 4:Explicar en que consiste “La Catástrofe Ultravioleta”**\n",
        "---"
      ],
      "metadata": {
        "id": "naKTCWF2dg3r"
      }
    },
    {
      "cell_type": "markdown",
      "source": [
        "La \"Catástrofe Ultravioleta\" se refiere a un problema que surgió a finales del siglo XIX y principios del siglo XX cuando los físicos intentaban explicar la radiación de cuerpo negro, que es la luz emitida por un objeto ideal que absorbe toda la radiación que incide sobre él.\n",
        "\n",
        "Según la física clásica, la ley de Rayleigh-Jeans predecía que la energía radiada por un cuerpo negro a altas frecuencias (en la región del ultravioleta) debería ser infinitamente grande, lo que obviamente no concordaba con las observaciones experimentales. Se esperaba que la energía radiada por el cuerpo negro aumentara sin límite a medida que la frecuencia de la luz se incrementaba, resultando en una cantidad infinita de energía radiada en el rango ultravioleta, lo cual era absurdo y no se observaba en la naturaleza.\n",
        "\n",
        "El problema fue resuelto por Max Planck con la introducción de la teoría cuántica, que proponía que la energía se emite en paquetes discretos llamados cuantos. Planck mostró que la energía de estos cuantos era proporcional a la frecuencia de la radiación, lo que limitaba la cantidad de energía emitida a altas frecuencias y resultaba en una predicción que coincidía con los resultados experimentales. Esto marcó el nacimiento de la mecánica cuántica y fue un paso fundamental en la historia de la física."
      ],
      "metadata": {
        "id": "WmFrX0vAnIu1"
      }
    },
    {
      "cell_type": "markdown",
      "source": [
        "## El Átomo de Bohr\n",
        "---"
      ],
      "metadata": {
        "id": "P_Lcuh47gQCG"
      }
    },
    {
      "cell_type": "markdown",
      "source": [
        "### **Ejercicio 5: Determinar la energía y la longitud de onda λ de la raya espectral que tiene la longitud de onda más larga de la serie de Lyman**\n",
        "---\n"
      ],
      "metadata": {
        "id": "niCAhBlrgrtO"
      }
    },
    {
      "cell_type": "markdown",
      "source": [
        "La formula de la serie lyman es: $(1/λ) = R ((1/(n_1)\n",
        "^2) - (1/(n_2)^2))$\n",
        "Donde:\n",
        "\n",
        "*   R es la constante de Rydberg\n",
        "*   n_1 y n_2  son los niveles de energia inicial y final\n",
        "\n"
      ],
      "metadata": {
        "id": "szKq9Mhyhxpz"
      }
    },
    {
      "cell_type": "markdown",
      "source": [
        "Definimos las constantes"
      ],
      "metadata": {
        "id": "yw9xHLyHlTh4"
      }
    },
    {
      "cell_type": "code",
      "source": [
        "R = Rydberg  # m^-1, Constante de Rydberg\n",
        "h = h  # J s, Constante de Planck\n",
        "c = c  # m/s, Velocidad de la luz"
      ],
      "metadata": {
        "id": "jlZXEWPqlW1X"
      },
      "execution_count": null,
      "outputs": []
    },
    {
      "cell_type": "markdown",
      "source": [
        "Calculamos la longitud de onda para n = 2"
      ],
      "metadata": {
        "id": "eFcJ96MnlbJv"
      }
    },
    {
      "cell_type": "markdown",
      "source": [
        "Cálculo longitud de onda"
      ],
      "metadata": {
        "id": "Zn6acQeZn2HU"
      }
    },
    {
      "cell_type": "code",
      "source": [
        "n = 2\n",
        "lambda_inverse = R * (1/1**2 - 1/n**2)\n",
        "lambda_lyman = 1/lambda_inverse"
      ],
      "metadata": {
        "id": "jQsSE3cVoADT"
      },
      "execution_count": null,
      "outputs": []
    },
    {
      "cell_type": "markdown",
      "source": [
        "Cálculo de la energía"
      ],
      "metadata": {
        "id": "zidsSqO2oAVp"
      }
    },
    {
      "cell_type": "code",
      "source": [
        "E = h * c * lambda_inverse"
      ],
      "metadata": {
        "id": "GoCgmsfgoA3a"
      },
      "execution_count": null,
      "outputs": []
    },
    {
      "cell_type": "markdown",
      "source": [
        "Resultados"
      ],
      "metadata": {
        "id": "DbVjG9aaoF78"
      }
    },
    {
      "cell_type": "code",
      "source": [
        "print(f\"Longitud de onda de la raya espectral más larga de la serie de Lyman: {lambda_lyman} m\")\n",
        "print(f\"Energía de la raya espectral más larga de la serie de Lyman: {E} J\")"
      ],
      "metadata": {
        "colab": {
          "base_uri": "https://localhost:8080/"
        },
        "id": "mqQtUfiqjuHz",
        "outputId": "4e14c166-d68c-48a3-d378-58a1aab563b8"
      },
      "execution_count": null,
      "outputs": [
        {
          "output_type": "stream",
          "name": "stdout",
          "text": [
            "Longitud de onda de la raya espectral más larga de la serie de Lyman: 1.2150227341098497e-07 m\n",
            "Energía de la raya espectral más larga de la serie de Lyman: 1.6349042708276885e-18 J\n"
          ]
        }
      ]
    },
    {
      "cell_type": "markdown",
      "source": [
        "### **Ejercicio 6 : Haciendo uso de la fórmula de Rydberg obtener las 4 líneas menos energéticas del espectro del átomo de hidrógeno**\n",
        "---"
      ],
      "metadata": {
        "id": "dNfUpva8Owmu"
      }
    },
    {
      "cell_type": "markdown",
      "source": [
        "Función para calcular la longitud de onda utilizando la fórmula de Rydberg"
      ],
      "metadata": {
        "id": "hSRf-i3kdEK4"
      }
    },
    {
      "cell_type": "code",
      "source": [
        "def calcular_longitud_de_onda(n1, n2):\n",
        "    return 1 / (R * (1/n1**2 - 1/n2**2)) * 1e9 #convertir a nm"
      ],
      "metadata": {
        "id": "f_ADxd97dAbg"
      },
      "execution_count": null,
      "outputs": []
    },
    {
      "cell_type": "code",
      "source": [
        "# Cálculo de las longitudes de onda para n1=2 y n2 variando de 3 a 6\n",
        "longitudes_de_onda = [calcular_longitud_de_onda(2, n2) for n2 in range(3, 7)]"
      ],
      "metadata": {
        "id": "_pIlJJrbdN2D"
      },
      "execution_count": null,
      "outputs": []
    },
    {
      "cell_type": "code",
      "source": [
        "for i in longitudes_de_onda: print(f\"{i} nm\")\n"
      ],
      "metadata": {
        "id": "fnL3OySndUjA",
        "outputId": "ef318cc9-43d6-4794-b8fb-bd84de73ada2",
        "colab": {
          "base_uri": "https://localhost:8080/"
        }
      },
      "execution_count": null,
      "outputs": [
        {
          "output_type": "stream",
          "name": "stdout",
          "text": [
            "656.112276419319 nm\n",
            "486.0090936439399 nm\n",
            "433.93669075351784 nm\n",
            "410.0701727620744 nm\n"
          ]
        }
      ]
    },
    {
      "cell_type": "markdown",
      "source": [
        "### **Ejercicio 7:**\n",
        "**Utilizar el átomo de Borh para explicar el principio de correspondencia**\n",
        "\n",
        "---"
      ],
      "metadata": {
        "id": "25o_CCezO7vV"
      }
    },
    {
      "cell_type": "markdown",
      "source": [
        "\n",
        "El átomo de Bohr, un modelo del átomo propuesto por Niels Bohr, es una representación temprana de la mecánica cuántica y puede usarse para ilustrar el principio de correspondencia. En este modelo, los electrones orbitan el núcleo en órbitas circulares discretas sin emitir radiación, a diferencia de las predicciones de la física clásica, que dirían que un electrón en una órbita circular debería irradiar energía continuamente y espiral hacia el núcleo.\n",
        "\n",
        "En el átomo de Bohr, las transiciones entre órbitas estacionarias ocurren con la emisión o absorción de fotones con energías específicas. Estas energías están cuantizadas y corresponden a la diferencia de energía entre los niveles de órbita.\n",
        "\n",
        "El principio de correspondencia se manifiesta de la siguiente manera:\n",
        "\n",
        "1. **Transiciones de Baja Energía (Pequeños Números Cuánticos):** Para transiciones entre niveles con números cuánticos bajos (es decir, cercanos al núcleo), la energía de los fotones emitidos es significativamente cuantizada, lo cual es un comportamiento puramente cuántico.\n",
        "\n",
        "2. **Transiciones de Alta Energía (Grandes Números Cuánticos):** Para transiciones entre niveles con números cuánticos muy altos (donde la diferencia de energía entre los niveles consecutivos es muy pequeña), la energía de los fotones emitidos se acerca a un espectro continuo, que es lo que se esperaría según la física clásica.\n"
      ],
      "metadata": {
        "id": "cy6x-B3JoCOG"
      }
    },
    {
      "cell_type": "markdown",
      "source": [
        "### **Ejercicio 8: Describir los conceptos de cuantización que aparecen en los postulados de Bohr para explicar el átomo de hidrógeno**\n",
        "---"
      ],
      "metadata": {
        "id": "9IVNer_oPJ24"
      }
    },
    {
      "cell_type": "markdown",
      "source": [
        "Los postulados de Bohr introdujeron conceptos de cuantización para explicar la estructura del átomo de hidrógeno, que eran revolucionarios en el momento de su propuesta en 1913. Estos conceptos incluyen:\n",
        "\n",
        "* Órbitas Cuantizadas: Bohr postuló que los electrones solo pueden ocupar ciertas órbitas estacionarias alrededor del núcleo sin radiar energía. Estas órbitas están cuantizadas, es decir, solo ciertos valores de radio son permitidos, y cada uno corresponde a un nivel de energía fijo.\n",
        "\n",
        "* Cuantización del Momento Angular: Según Bohr, el momento angular de un electrón en una órbita permitida está cuantizado y es un múltiplo entero de $ \\hbar/2\\pi $, donde $ \\hbar $ es la constante de Planck reducida. Es decir, $ L = n\\hbar $ donde $ n $ es el número cuántico principal.\n",
        "\n",
        "* Transiciones y Foton Emisión/Absorción: Bohr también postuló que un electrón puede hacer una transición entre dos órbitas estacionarias. Al hacerlo, la diferencia de energía entre las órbitas se emite o se absorbe en forma de un fotón con una energía $ E = h\\nu $, donde $ h $ es la constante de Planck y $ \\nu $ es la frecuencia del fotón. Esto significa que la energía radiada o absorbida está también cuantizada.\n",
        "\n",
        "* Frecuencias de Espectros: El modelo explicaba las líneas espectrales observadas para el átomo de hidrógeno. Las frecuencias de las líneas espectrales están determinadas por la diferencia de energía entre las órbitas cuantizadas, lo que concuerda con la fórmula de Rydberg y la serie de Balmer observada experimentalmente para el hidrógeno.\n",
        "\n",
        "\n",
        "\n",
        "\n"
      ],
      "metadata": {
        "id": "SmRA0x--ocZ_"
      }
    },
    {
      "cell_type": "markdown",
      "source": [
        "## Dualidad Onda-Corpúsculo\n",
        "---"
      ],
      "metadata": {
        "id": "DBi00Vp0PWok"
      }
    },
    {
      "cell_type": "markdown",
      "source": [
        "### **Ejercicio : 9**\n",
        "\n",
        "**Una onda electromagnética plana se desplaza en el vacío en el sentido positivo del eje OX, con una frecuencia de 2·108 Hz. Calcular la longitud de onda y el periodo.**\n",
        "\n",
        "---"
      ],
      "metadata": {
        "id": "VWMCYV9_PcYd"
      }
    },
    {
      "cell_type": "code",
      "source": [
        "frecuencia = 2*108 #HZ"
      ],
      "metadata": {
        "id": "K47h4DQ_iMwk"
      },
      "execution_count": null,
      "outputs": []
    },
    {
      "cell_type": "markdown",
      "source": [
        "Cálculo de la longitud de onda"
      ],
      "metadata": {
        "id": "2-y63lfHjW1q"
      }
    },
    {
      "cell_type": "code",
      "source": [
        "longitud_de_onda = c / frecuencia"
      ],
      "metadata": {
        "id": "90bQj41wjOZM"
      },
      "execution_count": null,
      "outputs": []
    },
    {
      "cell_type": "markdown",
      "source": [
        "Cálculo del periodo"
      ],
      "metadata": {
        "id": "uPRAUu5ljcmS"
      }
    },
    {
      "cell_type": "code",
      "source": [
        "periodo = 1 / frecuencia"
      ],
      "metadata": {
        "id": "-LQ3eeagjfzb"
      },
      "execution_count": null,
      "outputs": []
    },
    {
      "cell_type": "code",
      "source": [
        "print(f'Longitud de onda: {longitud_de_onda} m')\n",
        "print(f'Periodo: {periodo} s')"
      ],
      "metadata": {
        "id": "sBw0b_tQjzFK",
        "outputId": "432234c7-0c01-4d7c-938a-a790cd1404fe",
        "colab": {
          "base_uri": "https://localhost:8080/"
        }
      },
      "execution_count": null,
      "outputs": [
        {
          "output_type": "stream",
          "name": "stdout",
          "text": [
            "Longitud de onda: 1387928.0462962964 m\n",
            "Periodo: 0.004629629629629629 s\n"
          ]
        }
      ]
    },
    {
      "cell_type": "markdown",
      "source": [
        "### **Ejercicio : 10**\n",
        "**Calcular la energía de los fotones correspondientes a los extremos, violeta y rojo, del espectro visible (400nm y 700nm)**\n",
        "\n",
        "---"
      ],
      "metadata": {
        "id": "VSv7ZYfsPlHk"
      }
    },
    {
      "cell_type": "markdown",
      "source": [
        "Convertimos las longitudes de ondas a metros"
      ],
      "metadata": {
        "id": "HwllRAkDkgrp"
      }
    },
    {
      "cell_type": "code",
      "source": [
        "lambda_violeta=400e-9\n",
        "lambda_rojo=700e-9"
      ],
      "metadata": {
        "id": "zfAJc3LtkU9p"
      },
      "execution_count": null,
      "outputs": []
    },
    {
      "cell_type": "markdown",
      "source": [
        "Calculamos la energia $E = \\frac{hc}{λ}$"
      ],
      "metadata": {
        "id": "x720CAS4kqA4"
      }
    },
    {
      "cell_type": "code",
      "source": [
        "E_violeta = (h*c)/lambda_violeta\n",
        "E_rojo = (h*c)/lambda_rojo"
      ],
      "metadata": {
        "id": "yKszNLnekpnh"
      },
      "execution_count": null,
      "outputs": []
    },
    {
      "cell_type": "markdown",
      "source": [
        "Resultado"
      ],
      "metadata": {
        "id": "2w1MULx5l0df"
      }
    },
    {
      "cell_type": "code",
      "source": [
        "print(f'Energía del fotón violeta: {E_violeta} Joules')\n",
        "print(f'Energía del fotón rojo: {E_rojo} Joules')"
      ],
      "metadata": {
        "id": "hEjnXrhqlwPz",
        "outputId": "b2373664-bd43-46bb-923a-461503e3685f",
        "colab": {
          "base_uri": "https://localhost:8080/"
        }
      },
      "execution_count": null,
      "outputs": [
        {
          "output_type": "stream",
          "name": "stdout",
          "text": [
            "Energía del fotón violeta: 4.966114642872322e-19 Joules\n",
            "Energía del fotón rojo: 2.837779795927041e-19 Joules\n"
          ]
        }
      ]
    },
    {
      "cell_type": "markdown",
      "source": [
        "### **Ejercicio : 11**\n",
        "\n",
        "**Dada una bola de billar de masa 1kg que se mueve con velocidad 0.25 m/s sobre la mesa de juego.\n",
        "Según de Broglie ¿Cuál sería la longitud de onda asociada que llevaría esta bola? ¿Y si en lugar de\n",
        "una bola de billar fuese un electrón?**\n",
        "\n",
        "---"
      ],
      "metadata": {
        "id": "dFHQStUYPl5M"
      }
    },
    {
      "cell_type": "markdown",
      "source": [
        "La relacion de Broglie estabelece que toda particular con un momento lineal (producto de su masa y velocidad) tiene asociada una longitud de onda dada por:\n",
        "$ λ = \\frac{h}{p}$\n",
        "Donde p es el momento lineal de la particula, que se calcula como $p = m*v$ siendo (m) la masa y (v) la velocidad"
      ],
      "metadata": {
        "id": "R8g0Ow7AEqc0"
      }
    },
    {
      "cell_type": "markdown",
      "source": [
        "Entonces para la bola de billar:"
      ],
      "metadata": {
        "id": "f0tjgq_4EqXr"
      }
    },
    {
      "cell_type": "code",
      "source": [
        "m_bola = 1#kg\n",
        "v = 0.25 #m/s\n",
        "p_bola = m_bola*v\n",
        "lambda_bola = h/p_bola\n",
        "print(f\"Longitud de onda para la bola de billar: {lambda_bola} m/s\")"
      ],
      "metadata": {
        "id": "hg0hSeglFnMc",
        "outputId": "53e01c23-2da1-4051-8da4-75fbb3017541",
        "colab": {
          "base_uri": "https://localhost:8080/"
        }
      },
      "execution_count": null,
      "outputs": [
        {
          "output_type": "stream",
          "name": "stdout",
          "text": [
            "Longitud de onda para la bola de billar: 2.65042806e-33 m/s\n"
          ]
        }
      ]
    },
    {
      "cell_type": "code",
      "source": [
        "p_electron = electron_mass*v\n",
        "lambda_electron = h/p_electron\n",
        "print(f\"Longitud de onda para la bola de electrón: {lambda_electron} m/s\")"
      ],
      "metadata": {
        "id": "KVRBcJ0TGxJj",
        "outputId": "48b4bb8c-5a17-4c80-948c-d55f4ea0d9d1",
        "colab": {
          "base_uri": "https://localhost:8080/"
        }
      },
      "execution_count": null,
      "outputs": [
        {
          "output_type": "stream",
          "name": "stdout",
          "text": [
            "Longitud de onda para la bola de electrón: 0.0029095580413014835 m/s\n"
          ]
        }
      ]
    },
    {
      "cell_type": "markdown",
      "source": [
        "### **Ejercicio : 12**\n",
        "\n",
        "**La longitud de onda mínima para arrancar un electrón en una placa de potasio es de 564 nm.\n",
        "Calcular la función del trabajo del Potasio. ¿Cuál es el potencial de detención cuando se ilumina la\n",
        "placa con luz de 400nm?**\n",
        "\n",
        "---"
      ],
      "metadata": {
        "id": "GM6d1G38Pmq1"
      }
    },
    {
      "cell_type": "markdown",
      "source": [
        "Para resolver esta pregunta, usaremos la ecuación del efecto fotoeléctrico:\n",
        "\n",
        "$ h*f = ϕ + K_{max}$\n",
        "\n",
        "\n",
        "*   h es la constante de Planck\n",
        "*   f es la frecuencia de la luz incidente.\n",
        "* ϕ es la función de trabajo del material, en este caso, potasio.\n",
        "\n",
        "*   $K_{max}$  es la energía cinética máxima del electrón liberado.\n"
      ],
      "metadata": {
        "id": "QwnY7krLMK01"
      }
    },
    {
      "cell_type": "markdown",
      "source": [
        "La relación entre la frecuencia f y la longitud de onda λ es:\n",
        "$$f = \\frac{c}{λ}$$\n",
        "\n",
        "Cuando se usa la longitud de onda mínima para arrancar un electrón, $K_{max}$ es 0.\n",
        "\n",
        "Entonces nos queda la siguiente formula:\n",
        "$$ ϕ = h*\\frac{c}{λ}$$\n"
      ],
      "metadata": {
        "id": "LE-lWgevNLZC"
      }
    },
    {
      "cell_type": "code",
      "source": [
        "phi = (h *c)/564e-9#longitud de onda en metros\n",
        "print(f\"Función de trabajo del potasio: {phi} J\")"
      ],
      "metadata": {
        "id": "fbowC0uEOMx-",
        "outputId": "954e0d27-bbc9-446d-e3fe-e3cea664baba",
        "colab": {
          "base_uri": "https://localhost:8080/"
        }
      },
      "execution_count": null,
      "outputs": [
        {
          "output_type": "stream",
          "name": "stdout",
          "text": [
            "Función de trabajo del potasio: 3.522067122604483e-19 J\n"
          ]
        }
      ]
    },
    {
      "cell_type": "markdown",
      "source": [
        "Al iluminar la placa con luz de 400nm, determinamos el potencial de detencion con $K_{max} = e * V$ y la ecuacion del efecto fotoeléctrico se convierte en:\n",
        "$$ h* f_{400nm} = ϕ + e * V $$ y esto en : $$V = \\frac{h*f_{400nm}-ϕ}{e}$$"
      ],
      "metadata": {
        "id": "QP4vDdFuPwzt"
      }
    },
    {
      "cell_type": "code",
      "source": [
        "v = (h*(c/400e-9)-phi)/(electron_mass)\n",
        "print(f\"Potencial de detención: {v} V\")"
      ],
      "metadata": {
        "id": "2Vzi5ZbRPIB6",
        "outputId": "f7f075b0-e420-4760-fed1-b724b068e229",
        "colab": {
          "base_uri": "https://localhost:8080/"
        }
      },
      "execution_count": null,
      "outputs": [
        {
          "output_type": "stream",
          "name": "stdout",
          "text": [
            "Potencial de detención: 158523075499.6141 V\n"
          ]
        }
      ]
    },
    {
      "cell_type": "markdown",
      "source": [
        "### **Ejercicio 13:                                                     Describir los siguientes experimentos y explicar cómo contribuyeron al desarrollo de la teoría cuántica**\n",
        "---"
      ],
      "metadata": {
        "id": "PXCXxvKaPmlk"
      }
    },
    {
      "cell_type": "markdown",
      "source": [
        "#### **a)El Experimento de Stern-Gerlach**\n",
        "---"
      ],
      "metadata": {
        "id": "n3fYyEbrQDej"
      }
    },
    {
      "cell_type": "markdown",
      "source": [
        "**El Experimento de Stern-Gerlach**: Este experimento, realizado en 1922 por Otto Stern y Walther Gerlach, demostró que las propiedades cuánticas de las partículas, como el espín, tienen valores cuantizados. En el experimento, átomos de plata fueron enviados a través de un campo magnético no uniforme, lo que resultó en un haz dividido que correspondía a los átomos con espín hacia arriba y hacia abajo. Esta observación fue una de las primeras evidencias directas de la cuantización y una manifestación de que los sistemas cuánticos pueden tener solo ciertos valores discretos de ciertas cantidades físicas.\n"
      ],
      "metadata": {
        "id": "cCKYhAcyqTjG"
      }
    },
    {
      "cell_type": "markdown",
      "source": [
        "#### **b)El Efecto Compton**\n",
        "---"
      ],
      "metadata": {
        "id": "TdpoXhVjQRwz"
      }
    },
    {
      "cell_type": "markdown",
      "source": [
        "**El Efecto Compton**: En 1923, Arthur Compton observó que los fotones dispersados por electrones tenían una longitud de onda más larga (menor energía) de lo esperado por la teoría clásica. Este efecto solo podía explicarse si la luz se comportaba como partículas (fotones) que colisionaban con los electrones, lo que significaba que la luz tenía propiedades tanto de onda como de partícula. El efecto Compton fue crucial para establecer la naturaleza dual onda-partícula de la luz y por extensión, la dualidad onda-partícula en la mecánica cuántica.\n",
        "\n"
      ],
      "metadata": {
        "id": "-fb4rPJHqb5y"
      }
    },
    {
      "cell_type": "markdown",
      "source": [
        "#### **c)El Efecto fotoeléctrico**\n",
        "---"
      ],
      "metadata": {
        "id": "F_5tS4klQTkb"
      }
    },
    {
      "cell_type": "markdown",
      "source": [
        "**El Efecto Fotoeléctrico**: Observado por primera vez por Heinrich Hertz en 1887 y explicado por Albert Einstein en 1905, el efecto fotoeléctrico es el fenómeno por el cual los electrones son emitidos desde una superficie de metal cuando esta es iluminada por luz de una frecuencia suficientemente alta. Einstein postuló que la luz consistía de cuantos de energía, o fotones, cuya energía estaba directamente relacionada con su frecuencia. Este concepto fue fundamental para la noción de que la energía en la escala cuántica viene en paquetes discretos (cuantos), una idea central en la teoría cuántica."
      ],
      "metadata": {
        "id": "eXDGOJbmqfDX"
      }
    },
    {
      "cell_type": "markdown",
      "source": [
        "## **La Ecuación de Schrödinger**\n",
        "---"
      ],
      "metadata": {
        "id": "QuyPUuHvQbQk"
      }
    },
    {
      "cell_type": "markdown",
      "source": [
        "### **Ejercicio 14: Dadas las funciones:**\n",
        "\\begin{align*}\n",
        "a) \\ \\psi(x) &= x \\\\\n",
        "b) \\ \\phi(x) &= e^{-x^2}\n",
        "\\end{align*}\n",
        "\\begin{align*}\n",
        "\\text{definidas en el intervalo } 0 \\leq x \\leq  \\infty. \\text{ Comprobar si pueden ser funciones de onda.}\n",
        "\\end{align*}\n",
        "\n",
        "---"
      ],
      "metadata": {
        "id": "BCrKJkiAQojj"
      }
    },
    {
      "cell_type": "code",
      "source": [
        "# Función psi(x) = x\n",
        "psi = lambda x: x**2\n",
        "# Función phi(x) = e^(-x^2)\n",
        "phi = lambda x: np.exp(-x**2)**2\n",
        "\n",
        "# Calculamos las integrales de |psi(x)|^2 y |phi(x)|^2 en el intervalo [0, ∞)\n",
        "integral_psi, error_psi = quad(psi, 0, np.inf)\n",
        "integral_phi, error_phi = quad(phi, 0, np.inf)\n",
        "\n",
        "(integral_psi, integral_phi), (error_psi, error_phi)\n",
        "\n"
      ],
      "metadata": {
        "id": "njwtPLlecY2r",
        "colab": {
          "base_uri": "https://localhost:8080/"
        },
        "outputId": "c0f2a8e4-db24-4c2c-b072-8507a3ab6e0e"
      },
      "execution_count": null,
      "outputs": [
        {
          "output_type": "stream",
          "name": "stderr",
          "text": [
            "<ipython-input-34-499af40d0d48>:7: IntegrationWarning: The integral is probably divergent, or slowly convergent.\n",
            "  integral_psi, error_psi = quad(psi, 0, np.inf)\n"
          ]
        },
        {
          "output_type": "execute_result",
          "data": {
            "text/plain": [
              "((-0.33156386027260937, 0.6266570686577508),\n",
              " (0.0014214591807548138, 2.2337251559046266e-09))"
            ]
          },
          "metadata": {},
          "execution_count": 34
        }
      ]
    },
    {
      "cell_type": "markdown",
      "source": [
        "\n",
        "\n",
        "Las integrales de las funciones dadas son:\n",
        "\n",
        "- Para $( \\psi(x) = x )$, la integral de $( |\\psi(x)|^2 )$ en el intervalo $( [0, \\infty) )$ no converge, lo que indica que la función no es normalizable y, por lo tanto, no puede representar una función de onda en mecánica cuántica.\n",
        "\n",
        "- Para $( \\phi(x) = e^{-x^2} )$, la integral de $( |\\phi(x)|^2 )$ en el intervalo $( [0, \\infty) )$ converge a aproximadamente 0.6267, lo que sugiere que esta función podría ser normalizable si se multiplica por el factor de normalización adecuado.\n",
        "\n",
        "El resultado negativo para la integral de $( |\\psi(x)|^2 )$ es probablemente debido a una advertencia de convergencia lenta o divergente emitida por la función de integración numérica. Esto es de esperarse ya que matemáticamente sabemos que la integral de $( x^2 )$ desde 0 a infinito es infinita."
      ],
      "metadata": {
        "id": "-eFhfCAsioiK"
      }
    },
    {
      "cell_type": "markdown",
      "source": [
        "### **Ejercicio 15:**\n",
        "\n",
        "La función de onda para una partícula confinada en el intervalo **0 ≤ x ≤ a** en el estado fundamental es:\n",
        "\n",
        "$$\n",
        "\\psi(x) = A \\cdot \\sin\\left(\\frac{\\pi x}{a}\\right)\n",
        "$$\n",
        "\n",
        "donde A es la constante de normalización. Encontrar:\n",
        "\n",
        "---\n",
        "\n"
      ],
      "metadata": {
        "id": "ZGjWwzpoRTbS"
      }
    },
    {
      "cell_type": "markdown",
      "source": [
        "#### **a) Encontrar el valor de A**\n",
        "---"
      ],
      "metadata": {
        "id": "F8O9kR0lT14Q"
      }
    },
    {
      "cell_type": "markdown",
      "source": [
        "Definimos las variables que vamos a usar:"
      ],
      "metadata": {
        "id": "j2LdMJGdi9QU"
      }
    },
    {
      "cell_type": "code",
      "source": [
        "A, x, a = symbols('A x a')"
      ],
      "metadata": {
        "id": "FSsFrYRzi63F"
      },
      "execution_count": null,
      "outputs": []
    },
    {
      "cell_type": "markdown",
      "source": [
        "Definimos la función de onda:"
      ],
      "metadata": {
        "id": "F7NOPupojBmt"
      }
    },
    {
      "cell_type": "code",
      "source": [
        "psi = A * sin(pi*x/a)"
      ],
      "metadata": {
        "id": "4cKYszwfjBWc"
      },
      "execution_count": null,
      "outputs": []
    },
    {
      "cell_type": "code",
      "source": [
        "integrand = (psi**2).integrate((x, 0, a))"
      ],
      "metadata": {
        "id": "dWld0j2VjcPo"
      },
      "execution_count": null,
      "outputs": []
    },
    {
      "cell_type": "code",
      "source": [
        "integrand"
      ],
      "metadata": {
        "id": "MWdHeb2RjiD8",
        "outputId": "265ea24f-1826-41d4-c894-63620577219b",
        "colab": {
          "base_uri": "https://localhost:8080/",
          "height": 68
        }
      },
      "execution_count": null,
      "outputs": [
        {
          "output_type": "execute_result",
          "data": {
            "text/plain": [
              "Piecewise((A**2*a/2, (a > -oo) & (a < oo) & Ne(a, 0)), (0, True))"
            ],
            "text/latex": "$\\displaystyle \\begin{cases} \\frac{A^{2} a}{2} & \\text{for}\\: a > -\\infty \\wedge a < \\infty \\wedge a \\neq 0 \\\\0 & \\text{otherwise} \\end{cases}$"
          },
          "metadata": {},
          "execution_count": 38
        }
      ]
    },
    {
      "cell_type": "code",
      "source": [
        "# Resolver para A\n",
        "A_value = solve(integrand -1, A)[0]# -1 ya que el resultado tiene que ser = 1 y para resolver esta ecuacion haciendo eso la igualamos a 0\n",
        "A_value"
      ],
      "metadata": {
        "id": "LYQzEYgbhqfv",
        "outputId": "d2536c5a-af1d-40db-a39c-da002575d6ec",
        "colab": {
          "base_uri": "https://localhost:8080/",
          "height": 73
        }
      },
      "execution_count": null,
      "outputs": [
        {
          "output_type": "execute_result",
          "data": {
            "text/plain": [
              "Piecewise((-sqrt(2)*sqrt(1/a), (a > -oo) & (a < oo) & Ne(a, 0)), (nan, True))"
            ],
            "text/latex": "$\\displaystyle \\begin{cases} - \\sqrt{2} \\sqrt{\\frac{1}{a}} & \\text{for}\\: a > -\\infty \\wedge a < \\infty \\wedge a \\neq 0 \\\\\\text{NaN} & \\text{otherwise} \\end{cases}$"
          },
          "metadata": {},
          "execution_count": 39
        }
      ]
    },
    {
      "cell_type": "markdown",
      "source": [
        "#### b) **Calcular la probabilidad de que la partícula se encuentre en el intervalo**\n",
        "$$\n",
        " \\frac{a}{2} \\leq x \\leq \\frac{3a}{4}\n",
        "$$\n",
        "\n",
        "---"
      ],
      "metadata": {
        "id": "Fe8R_Yq2T85J"
      }
    },
    {
      "cell_type": "markdown",
      "source": [
        "Sabiendo que  $A = -\\sqrt{\\frac{2}{a}} $\n",
        "\n",
        "Entonces:\n",
        "\n",
        "$|\\psi(x)|^2 = \\frac{2}{a} \\sin^2\\left(\\frac{\\pi x}{a}\\right)$\n"
      ],
      "metadata": {
        "id": "qR8cpWCmmv7D"
      }
    },
    {
      "cell_type": "markdown",
      "source": [
        "Definir la función de onda con la constante de normalización ya encontrada"
      ],
      "metadata": {
        "id": "ZeOdjT_uoIsx"
      }
    },
    {
      "cell_type": "code",
      "source": [
        "psi_normalized = sqrt(2/a) * sin(pi*x/a)"
      ],
      "metadata": {
        "id": "HRfYBT83oGTI"
      },
      "execution_count": null,
      "outputs": []
    },
    {
      "cell_type": "markdown",
      "source": [
        "Densidad de probabilidad"
      ],
      "metadata": {
        "id": "Khqphl24oMfw"
      }
    },
    {
      "cell_type": "code",
      "source": [
        "probability_density = psi_normalized**2"
      ],
      "metadata": {
        "id": "LUj6DXw3oKqg"
      },
      "execution_count": null,
      "outputs": []
    },
    {
      "cell_type": "code",
      "source": [
        "probability_density"
      ],
      "metadata": {
        "id": "LVsZrNsioSXB",
        "outputId": "27d3a699-7f76-4783-c437-f93e75f83f0f",
        "colab": {
          "base_uri": "https://localhost:8080/",
          "height": 56
        }
      },
      "execution_count": null,
      "outputs": [
        {
          "output_type": "execute_result",
          "data": {
            "text/plain": [
              "2*sin(pi*x/a)**2/a"
            ],
            "text/latex": "$\\displaystyle \\frac{2 \\sin^{2}{\\left(\\frac{\\pi x}{a} \\right)}}{a}$"
          },
          "metadata": {},
          "execution_count": 42
        }
      ]
    },
    {
      "cell_type": "markdown",
      "source": [
        "Integramos en el intervalo [a/2, 3a/4]"
      ],
      "metadata": {
        "id": "U4Vv5421oYVo"
      }
    },
    {
      "cell_type": "code",
      "source": [
        "probability = integrate(probability_density, (x, a/2, (3*a)/4))"
      ],
      "metadata": {
        "id": "04fw9v4WocX6"
      },
      "execution_count": null,
      "outputs": []
    },
    {
      "cell_type": "code",
      "source": [
        "probability"
      ],
      "metadata": {
        "id": "4K79cA4Rn-Wp",
        "outputId": "e50485c8-3b98-4e34-fa70-ce3e1c8a0a3c",
        "colab": {
          "base_uri": "https://localhost:8080/",
          "height": 71
        }
      },
      "execution_count": null,
      "outputs": [
        {
          "output_type": "execute_result",
          "data": {
            "text/plain": [
              "Piecewise((-1/2 + 2*(1/4 + 3*pi/8)/pi, (a > -oo) & (a < oo) & Ne(a, 0)), (0, True))"
            ],
            "text/latex": "$\\displaystyle \\begin{cases} - \\frac{1}{2} + \\frac{2 \\cdot \\left(\\frac{1}{4} + \\frac{3 \\pi}{8}\\right)}{\\pi} & \\text{for}\\: a > -\\infty \\wedge a < \\infty \\wedge a \\neq 0 \\\\0 & \\text{otherwise} \\end{cases}$"
          },
          "metadata": {},
          "execution_count": 44
        }
      ]
    },
    {
      "cell_type": "markdown",
      "source": [
        "### **Ejercicio 16: Dada una partícula cuya función de onda es de la forma: $\\psi(x,t) = \\phi(x) \\chi(t) $ y sometida a un potencial $ V(x) :$**\n",
        "---\n"
      ],
      "metadata": {
        "id": "WLOiHSQhVAzl"
      }
    },
    {
      "cell_type": "markdown",
      "source": [
        "#### **a) Demostrar que la parte temporal es del tipo  $\\chi(t) = Ae^{i\\omega t} $ siendo  A una constante**\n",
        "---\n",
        "\n",
        "\n"
      ],
      "metadata": {
        "id": "y7VSFl_sWN6l"
      }
    },
    {
      "cell_type": "markdown",
      "source": [
        "Sustituyendo $(\\psi(x,t) = \\phi(x) \\chi(t))$ en la ecuación de Schrödinger dependiente del tiempo, obtenemos:\n",
        "\n",
        "$ i\\hbar \\phi(x) \\frac{\\partial \\chi(t)}{\\partial t} = -\\frac{\\hbar^2}{2m} \\chi(t) \\frac{\\partial^2 \\phi(x)}{\\partial x^2} + V(x) \\phi(x) \\chi(t) $\n",
        "\n",
        "Dividiendo ambos lados de la ecuación por $\\phi(x)\\chi(t)$, obtenemos:\n",
        "\n",
        "$ i\\hbar \\frac{1}{\\chi(t)} \\frac{\\partial \\chi(t)}{\\partial t} = -\\frac{\\hbar^2}{2m \\phi(x)} \\frac{\\partial^2 \\phi(x)}{\\partial x^2} + V(x)$\n",
        "\n",
        "El lado izquierdo de la ecuación es una función solo del tiempo, y el lado derecho es una función solo del espacio. Para que esta ecuación se mantenga verdadera para todos los valores de $(x) y $(t)$, ambos lados deben ser iguales a una constante. Llamemos a esta constante \\(E\\) (la energía de la partícula). Entonces, la ecuación para la parte temporal se convierte en:\n",
        "\n",
        "$ i\\hbar \\frac{1}{\\chi(t)} \\frac{\\partial \\chi(t)}{\\partial t} = E$\n",
        "\n",
        "Resolviendo esta ecuación diferencial, encontramos que $(\\chi(t) = Ae^{i\\omega t})$, donde $(A)$ es una constante y $( \\hbar \\omega = E )$"
      ],
      "metadata": {
        "id": "DxaFTLKV0YPU"
      }
    },
    {
      "cell_type": "markdown",
      "source": [
        "#### **b) Demostrar que la parte espacial $ \\phi(x) $ verifica la ecuación de Schrödinger independiente del tiempo con $ E = \\hbar \\omega $, es decir: $$\\frac{-\\hbar^2}{2m} \\frac{d^2\\phi(x)}{dx^2} + V(x)\\phi(x) = \\hbar\\omega\\phi(x) $$**\n",
        "---\n",
        "\n"
      ],
      "metadata": {
        "id": "qELup1UGWUlW"
      }
    },
    {
      "cell_type": "markdown",
      "source": [
        " **Demostración de la ecuación para $(\\phi(x))$:**\n",
        "\n",
        "De manera similar, la ecuación para la parte espacial se convierte en:\n",
        "\n",
        "$ -\\frac{\\hbar^2}{2m} \\frac{\\partial^2 \\phi(x)}{\\partial x^2} + V(x)\\phi(x) = E \\phi(x) $\n",
        "\n",
        "Esta es la ecuación de Schrödinger independiente del tiempo, con $(E = \\hbar \\omega)$."
      ],
      "metadata": {
        "id": "Oiz1YBzs0b6D"
      }
    },
    {
      "cell_type": "markdown",
      "source": [
        "#### **c) Demostrar que la densidad de probabilidad de esta función de onda es independiente del tiempo.**\n",
        "---"
      ],
      "metadata": {
        "id": "VCeiW5bGXAG9"
      }
    },
    {
      "cell_type": "markdown",
      "source": [
        "La densidad de probabilidad está dada por $(|\\psi(x,t)|^2)$. Sustituyendo $(\\psi(x,t) = \\phi(x) \\chi(t))$, obtenemos:\n",
        "\n",
        "$|\\psi(x,t)|^2 = |\\phi(x) \\chi(t)|^2 = |\\phi(x)|^2 |\\chi(t)|^2 $\n",
        "\n",
        "Ya que $(\\chi(t) = Ae^{i\\omega t})$, $(|\\chi(t)|^2)$ es constante (ya que $(|Ae^{i\\omega t}|^2 = |A|^2))$, lo que significa que la densidad de probabilidad $(|\\psi(x,t)|^2)$ es independiente del tiempo."
      ],
      "metadata": {
        "id": "D9jKvh-C0fxd"
      }
    },
    {
      "cell_type": "markdown",
      "source": [
        "### **Ejercicio 17:**\n",
        "\n",
        "**Una partícula viene descrita por la siguiente función de onda:**\n",
        "$$\n",
        "\\psi(x,t) = \\sqrt{\\frac{1}{a}} \\sin\\left(\\frac{\\pi x}{a}\\right) e^{-iE_1t/\\hbar} + \\sqrt{\\frac{1}{a}} \\sin\\left(\\frac{2\\pi x}{a}\\right) e^{-iE_2t/\\hbar}\n",
        "$$\n",
        "\n",
        "**Encontrar la corriente de probabilidad para este sistema.**\n",
        "\n",
        "---"
      ],
      "metadata": {
        "id": "FtEmDIPmYaG1"
      }
    },
    {
      "cell_type": "code",
      "source": [
        "# Definición de los símbolos necesarios\n",
        "x, t, a, m, E1, E2 = sp.symbols('x t a m E1 E2', real=True, positive=True)\n",
        "hbar_symbol = sp.symbols('hbar', real=True, positive=True)\n",
        "\n",
        "# Definición de la función de onda ψ(x,t)\n",
        "psi = sp.sqrt(1/a) * sp.sin(sp.pi * x / a) * sp.exp(-sp.I * E1 * t / hbar_symbol) + \\\n",
        "      sp.sqrt(1/a) * sp.sin(2 * sp.pi * x / a) * sp.exp(-sp.I * E2 * t / hbar_symbol)\n",
        "\n",
        "# Derivada parcial de ψ(x,t) con respecto a x\n",
        "psi_dx = sp.diff(psi, x)\n",
        "\n",
        "# Complejo conjugado de ψ(x,t)\n",
        "psi_star = sp.conjugate(psi)\n",
        "\n",
        "# Producto de ψ*(x,t) y la derivada parcial de ψ(x,t) con respecto a x\n",
        "product = psi_star * psi_dx\n",
        "\n",
        "# Parte imaginaria del producto\n",
        "imaginary_part = sp.im(product)\n",
        "\n",
        "# Corriente de probabilidad J\n",
        "J = (hbar_symbol / m) * imaginary_part\n",
        "\n",
        "# Simplificamos la expresión\n",
        "J = sp.simplify(J)\n",
        "\n",
        "J\n"
      ],
      "metadata": {
        "colab": {
          "base_uri": "https://localhost:8080/",
          "height": 66
        },
        "id": "PGkEbINJnjGZ",
        "outputId": "08c1fcdd-d1aa-479f-c4d1-9b6c1a988e71"
      },
      "execution_count": null,
      "outputs": [
        {
          "output_type": "execute_result",
          "data": {
            "text/plain": [
              "-2*pi*hbar*sin(pi*x/a)**3*sin(t*(E1 - E2)/hbar)/(a**2*m)"
            ],
            "text/latex": "$\\displaystyle - \\frac{2 \\pi \\hbar \\sin^{3}{\\left(\\frac{\\pi x}{a} \\right)} \\sin{\\left(\\frac{t \\left(E_{1} - E_{2}\\right)}{\\hbar} \\right)}}{a^{2} m}$"
          },
          "metadata": {},
          "execution_count": 45
        }
      ]
    },
    {
      "cell_type": "markdown",
      "source": [
        "###**Ejercicio 18:**\n",
        "\n",
        "Encontrar el valor $Δ x \\Delta p$ para una partícula de masa \\(m\\) que se encuentra confinada en una caja de potencial en su estado fundamental. Su función de onda en estas condiciones es:\n",
        "$$\n",
        "\\psi(x) = \\sqrt{\\frac{2}{a}} \\sin\\left(\\frac{\\pi x}{a}\\right)\n",
        "$$\n",
        "\n",
        "---"
      ],
      "metadata": {
        "id": "7jWCz2VsYyJ7"
      }
    },
    {
      "cell_type": "code",
      "source": [
        "\n",
        "# Definiendo las variables\n",
        "x, a = symbols('x a', real=True, positive=True)\n",
        "psi = sqrt(2/a) * sin(pi*x/a)\n",
        "\n",
        "# Calculando <x> y <x^2>\n",
        "x_expect = integrate(psi * x * psi, (x, 0, a))\n",
        "x2_expect = integrate(psi * x**2 * psi, (x, 0, a))\n",
        "\n",
        "# Calculando la incertidumbre en x, Δx\n",
        "delta_x = sqrt(x2_expect - x_expect**2)\n",
        "\n",
        "# Calculando <p> y <p^2>\n",
        "# Dado que psi es real, su conjugado complejo es psi, y <p> = 0\n",
        "p_expect = 0\n",
        "# El operador p^2 es -hbar^2 * d^2/dx^2\n",
        "p2_expect = integrate(psi * (-hbar**2 * diff(psi, x, x)), (x, 0, a))\n",
        "\n",
        "# Calculando la incertidumbre en p, Δp\n",
        "delta_p = sqrt(p2_expect - p_expect**2)\n",
        "\n",
        "# Producto Δx Δp\n",
        "delta_x_delta_p = delta_x * delta_p\n",
        "\n",
        "simplify(delta_x_delta_p), x_expect, x2_expect, delta_x, p_expect, p2_expect, delta_p\n"
      ],
      "metadata": {
        "id": "w6nOBq5V2nz6",
        "outputId": "1b3ba690-d232-42bd-cc3a-6cf0f893bac5",
        "colab": {
          "base_uri": "https://localhost:8080/"
        }
      },
      "execution_count": null,
      "outputs": [
        {
          "output_type": "execute_result",
          "data": {
            "text/plain": [
              "(1.75761969607693e-35*sqrt(-18 + 3*pi**2),\n",
              " a/2,\n",
              " 2*(-a**3/(4*pi**2) + a**3/6)/a,\n",
              " sqrt(-a**2/4 + 2*(-a**3/(4*pi**2) + a**3/6)/a),\n",
              " 0,\n",
              " 1.11212171857352e-68*pi**2/a**2,\n",
              " 1.05457181764616e-34*pi/a)"
            ]
          },
          "metadata": {},
          "execution_count": 55
        }
      ]
    },
    {
      "cell_type": "markdown",
      "source": [
        "1. $ \\Delta x \\Delta p = 1.75761969607693 \\times 10^{-35} \\sqrt{-18 + 3\\pi^2} $\n",
        "2. $\\langle x \\rangle = \\frac{a}{2} $\n",
        "3. $\\langle x^2 \\rangle = \\frac{2}{a}\\left(-\\frac{a^3}{4\\pi^2} + \\frac{a^3}{6}\\right) $\n",
        "4. $\\Delta x = \\sqrt{-\\frac{a^2}{4} + \\frac{2}{a}\\left(-\\frac{a^3}{4\\pi^2} + \\frac{a^3}{6}\\right)} $\n",
        "5. $ \\langle p \\rangle = 0 $\n",
        "6. $\\langle p^2 \\rangle = \\frac{1.11212171857352 \\times 10^{-68} \\pi^2}{a^2}$\n",
        "7. $\\Delta p = \\frac{1.05457181764616 \\times 10^{-34} \\pi}{a} $\n"
      ],
      "metadata": {
        "id": "DDGqnw4i3B0z"
      }
    },
    {
      "cell_type": "markdown",
      "source": [
        "### **Ejercicio 19:**\n",
        "La masa de una bala es de 50g y la de un electrón es de $(9,1 \\times 10^{-28}g)$. Para ambos se mide una velocidad de \\(300 m/s\\) con una incertidumbre del \\(0,01\\%\\).\n",
        "\n",
        "Calcula la exactitud con la que puede medirse la posición de la bala y la del electrón si tanto velocidad como posición se miden de forma simultánea en el mismo experimento.\n",
        "\n",
        "---\n"
      ],
      "metadata": {
        "id": "yHyiU5EuZe2r"
      }
    },
    {
      "cell_type": "code",
      "source": [
        "# Constantes dadas\n",
        "velocidad = 300  # m/s\n",
        "incertidumbre_relativa = 0.01 / 100  # 0,01%\n",
        "masa_bala = 50e-3  # kg (convertido de 50g a kg)\n",
        "masa_electron = 9.1e-31  # kg (convertido de g a kg)\n",
        "\n",
        "# Incertidumbre en la velocidad\n",
        "delta_v = velocidad * incertidumbre_relativa\n",
        "\n",
        "# Calculamos la incertidumbre en la posición usando el principio de incertidumbre de Heisenberg\n",
        "# Δx Δp >= ħ/2 => Δx >= ħ / (2 * Δp) => Δx >= ħ / (2 * m * Δv)\n",
        "\n",
        "# Constante de Planck reducida (en J*s)\n",
        "hbar = const.hbar\n",
        "\n",
        "# Incertidumbre en la posición de la bala y el electrón\n",
        "delta_x_bala = hbar / (2 * masa_bala * delta_v)\n",
        "delta_x_electron = hbar / (2 * masa_electron * delta_v)\n",
        "\n",
        "delta_x_bala, delta_x_electron\n",
        "\n"
      ],
      "metadata": {
        "colab": {
          "base_uri": "https://localhost:8080/"
        },
        "id": "gkqIXR-qj0Io",
        "outputId": "103de7e5-7e2b-469a-d709-600573dffae8"
      },
      "execution_count": null,
      "outputs": [
        {
          "output_type": "execute_result",
          "data": {
            "text/plain": [
              "(3.5152393921538546e-32, 0.0019314502154691507)"
            ]
          },
          "metadata": {},
          "execution_count": 47
        }
      ]
    },
    {
      "cell_type": "markdown",
      "source": [
        "\n",
        "La incertidumbre en la posición para la bala es aproximadamente $( 3.52 \\times 10^{-32} )$ metros y para el electrón es aproximadamente $( 1.93 \\times 10^{-3} )$ metros o $1.93  milímetros$.\n",
        "\n",
        "Estos resultados nos muestran la relación inversa entre la masa y la incertidumbre en la posición: debido a que la bala tiene una masa mucho mayor que el electrón, la incertidumbre en su posición es extremadamente pequeña, mientras que para el electrón, con una masa mucho menor, la incertidumbre en la posición es relativamente grande."
      ],
      "metadata": {
        "id": "BkfljWG7kV-U"
      }
    },
    {
      "cell_type": "markdown",
      "source": [
        "### **Ejercicio 20:**NIDEA\n",
        "Calcular los valores esperados $(<x>)$ y $(<p>)$ para una partícula confinada en una caja unidimensional de longitud $(0 \\leq x \\leq a)$ que se encuentra en su estado fundamental descrito por la función de onda:\n",
        "$$\n",
        "\\psi(x) = \\sqrt{\\frac{2}{a}} \\sin\\left(\\frac{\\pi x}{a}\\right)\n",
        "$$\n",
        "\n",
        "---"
      ],
      "metadata": {
        "id": "sDiCl8cdZuyd"
      }
    },
    {
      "cell_type": "code",
      "source": [
        "# Definir las variables simbólicas\n",
        "x, a, h_bar = symbols('x a h_bar', real=True, positive=True)\n",
        "\n",
        "# Definir la función de onda\n",
        "psi_x = sp.sqrt(2/a) * sp.sin(pi*x/a)\n",
        "\n",
        "# Calcular el valor esperado de x\n",
        "valor_esperado_x = integrate(x * psi_x**2, (x, 0, a))\n",
        "\n",
        "# Calcular el valor esperado de p\n",
        "derivada_psi_x = sp.diff(psi_x, x)\n",
        "valor_esperado_p = integrate(psi_x * (-I * h_bar * derivada_psi_x), (x, 0, a))\n",
        "\n",
        "valor_esperado_x, valor_esperado_p.simplify()\n"
      ],
      "metadata": {
        "colab": {
          "base_uri": "https://localhost:8080/"
        },
        "id": "_fZHl2v9mAvg",
        "outputId": "cfcb1d4a-bddd-4c60-e83d-498665e216dd"
      },
      "execution_count": 64,
      "outputs": [
        {
          "output_type": "execute_result",
          "data": {
            "text/plain": [
              "(a/2, 0)"
            ]
          },
          "metadata": {},
          "execution_count": 64
        }
      ]
    },
    {
      "cell_type": "markdown",
      "source": [
        "Valor esperado de la posición $(\\langle x \\rangle)$:\n",
        "\n",
        "$$\n",
        "\\langle x \\rangle = \\frac{a}{2}\n",
        "$$\n",
        "\n",
        "Esto es lo que esperaríamos, ya que la partícula tiene la misma probabilidad de estar en cualquier lugar de la caja, por lo que el valor promedio de su posición es justo en el medio de la caja.\n",
        "\n",
        "Valor esperado del momento $(\\langle p \\rangle)$:\n",
        "\n",
        "$$\n",
        "\\langle p \\rangle = 0\n",
        "$$\n",
        "\n",
        "Esto se debe a que la función de onda es simétrica respecto al centro de la caja, lo que implica que cualquier impulso neto en una dirección está equilibrado por un impulso igual y opuesto en la otra dirección, resultando en un valor esperado de momento cero.\n"
      ],
      "metadata": {
        "id": "oOrmTULal4uS"
      }
    },
    {
      "cell_type": "markdown",
      "source": [
        "### **Ejercicio 21:**\n",
        "Hallar el valor esperado de la posición de un oscilador armónico cuántico en el estado fundamental.\n",
        "\n",
        "---"
      ],
      "metadata": {
        "id": "lKYQO0JEaCoM"
      }
    },
    {
      "cell_type": "markdown",
      "source": [
        "Para hallar el valor esperado de la posición $\\langle x \\rangle$ de un oscilador armónico cuántico en el estado fundamental, se utiliza la definición del valor esperado en mecánica cuántica:\n",
        "\n",
        "$$ \\langle x \\rangle = \\langle 0 | \\hat{x} | 0 \\rangle $$\n",
        "\n",
        "donde $|0\\rangle$ es el estado fundamental del oscilador armónico y $\\hat{x}$ es el operador de posición. En el estado fundamental, la función de onda es simétrica con respecto al origen, lo que lleva a que el valor esperado de la posición sea cero:\n",
        "\n",
        "$$ \\langle x \\rangle = 0 $$\n",
        "\n",
        "Esto se debe a la simetría de la función de onda del estado fundamental y a la antisimetría del operador de posición. La función de onda del estado fundamental del oscilador armónico cuántico es:\n",
        "\n",
        "$$ \\psi_0(x) = \\left(\\frac{m\\omega}{\\pi\\hbar}\\right)^{1/4} e^{-\\frac{m\\omega x^2}{2\\hbar}} $$\n",
        "\n",
        "El valor esperado se calcula como la integral de la función de onda multiplicada por el operador de posición y la función de onda conjugada:\n",
        "\n",
        "$$\\langle x \\rangle = \\int_{-\\infty}^{\\infty} \\psi_0^*(x) \\, x \\, \\psi_0(x) \\, dx $$\n",
        "\n",
        "Dado que $\\psi_0(x)$ es una función gaussiana y $x$ es un operador impar, la integral de una función impar sobre un intervalo simétrico es cero, lo que confirma que el valor esperado de la posición en el estado fundamental es cero.\n"
      ],
      "metadata": {
        "id": "-QHot8pRuHJN"
      }
    },
    {
      "cell_type": "markdown",
      "source": [
        "# Mecánica\n",
        "\n",
        "---"
      ],
      "metadata": {
        "id": "GKxqLEoiW90c"
      }
    },
    {
      "cell_type": "markdown",
      "source": [
        "### **Ejercicio 1:**\n",
        "Escribir las ecuaciones de Euler-Lagrange para una partícula que se mueve en el espacio bidimensional sometida a un campo de fuerzas $ \\mathbf{F} $. Demostrar que dichas ecuaciones son equivalentes a la segunda ley de Newton.\n",
        "\n",
        "---"
      ],
      "metadata": {
        "id": "ZCZ_uwcQYM1H"
      }
    },
    {
      "cell_type": "markdown",
      "source": [
        "1. **Lagrangiano de la Partícula**: El Lagrangiano $ L $ para una partícula en un campo de fuerzas es la diferencia entre su energía cinética $ T $ y su energía potencial $ V $:\n",
        "   $$\n",
        "   L = T - V\n",
        "   $$\n",
        "\n",
        "2. **Forma de la Energía Cinética y Potencial**: En un espacio bidimensional, la energía cinética $ T $ para una partícula de masa $ m $ y la energía potencial $ V $ son dadas por:\n",
        "   $$\n",
        "   T = \\frac{1}{2} m (\\dot{x}^2 + \\dot{y}^2), \\quad V = V(x, y)\n",
        "   $$\n",
        "\n",
        "3. **Ecuaciones de Euler-Lagrange**: Las ecuaciones de Euler-Lagrange son:\n",
        "   $$\n",
        "   \\frac{d}{dt}\\left(\\frac{\\partial L}{\\partial \\dot{q}_i}\\right) - \\frac{\\partial L}{\\partial q_i} = 0, \\quad i = x, y\n",
        "   $$\n",
        "\n",
        "4. **Aplicación a las Coordenadas Bidimensionales**: Aplicando las ecuaciones de Euler-Lagrange a las coordenadas $ x $ y $ y $, obtenemos:\n",
        "   $$\n",
        "   \\frac{d}{dt}\\left(\\frac{\\partial L}{\\partial \\dot{x}}\\right) - \\frac{\\partial L}{\\partial x} = 0, \\quad \\frac{d}{dt}\\left(\\frac{\\partial L}{\\partial \\dot{y}}\\right) - \\frac{\\partial L}{\\partial y} = 0\n",
        "   $$\n",
        "\n",
        "5. **Equivalencia con la Segunda Ley de Newton**: Al desarrollar estas ecuaciones y asumiendo que la fuerza $ F $ deriva de la energía potencial $ V $, se puede demostrar que estas ecuaciones son equivalentes a la segunda ley de Newton:\n",
        "   $$\n",
        "   m\\ddot{x} = F_x, \\quad m\\ddot{y} = F_y\n",
        "   $$\n",
        "\n",
        "Las ecuaciones de Euler-Lagrange para una partícula en un campo de fuerzas bidimensional se reducen a la segunda ley de Newton cuando se consideran las fuerzas derivadas de un potencial.\n"
      ],
      "metadata": {
        "id": "ezpLhBXHd1iW"
      }
    },
    {
      "cell_type": "markdown",
      "source": [
        "### **Ejercicio 2:**\n",
        "Demostrar que $ H=T+V $ (considerar las coordenadas espaciales de un sistema que se mueve en una dimensión).\n",
        "\n",
        "---"
      ],
      "metadata": {
        "id": "ECRQS_sxYSZz"
      }
    },
    {
      "cell_type": "markdown",
      "source": [
        "1. **Definición de la Hamiltoniana**: La Hamiltoniana $ H $ de un sistema físico es la suma de su energía cinética $ T $ y su energía potencial $ V $:\n",
        "   $$\n",
        "   H = T + V\n",
        "   $$\n",
        "\n",
        "2. **Energía Cinética en Una Dimensión**: Para un sistema que se mueve en una dimensión, la energía cinética $ T $, para una partícula de masa $ m $ y velocidad $ v $, es dada por:\n",
        "   $$\n",
        "   T = \\frac{1}{2} m v^2\n",
        "   $$\n",
        "\n",
        "3. **Energía Potencial**: La energía potencial $ V $ del sistema depende de la posición $ x $ en el campo de fuerzas y se expresa generalmente como $ V(x) $.\n",
        "\n",
        "4. **Hamiltoniana en Una Dimensión**: Combinando las expresiones de $ T $ y $ V $, la Hamiltoniana en una dimensión se convierte en:\n",
        "   $$\n",
        "   H = \\frac{1}{2} m v^2 + V(x)\n",
        "   $$\n",
        "\n",
        "5. **Conclusión**: Esta expresión muestra que la Hamiltoniana $ H $ es efectivamente la suma de las energías cinética y potencial del sistema en una dimensión.\n"
      ],
      "metadata": {
        "id": "qrYzl7-zeS3k"
      }
    },
    {
      "cell_type": "markdown",
      "source": [
        "### **Ejercicio 3:**\n",
        "Escribir las ecuaciones de Hamilton para una partícula que se mueve en el espacio bidimensional sometida a un campo de fuerzas $ \\mathbf{F} $. Demostrar que dichas ecuaciones son equivalentes a la segunda ley de Newton.\n",
        "\n",
        "---"
      ],
      "metadata": {
        "id": "r0FBpOSIYSUz"
      }
    },
    {
      "cell_type": "markdown",
      "source": [
        "1. **Definición de la Hamiltoniana**: En un espacio bidimensional, la Hamiltoniana $( H )$ para una partícula bajo un campo de fuerzas $( \\mathbf{F} )$ es la suma de la energía cinética $( T )$ y la energía potencial $( V )$. Si $( q_1, q_2 )$ son las coordenadas y $( p_1, p_2 )$ los momentos conjugados, la Hamiltoniana se expresa como:\n",
        "   $$\n",
        "   H = \\frac{1}{2m}(p_1^2 + p_2^2) + V(q_1, q_2)\n",
        "   $$\n",
        "\n",
        "2. **Ecuaciones de Hamilton**: Las ecuaciones de Hamilton para este sistema son:\n",
        "   $$\n",
        "   \\dot{q}_i = \\frac{\\partial H}{\\partial p_i}, \\quad \\dot{p}_i = -\\frac{\\partial H}{\\partial q_i}, \\quad i = 1, 2\n",
        "   $$\n",
        "   Estas ecuaciones describen cómo cambian las coordenadas y los momentos con el tiempo.\n",
        "\n",
        "3. **Aplicación a la Hamiltoniana**: Al aplicar estas ecuaciones a la Hamiltoniana definida, obtenemos:\n",
        "   $$\n",
        "   \\dot{q}_1 = \\frac{p_1}{m}, \\quad \\dot{q}_2 = \\frac{p_2}{m}\n",
        "   $$\n",
        "   $$\n",
        "   \\dot{p}_1 = -\\frac{\\partial V}{\\partial q_1}, \\quad \\dot{p}_2 = -\\frac{\\partial V}{\\partial q_2}\n",
        "   $$\n",
        "\n",
        "4. **Equivalencia con la Segunda Ley de Newton**: La relación entre la fuerza y el potencial es $( \\mathbf{F} = -\\nabla V )$. Por lo tanto, las ecuaciones para $( \\dot{p}_i )$ se pueden reescribir como $( m\\ddot{q}_i = F_i )$, que es la forma de la segunda ley de Newton.\n",
        "\n",
        "Las ecuaciones de Hamilton en este contexto describen cómo las coordenadas y los momentos de una partícula cambian en el tiempo y son equivalentes a la segunda ley de Newton al considerar la relación entre fuerza y potencial."
      ],
      "metadata": {
        "id": "lij-GE08bBAB"
      }
    },
    {
      "cell_type": "markdown",
      "source": [
        "### **Ejercicio 4:**\n",
        "Comprobar que el operador traslación espacial es unitario.\n",
        "\n",
        "---"
      ],
      "metadata": {
        "id": "cQjSQqFRYSQE"
      }
    },
    {
      "cell_type": "markdown",
      "source": [
        "1. **Definición del Operador de Traslación**: Un operador de traslación espacial $ T(\\mathbf{a}) $ desplaza un punto en el espacio por un vector $ \\mathbf{a} $. En mecánica cuántica, este operador actúa sobre una función de onda $ \\psi(\\mathbf{r}) $ de la siguiente manera:\n",
        "   $$\n",
        "   T(\\mathbf{a})\\psi(\\mathbf{r}) = \\psi(\\mathbf{r} - \\mathbf{a})\n",
        "   $$\n",
        "\n",
        "2. **Definición de un Operador Unitario**: Un operador $ U $ es unitario si cumple con la condición $ U^\\dagger U = U U^\\dagger = I $, donde $ U^\\dagger $ es el adjunto hermítico de $ U $ y $ I $ es el operador identidad.\n",
        "\n",
        "3. **Calculando el Adjunto Hermítico**: El adjunto hermítico de $ T(\\mathbf{a}) $, denotado como $ T^\\dagger(\\mathbf{a}) $, actúa sobre una función de onda $ \\phi(\\mathbf{r}) $ de la forma:\n",
        "   $$\n",
        "   T^\\dagger(\\mathbf{a})\\phi(\\mathbf{r}) = \\phi(\\mathbf{r} + \\mathbf{a})\n",
        "   $$\n",
        "\n",
        "4. **Verificación de la Unitariedad**: Para verificar que $ T(\\mathbf{a}) $ es unitario, debemos mostrar que $ T^\\dagger(\\mathbf{a}) T(\\mathbf{a}) = T(\\mathbf{a}) T^\\dagger(\\mathbf{a}) = I $. Esto significa que si aplicamos primero $ T(\\mathbf{a}) $ y luego $ T^\\dagger(\\mathbf{a}) $ a cualquier función de onda $ \\psi(\\mathbf{r}) $, el resultado debe ser la función de onda original $ \\psi(\\mathbf{r}) $. Matemáticamente:\n",
        "   $$\n",
        "   T^\\dagger(\\mathbf{a})T(\\mathbf{a})\\psi(\\mathbf{r}) = T^\\dagger(\\mathbf{a})\\psi(\\mathbf{r} - \\mathbf{a}) = \\psi(\\mathbf{r})\n",
        "   $$\n",
        "   y de manera similar para $ T(\\mathbf{a})T^\\dagger(\\mathbf{a}) $.\n",
        "\n",
        "5. **Conclusión**: Dado que la composición de $ T(\\mathbf{a}) $ y $ T^\\dagger(\\mathbf{a}) $ en cualquier orden devuelve la función de onda original, concluimos que el operador de traslación espacial $ T(\\mathbf{a}) $ es unitario.\n"
      ],
      "metadata": {
        "id": "pXTbodAdb-xP"
      }
    },
    {
      "cell_type": "markdown",
      "source": [
        "### **Ejercicio 6:**\n",
        "Demostrar que cuando dos operadores conmutan tienen una base propia común.\n",
        "\n",
        "---"
      ],
      "metadata": {
        "id": "CvIyzX8dYSJl"
      }
    },
    {
      "cell_type": "markdown",
      "source": [
        "Supongamos dos operadores hermíticos $ A $ y $ B $ que conmutan, es decir, $ AB = BA $. Queremos demostrar que tienen una base de vectores propios común.\n",
        "\n",
        "1. **Teorema Espectral para Operadores Hermíticos**: Dado que $ A $ y $ B $ son hermíticos, por el teorema espectral, cada uno tiene una base completa de vectores propios.\n",
        "\n",
        "2. **Vectores Propios de A**: Sea $ |a\\rangle $ un vector propio de $ A $, entonces $ A|a\\rangle = a|a\\rangle $, donde $ a $ es el valor propio correspondiente.\n",
        "\n",
        "3. **Aplicación de B a $ |a\\rangle $**: Aplicamos $ B $ a ambos lados de la ecuación anterior:\n",
        "   $$\n",
        "   B(A|a\\rangle) = B(a|a\\rangle) = a(B|a\\rangle)\n",
        "   $$\n",
        "\n",
        "4. **Conmutatividad de A y B**: Usando la conmutatividad $ AB = BA $, también tenemos:\n",
        "   $$\n",
        "   A(B|a\\rangle) = B(A|a\\rangle) = a(B|a\\rangle)\n",
        "   $$\n",
        "\n",
        "5. **$ B|a\\rangle $ es Vector Propio de A**: De la ecuación anterior, se deduce que $ B|a\\rangle $ es también un vector propio de $ A $ con el mismo valor propio $ a $.\n",
        "\n",
        "6. **Base Común de Vectores Propios**: Repitiendo el argumento para todos los vectores propios de $ A $ y usando un razonamiento similar para $ B $, se muestra que los operadores comparten una base común de vectores propios.\n",
        "\n",
        "La conmutatividad de dos operadores hermíticos implica que tienen una base de vectores propios común, lo cual es una consecuencia directa de su acción en los vectores propios del otro operador.\n"
      ],
      "metadata": {
        "id": "QZEnPRhDc_wH"
      }
    },
    {
      "cell_type": "markdown",
      "source": [
        "### **Ejercicio 7:**\n",
        "Hallar los autovalores y autovectores del operador de espín $ S_x $\n",
        "\n",
        "---"
      ],
      "metadata": {
        "id": "_0Y31D6uYSEL"
      }
    },
    {
      "cell_type": "markdown",
      "source": [
        "1. **Expresión Matricial de $ S_x $**: El operador de espín $ S_x $, en la base de los estados de espín z, se representa por la matriz:\n",
        "   $$\n",
        "   S_x = \\frac{\\hbar}{2}\\begin{pmatrix} 0 & 1 \\\\ 1 & 0 \\end{pmatrix}\n",
        "   $$\n",
        "\n",
        "2. **Ecuación Característica**: Para encontrar los autovalores, resolvemos la ecuación característica:\n",
        "   $$\n",
        "   \\det(S_x - \\lambda I) = 0\n",
        "   $$\n",
        "\n",
        "3. **Determinante y Autovalores**: El determinante se convierte en:\n",
        "   $$\n",
        "   \\det\\left(\\frac{\\hbar}{2}\\begin{pmatrix} 0 & 1 \\\\ 1 & 0 \\end{pmatrix} - \\lambda \\begin{pmatrix} 1 & 0 \\\\ 0 & 1 \\end{pmatrix}\\right) = 0\n",
        "   $$\n",
        "   Resolviendo esta ecuación cuadrática, obtenemos los autovalores $ \\lambda = \\pm\\frac{\\hbar}{2} $.\n",
        "\n",
        "4. **Encontrar Autovectores**: Para cada autovalor $ \\lambda $, resolvemos la ecuación:\n",
        "   $$\n",
        "   (S_x - \\lambda I)|v\\rangle = 0\n",
        "   $$\n",
        "   para encontrar los autovectores correspondientes.\n",
        "\n",
        "5. **Solución para Autovectores**: La solución de estas ecuaciones nos dará los autovectores de $ S_x $, que son combinaciones lineales de los estados de espín en la dirección z.\n",
        "\n"
      ],
      "metadata": {
        "id": "Ce0yiTMAdbtw"
      }
    },
    {
      "cell_type": "code",
      "source": [
        "# Definir la constante simbólica para ħ (h-barra)\n",
        "h_bar = sp.symbols('h_bar')\n",
        "\n",
        "# Matriz S_x\n",
        "S_x = (h_bar/2) * sp.Matrix([[0, 1], [1, 0]])\n",
        "\n",
        "# Autovalores\n",
        "autovalores = S_x.eigenvals()\n",
        "\n",
        "# Cálculo de los autovectores\n",
        "autovectores = S_x.eigenvects()\n",
        "\n",
        "autovalores, autovectores"
      ],
      "metadata": {
        "id": "3iH84PrvUwtv",
        "outputId": "328ebb43-d3fb-4ac5-aafb-106657ea4506",
        "colab": {
          "base_uri": "https://localhost:8080/"
        }
      },
      "execution_count": 61,
      "outputs": [
        {
          "output_type": "execute_result",
          "data": {
            "text/plain": [
              "({-h_bar/2: 1, h_bar/2: 1},\n",
              " [(-h_bar/2, 1, [Matrix([\n",
              "    [-1],\n",
              "    [ 1]])]),\n",
              "  (h_bar/2,\n",
              "   1,\n",
              "   [Matrix([\n",
              "    [1],\n",
              "    [1]])])])"
            ]
          },
          "metadata": {},
          "execution_count": 61
        }
      ]
    },
    {
      "cell_type": "markdown",
      "source": [
        "- Para $ \\lambda = -\\frac{\\hbar}{2}$ , el autovector es $\\begin{pmatrix} -1 \\\\ 1 \\end{pmatrix}$\n",
        "- Para $ \\lambda = \\frac{\\hbar}{2} $, el autovector es $\\begin{pmatrix} 1 \\\\ 1 \\end{pmatrix}$"
      ],
      "metadata": {
        "id": "8Gr380mUVOpX"
      }
    },
    {
      "cell_type": "markdown",
      "source": [
        "### **Ejercicio 8:**\n",
        "Comprobar que los estados de Bell son máximamente entrelazados.\n",
        "\n",
        "---"
      ],
      "metadata": {
        "id": "zXSqtWeXYR90"
      }
    },
    {
      "cell_type": "markdown",
      "source": [
        "Los cuatro estados de Bell son:\n",
        "1. $( |\\Phi^+\\rangle = \\frac{1}{\\sqrt{2}}(|00\\rangle + |11\\rangle) )$\n",
        "2. $( |\\Phi^-\\rangle = \\frac{1}{\\sqrt{2}}(|00\\rangle - |11\\rangle) )$\n",
        "3. $( |\\Psi^+\\rangle = \\frac{1}{\\sqrt{2}}(|01\\rangle + |10\\rangle) )$\n",
        "4. $( |\\Psi^-\\rangle = \\frac{1}{\\sqrt{2}}(|01\\rangle - |10\\rangle) )$\n",
        "\n",
        "Un estado entrelazado es \"máximamente entrelazado\" si no es posible escribirlo como un producto de estados de sus subsistemas. Un estado de dos qubits está máximamente entrelazado si su entropía de entrelazamiento es máxima, lo que significa que la información sobre un qubit es completamente dependiente del otro.\n",
        "\n",
        "La entropía de entrelazamiento de un estado puro de dos qubits, $( |\\psi\\rangle )$, se define como la entropía de Von Neumann de cualquiera de los subsistemas. Para un estado de Bell, la entropía de Von Neumann es máxima. En el caso de los estados de Bell, la densidad reducida de uno de los qubits es $( \\frac{1}{2}I )$, donde $( I )$ es la matriz identidad de 2x2. La entropía de Von Neumann de una matriz densidad $( \\rho )$ se calcula como $( S(\\rho) = -\\text{tr}(\\rho \\log_2 \\rho) )$. Para $( \\frac{1}{2}I )$, esto se simplifica a 1 bit, que es el valor máximo posible para un qubit, confirmando que los estados de Bell son máximamente entrelazados."
      ],
      "metadata": {
        "id": "zgUJl2XJZ22a"
      }
    },
    {
      "cell_type": "markdown",
      "source": [
        "### **Ejercicio 9:**\n",
        "Comprobar que $ \\frac{1}{\\sqrt{2}}(|00\\rangle + |11\\rangle) = \\frac{1}{\\sqrt{2}}(|++\\rangle + |--\\rangle) $.\n",
        "\n",
        "---"
      ],
      "metadata": {
        "id": "O9MOjRaxYRwT"
      }
    },
    {
      "cell_type": "code",
      "source": [
        "# Definición de los estados base |0>, |1>, |+>, y |->\n",
        "estado_0 = np.array([1, 0])\n",
        "estado_1 = np.array([0, 1])\n",
        "\n",
        "estado_mas = (1/np.sqrt(2)) * (estado_0 + estado_1)\n",
        "estado_menos = (1/np.sqrt(2)) * (estado_0 - estado_1)\n",
        "\n",
        "# Estado |00> + |11>\n",
        "estado_izquierdo = (1/np.sqrt(2)) * (np.kron(estado_0, estado_0) + np.kron(estado_1, estado_1))\n",
        "\n",
        "# Estado |++> + |-->\n",
        "estado_derecho = (1/np.sqrt(2)) * (np.kron(estado_mas, estado_mas) + np.kron(estado_menos, estado_menos))\n",
        "\n",
        "# Comprobación de igualdad\n",
        "np.allclose(estado_izquierdo, estado_derecho)\n"
      ],
      "metadata": {
        "colab": {
          "base_uri": "https://localhost:8080/"
        },
        "id": "Bm2sjzhPfZvr",
        "outputId": "bd3bbd50-5e75-4f63-875f-bd3491f5b447"
      },
      "execution_count": null,
      "outputs": [
        {
          "output_type": "execute_result",
          "data": {
            "text/plain": [
              "True"
            ]
          },
          "metadata": {},
          "execution_count": 3
        }
      ]
    },
    {
      "cell_type": "markdown",
      "source": [
        "### **Ejercicio 10:**\n",
        "Dar la expresión del estado de Bell $ \\frac{1}{\\sqrt{2}}(|00\\rangle - |11\\rangle) $ después de que $ A $ y $ B $ hayan rotado sus respectivos qubits un ángulo genérico $ \\phi $\n",
        "\n",
        "---"
      ],
      "metadata": {
        "id": "BBku2-bkYelr"
      }
    },
    {
      "cell_type": "code",
      "source": [
        "# Definición de un símbolo genérico para phi\n",
        "phi = sp.Symbol('phi')\n",
        "\n",
        "# Redefinición de la matriz de rotación\n",
        "def matriz_rotacion_sympy(phi):\n",
        "    return sp.Matrix([[sp.exp(-sp.I * phi / 2), 0],\n",
        "                      [0, sp.exp(sp.I * phi / 2)]])\n",
        "\n",
        "# Estados base |0> y |1>\n",
        "estado_0_sympy = sp.Matrix([1, 0])\n",
        "estado_1_sympy = sp.Matrix([0, 1])\n",
        "\n",
        "# Estado de Bell\n",
        "estado_bell_sympy = (1/sp.sqrt(2)) * (sp.Matrix([1, 0, 0, 0]) - sp.Matrix([0, 0, 0, 1]))\n",
        "\n",
        "# Aplicación de la matriz de rotación a ambos qubits\n",
        "R_phi_sympy = matriz_rotacion_sympy(phi)\n",
        "estado_transformado_sympy = sp.kronecker_product(R_phi_sympy, R_phi_sympy) * estado_bell_sympy\n",
        "\n",
        "estado_transformado_sympy"
      ],
      "metadata": {
        "colab": {
          "base_uri": "https://localhost:8080/",
          "height": 105
        },
        "id": "uwGvgoLlgC18",
        "outputId": "fe5a21e8-dfe0-45fe-c883-c0e4839b9d4e"
      },
      "execution_count": null,
      "outputs": [
        {
          "output_type": "execute_result",
          "data": {
            "text/plain": [
              "Matrix([\n",
              "[sqrt(2)*exp(-I*phi)/2],\n",
              "[                    0],\n",
              "[                    0],\n",
              "[-sqrt(2)*exp(I*phi)/2]])"
            ],
            "text/latex": "$\\displaystyle \\left[\\begin{matrix}\\frac{\\sqrt{2} e^{- i \\phi}}{2}\\\\0\\\\0\\\\- \\frac{\\sqrt{2} e^{i \\phi}}{2}\\end{matrix}\\right]$"
          },
          "metadata": {},
          "execution_count": 5
        }
      ]
    }
  ]
}