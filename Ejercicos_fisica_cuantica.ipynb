{
  "nbformat": 4,
  "nbformat_minor": 0,
  "metadata": {
    "colab": {
      "provenance": [],
      "authorship_tag": "ABX9TyN54VU6O8kDDz56nYfsqa1u",
      "include_colab_link": true
    },
    "kernelspec": {
      "name": "python3",
      "display_name": "Python 3"
    },
    "language_info": {
      "name": "python"
    }
  },
  "cells": [
    {
      "cell_type": "markdown",
      "metadata": {
        "id": "view-in-github",
        "colab_type": "text"
      },
      "source": [
        "<a href=\"https://colab.research.google.com/github/aitormorais/Fundamentos-F-sico-Matem-ticos/blob/main/Ejercicos_fisica_cuantica.ipynb\" target=\"_parent\"><img src=\"https://colab.research.google.com/assets/colab-badge.svg\" alt=\"Open In Colab\"/></a>"
      ]
    },
    {
      "cell_type": "markdown",
      "source": [
        "## Teoria cuántica antigua\n",
        "---"
      ],
      "metadata": {
        "id": "tnkemLQ4fyHN"
      }
    },
    {
      "cell_type": "markdown",
      "source": [
        "### **Ejercicio 1: Aplicando la Ley del desplazamiento de Wien, calcúlese las longitudes de onda de mayor energía a la temperatura de:**\n",
        "\n",
        "---\n",
        "a) 10^6 K\n",
        "\n",
        "b) 10^3 K\n",
        "\n"
      ],
      "metadata": {
        "id": "LynVScFCO_6F"
      }
    },
    {
      "cell_type": "markdown",
      "source": [
        "Definimos la constante de desplazamiento de Wien:"
      ],
      "metadata": {
        "id": "w_6t9--HPbhy"
      }
    },
    {
      "cell_type": "code",
      "execution_count": null,
      "metadata": {
        "id": "GZj-W4TkOwjt"
      },
      "outputs": [],
      "source": [
        "b = 2.8976e-3"
      ]
    },
    {
      "cell_type": "markdown",
      "source": [
        "Calculamos longitud de onda para a) 10^6 K"
      ],
      "metadata": {
        "id": "ZtX0ZU1bPoTe"
      }
    },
    {
      "cell_type": "code",
      "source": [
        "T1=1e6\n",
        "lambda1 = b/T1"
      ],
      "metadata": {
        "id": "RWI4epuOPq8s"
      },
      "execution_count": null,
      "outputs": []
    },
    {
      "cell_type": "markdown",
      "source": [
        "Calculamos longitud de onda para b) 10^3 K"
      ],
      "metadata": {
        "id": "IFrwNmBPP3p0"
      }
    },
    {
      "cell_type": "code",
      "source": [
        "T2= 1e3\n",
        "lambda2 =b/T2"
      ],
      "metadata": {
        "id": "LFTIUPW6P3RW"
      },
      "execution_count": null,
      "outputs": []
    },
    {
      "cell_type": "markdown",
      "source": [
        "Resultado"
      ],
      "metadata": {
        "id": "WWMMwHwNQBBN"
      }
    },
    {
      "cell_type": "code",
      "source": [
        "print(f\"Longitud de onda para 10^6 K: { lambda1 } m\")"
      ],
      "metadata": {
        "colab": {
          "base_uri": "https://localhost:8080/"
        },
        "id": "tkog1RAwQCjF",
        "outputId": "cdbfd015-f09a-4bf0-aa14-f8c171adbf3e"
      },
      "execution_count": null,
      "outputs": [
        {
          "output_type": "stream",
          "name": "stdout",
          "text": [
            "Longitud de onda para 10^6 K: 2.8976e-09 m\n"
          ]
        }
      ]
    },
    {
      "cell_type": "code",
      "source": [
        "print(f\"Longitud de onda para 10^6 K: {lambda2} m\")"
      ],
      "metadata": {
        "colab": {
          "base_uri": "https://localhost:8080/"
        },
        "id": "fwSUWbfRQRyW",
        "outputId": "28d2a323-afa9-47b2-c9d0-2352b50bcf84"
      },
      "execution_count": null,
      "outputs": [
        {
          "output_type": "stream",
          "name": "stdout",
          "text": [
            "Longitud de onda para 10^6 K: 2.8976e-06 m\n"
          ]
        }
      ]
    },
    {
      "cell_type": "markdown",
      "source": [
        "### **Ejercicio 2:                                                            Las estrellas enanas blancas tienen una temperatura superficial de unos 10^4 K ¿Cuál es la longitudde onda máxima λmáx correspondiente a esa temperatura según la ley de Wien?**\n",
        "\n",
        "---"
      ],
      "metadata": {
        "id": "ObKUgCrLaBw-"
      }
    },
    {
      "cell_type": "code",
      "source": [
        "#sabiendo que λ = b/T\n",
        "resultado = b/(1e4)\n",
        "print(f\"La longitud de onda correspondiente es: {resultado} m\")"
      ],
      "metadata": {
        "colab": {
          "base_uri": "https://localhost:8080/"
        },
        "id": "FgrXSTIUaext",
        "outputId": "1705808d-9bcd-4318-d01f-3712b9b44a45"
      },
      "execution_count": null,
      "outputs": [
        {
          "output_type": "stream",
          "name": "stdout",
          "text": [
            "La longitud de onda correspondiente es: 2.8976e-07 m\n"
          ]
        }
      ]
    },
    {
      "cell_type": "markdown",
      "source": [
        "### **Ejercicio 3:  El sol tiene su máxima emisión de energía a una longitud de onda de 4,75·(10^-7) m. Considerando que el espectro de radiación del sol es como el de un cuerpo negro. Calcular la temperatura en la superficie del sol**\n",
        "---"
      ],
      "metadata": {
        "id": "WXDUDXs2bRTF"
      }
    },
    {
      "cell_type": "code",
      "source": [
        "res = b/4.75e-7"
      ],
      "metadata": {
        "id": "MZ_ShE_hcGQB"
      },
      "execution_count": null,
      "outputs": []
    },
    {
      "cell_type": "code",
      "source": [
        "print(f\"La temperatura de la superfice del sol es {res} K\")"
      ],
      "metadata": {
        "colab": {
          "base_uri": "https://localhost:8080/"
        },
        "id": "EvM019wlcoTM",
        "outputId": "22149474-152d-407e-8ca1-ce9492586000"
      },
      "execution_count": null,
      "outputs": [
        {
          "output_type": "stream",
          "name": "stdout",
          "text": [
            "La temperatura de la superfice del sol es 6100.21052631579 K\n"
          ]
        }
      ]
    },
    {
      "cell_type": "markdown",
      "source": [
        "### **Ejercicio 4:Explicar en que consiste “La Catástrofe Ultravioleta”**\n",
        "---"
      ],
      "metadata": {
        "id": "naKTCWF2dg3r"
      }
    },
    {
      "cell_type": "markdown",
      "source": [
        "EXPLICACION\n"
      ],
      "metadata": {
        "id": "uLPI63-6e9aS"
      }
    },
    {
      "cell_type": "markdown",
      "source": [
        "## El Átomo de Bohr\n",
        "---"
      ],
      "metadata": {
        "id": "P_Lcuh47gQCG"
      }
    },
    {
      "cell_type": "markdown",
      "source": [
        "### **Ejercicio 5: Determinar la energía y la longitud de onda λ de la raya espectral que tiene la longitud de onda más larga de la serie de Lyman**\n",
        "---\n"
      ],
      "metadata": {
        "id": "niCAhBlrgrtO"
      }
    },
    {
      "cell_type": "markdown",
      "source": [
        "La formula de la serie lyman es: (1/λ) = R ((1/(n_1)\n",
        "^2) - (1/(n_2)^2))\n",
        "Donde:\n",
        "\n",
        "*   R es la constante de Rydberg\n",
        "*   n_1 y n_2  son los niveles de energia inicial y final\n",
        "\n"
      ],
      "metadata": {
        "id": "szKq9Mhyhxpz"
      }
    },
    {
      "cell_type": "markdown",
      "source": [
        "Definimos las constantes"
      ],
      "metadata": {
        "id": "yw9xHLyHlTh4"
      }
    },
    {
      "cell_type": "code",
      "source": [
        "from scipy.constants import h, c, Rydberg"
      ],
      "metadata": {
        "id": "qaLH-ZJlmeAT"
      },
      "execution_count": null,
      "outputs": []
    },
    {
      "cell_type": "code",
      "source": [
        "\n",
        "R = Rydberg  # m^-1, Constante de Rydberg\n",
        "h = h  # J s, Constante de Planck\n",
        "c = c  # m/s, Velocidad de la luz"
      ],
      "metadata": {
        "id": "jlZXEWPqlW1X"
      },
      "execution_count": null,
      "outputs": []
    },
    {
      "cell_type": "markdown",
      "source": [
        "Calculamos la longitud de onda para n = 2"
      ],
      "metadata": {
        "id": "eFcJ96MnlbJv"
      }
    },
    {
      "cell_type": "markdown",
      "source": [
        "Cálculo longitud de onda"
      ],
      "metadata": {
        "id": "Zn6acQeZn2HU"
      }
    },
    {
      "cell_type": "code",
      "source": [
        "n = 2\n",
        "lambda_inverse = R * (1/1**2 - 1/n**2)\n",
        "lambda_lyman = 1/lambda_inverse"
      ],
      "metadata": {
        "id": "jQsSE3cVoADT"
      },
      "execution_count": null,
      "outputs": []
    },
    {
      "cell_type": "markdown",
      "source": [
        "Cálculo de la energía"
      ],
      "metadata": {
        "id": "zidsSqO2oAVp"
      }
    },
    {
      "cell_type": "code",
      "source": [
        "E = h * c * lambda_inverse"
      ],
      "metadata": {
        "id": "GoCgmsfgoA3a"
      },
      "execution_count": null,
      "outputs": []
    },
    {
      "cell_type": "markdown",
      "source": [
        "Resultados"
      ],
      "metadata": {
        "id": "DbVjG9aaoF78"
      }
    },
    {
      "cell_type": "code",
      "source": [
        "\n",
        "print(f\"Longitud de onda de la raya espectral más larga de la serie de Lyman: {lambda_lyman} m\")\n",
        "print(f\"Energía de la raya espectral más larga de la serie de Lyman: {E} J\")\n"
      ],
      "metadata": {
        "colab": {
          "base_uri": "https://localhost:8080/"
        },
        "id": "mqQtUfiqjuHz",
        "outputId": "743aa5fb-632d-45a4-e19e-ce6b16cdaffd"
      },
      "execution_count": null,
      "outputs": [
        {
          "output_type": "stream",
          "name": "stdout",
          "text": [
            "Longitud de onda de la raya espectral más larga de la serie de Lyman: 1.2150227341098497e-07 m\n",
            "Energía de la raya espectral más larga de la serie de Lyman: 1.6349042708276885e-18 J\n"
          ]
        }
      ]
    },
    {
      "cell_type": "markdown",
      "source": [
        "### **Ejercicio 6 : Haciendo uso de la fórmula de Rydberg obtener las 4 líneas menos energéticas del espectro del átomo de hidrógeno**\n",
        "---"
      ],
      "metadata": {
        "id": "dNfUpva8Owmu"
      }
    },
    {
      "cell_type": "markdown",
      "source": [
        "### **Ejercicio 7:**\n",
        "**Utilizar el átomo de Borh para explicar el principio de correspondencia**\n",
        "\n",
        "---"
      ],
      "metadata": {
        "id": "25o_CCezO7vV"
      }
    },
    {
      "cell_type": "markdown",
      "source": [
        "### **Ejercicio 8: Describir los conceptos de cuantización que aparecen en los postulados de Bohr para explicar el átomo de hidrógeno**\n",
        "---"
      ],
      "metadata": {
        "id": "9IVNer_oPJ24"
      }
    },
    {
      "cell_type": "markdown",
      "source": [
        "## Dualidad Onda-Corpúsculo\n",
        "---"
      ],
      "metadata": {
        "id": "DBi00Vp0PWok"
      }
    },
    {
      "cell_type": "markdown",
      "source": [
        "### **Ejercicio : 9**\n",
        "\n",
        "**Una onda electromagnética plana se desplaza en el vacío en el sentido positivo del eje OX, con una frecuencia de 2·108 Hz. Calcular la longitud de onda y el periodo.**\n",
        "\n",
        "---"
      ],
      "metadata": {
        "id": "VWMCYV9_PcYd"
      }
    },
    {
      "cell_type": "markdown",
      "source": [
        "### **Ejercicio : 10**\n",
        "**Calcular la energía de los fotones correspondientes a los extremos, violeta y rojo, del espectro visible (400nm y 700nm)**\n",
        "\n",
        "---"
      ],
      "metadata": {
        "id": "VSv7ZYfsPlHk"
      }
    },
    {
      "cell_type": "markdown",
      "source": [
        "### **Ejercicio : 11**\n",
        "\n",
        "**Dada una bola de billar de masa 1kg que se mueve con velocidad 0.25 m/s sobre la mesa de juego.\n",
        "Según de Broglie ¿Cuál sería la longitud de onda asociada que llevaría esta bola? ¿Y si en lugar de\n",
        "una bola de billar fuese un electrón?**\n",
        "\n",
        "---"
      ],
      "metadata": {
        "id": "dFHQStUYPl5M"
      }
    },
    {
      "cell_type": "markdown",
      "source": [
        "### **Ejercicio : 12**\n",
        "\n",
        "**La longitud de onda mínima para arrancar un electrón en una placa de potasio es de 564 nm.\n",
        "Calcular la función del trabajo del Potasio. ¿Cuál es el potencial de detención cuando se ilumina la\n",
        "placa con luz de 400nm?**\n",
        "\n",
        "---"
      ],
      "metadata": {
        "id": "GM6d1G38Pmq1"
      }
    },
    {
      "cell_type": "markdown",
      "source": [
        "### **Ejercicio 13:                                                     Describir los siguientes experimentos y explicar cómo contribuyeron al desarrollo de la teoría cuántica**\n",
        "---"
      ],
      "metadata": {
        "id": "PXCXxvKaPmlk"
      }
    },
    {
      "cell_type": "markdown",
      "source": [
        "#### **a)El Experimento de Stern-Gerlach**\n",
        "---"
      ],
      "metadata": {
        "id": "n3fYyEbrQDej"
      }
    },
    {
      "cell_type": "markdown",
      "source": [
        "#### **b)El Efecto Compton**\n",
        "---"
      ],
      "metadata": {
        "id": "TdpoXhVjQRwz"
      }
    },
    {
      "cell_type": "markdown",
      "source": [
        "#### **c)El Efecto fotoeléctrico**\n",
        "---"
      ],
      "metadata": {
        "id": "F_5tS4klQTkb"
      }
    },
    {
      "cell_type": "markdown",
      "source": [
        "## **La Ecuación de Schrödinger**\n",
        "---"
      ],
      "metadata": {
        "id": "QuyPUuHvQbQk"
      }
    },
    {
      "cell_type": "markdown",
      "source": [
        "### **Ejercicio 14: Dadas las funciones:**\n",
        "\\begin{align*}\n",
        "a) \\ \\psi(x) &= x \\\\\n",
        "b) \\ \\phi(x) &= e^{-x^2}\n",
        "\\end{align*}\n",
        "\\begin{align*}\n",
        "\\text{definidas en el intervalo } 0 \\leq x < \\infty. \\text{ Comprobar si pueden ser funciones de onda.}\n",
        "\\end{align*}\n",
        "\n",
        "---"
      ],
      "metadata": {
        "id": "BCrKJkiAQojj"
      }
    },
    {
      "cell_type": "markdown",
      "source": [
        "### **Ejercicio 15:**\n",
        "\n",
        "La función de onda para una partícula confinada en el intervalo **0 ≤ x ≤ a** en el estado fundamental es:\n",
        "\n",
        "$$\n",
        "\\psi(x) = A \\cdot \\sin\\left(\\frac{\\pi x}{a}\\right)\n",
        "$$\n",
        "\n",
        "donde A es la constante de normalización. Encontrar:\n",
        "\n",
        "---\n",
        "\n"
      ],
      "metadata": {
        "id": "ZGjWwzpoRTbS"
      }
    },
    {
      "cell_type": "markdown",
      "source": [
        "#### **a) Encontrar el valor de A**\n",
        "---"
      ],
      "metadata": {
        "id": "F8O9kR0lT14Q"
      }
    },
    {
      "cell_type": "markdown",
      "source": [
        "#### b) **Calcular la probabilidad de que la partícula se encuentre en el intervalo**\n",
        "$$\n",
        " \\frac{a}{2} \\leq x \\leq \\frac{3a}{4}\n",
        "$$\n",
        "\n",
        "---"
      ],
      "metadata": {
        "id": "Fe8R_Yq2T85J"
      }
    },
    {
      "cell_type": "markdown",
      "source": [
        "### **Ejercicio 16: Dada una partícula cuya función de onda es de la forma: $\\psi(x,t) = \\phi(x) \\chi(t) $ y sometida a un potencial $ V(x) :$**\n",
        "---\n"
      ],
      "metadata": {
        "id": "WLOiHSQhVAzl"
      }
    },
    {
      "cell_type": "markdown",
      "source": [
        "#### **a) Demostrar que la parte temporal es del tipo  $\\chi(t) = Ae^{i\\omega t} $ siendo  A una constante**\n",
        "---\n",
        "\n",
        "\n"
      ],
      "metadata": {
        "id": "y7VSFl_sWN6l"
      }
    },
    {
      "cell_type": "markdown",
      "source": [
        "#### **b) Demostrar que la parte espacial $ \\phi(x) $ verifica la ecuación de Schrödinger independiente del tiempo con $ E = \\hbar \\omega $, es decir: $$\\frac{-\\hbar^2}{2m} \\frac{d^2\\phi(x)}{dx^2} + V(x)\\phi(x) = \\hbar\\omega\\phi(x) $$**\n",
        "---\n",
        "\n"
      ],
      "metadata": {
        "id": "qELup1UGWUlW"
      }
    },
    {
      "cell_type": "markdown",
      "source": [
        "#### **c) Demostrar que la densidad de probabilidad de esta función de onda es independiente del tiempo.**\n",
        "---"
      ],
      "metadata": {
        "id": "VCeiW5bGXAG9"
      }
    },
    {
      "cell_type": "markdown",
      "source": [
        "### **Ejercicio 17:**\n",
        "\n",
        "**Una partícula viene descrita por la siguiente función de onda:**\n",
        "$$\n",
        "\\psi(x,t) = \\sqrt{\\frac{1}{a}} \\sin\\left(\\frac{\\pi x}{a}\\right) e^{-iE_1t/\\hbar} + \\sqrt{\\frac{1}{a}} \\sin\\left(\\frac{2\\pi x}{a}\\right) e^{-iE_2t/\\hbar}\n",
        "$$\n",
        "\n",
        "**Encontrar la corriente de probabilidad para este sistema.**\n",
        "\n",
        "---"
      ],
      "metadata": {
        "id": "FtEmDIPmYaG1"
      }
    },
    {
      "cell_type": "markdown",
      "source": [
        "###**Ejercicio 18:**\n",
        "\n",
        "Encontrar el valor $Δ x \\Delta p$ para una partícula de masa \\(m\\) que se encuentra confinada en una caja de potencial en su estado fundamental. Su función de onda en estas condiciones es:\n",
        "$$\n",
        "\\psi(x) = \\sqrt{\\frac{2}{a}} \\sin\\left(\\frac{\\pi x}{a}\\right)\n",
        "$$\n",
        "\n",
        "---"
      ],
      "metadata": {
        "id": "7jWCz2VsYyJ7"
      }
    },
    {
      "cell_type": "markdown",
      "source": [
        "### **Ejercicio 19:**\n",
        "La masa de una bala es de 50g y la de un electrón es de $(9,1 \\times 10^{-28}g)$. Para ambos se mide una velocidad de \\(300 m/s\\) con una incertidumbre del \\(0,01\\%\\).\n",
        "\n",
        "Calcula la exactitud con la que puede medirse la posición de la bala y la del electrón si tanto velocidad como posición se miden de forma simultánea en el mismo experimento.\n",
        "\n",
        "---\n"
      ],
      "metadata": {
        "id": "yHyiU5EuZe2r"
      }
    },
    {
      "cell_type": "markdown",
      "source": [
        "### **Ejercicio 20:**\n",
        "Calcular los valores esperados $(<x>)$ y $(<p>)$ para una partícula confinada en una caja unidimensional de longitud $(0 \\leq x \\leq a)$ que se encuentra en su estado fundamental descrito por la función de onda:\n",
        "$$\n",
        "\\psi(x) = \\sqrt{\\frac{2}{a}} \\sin\\left(\\frac{\\pi x}{a}\\right)\n",
        "$$\n",
        "\n",
        "---"
      ],
      "metadata": {
        "id": "sDiCl8cdZuyd"
      }
    },
    {
      "cell_type": "markdown",
      "source": [
        "### **Ejercicio 21:**\n",
        "Hallar el valor esperado de la posición de un oscilador armónico cuántico en el estado fundamental.\n",
        "\n",
        "---"
      ],
      "metadata": {
        "id": "lKYQO0JEaCoM"
      }
    }
  ]
}