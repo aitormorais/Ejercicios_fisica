{
  "nbformat": 4,
  "nbformat_minor": 0,
  "metadata": {
    "colab": {
      "provenance": [],
      "authorship_tag": "ABX9TyP4x9B/m1krAVh0hIdpQUvB",
      "include_colab_link": true
    },
    "kernelspec": {
      "name": "python3",
      "display_name": "Python 3"
    },
    "language_info": {
      "name": "python"
    }
  },
  "cells": [
    {
      "cell_type": "markdown",
      "metadata": {
        "id": "view-in-github",
        "colab_type": "text"
      },
      "source": [
        "<a href=\"https://colab.research.google.com/github/aitormorais/Ejercicios_fisica/blob/main/Ejercicios_de_Matem%C3%A1ticas.ipynb\" target=\"_parent\"><img src=\"https://colab.research.google.com/assets/colab-badge.svg\" alt=\"Open In Colab\"/></a>"
      ]
    },
    {
      "cell_type": "markdown",
      "source": [
        "## Variable compleja\n",
        "---"
      ],
      "metadata": {
        "id": "SAPuQvYQ2L7Y"
      }
    },
    {
      "cell_type": "markdown",
      "source": [
        "### **Ejercicio 1:**\n",
        "Indicar cuál será el lugar geométrico sobre el que se ubicarán todos los números complejos en los que la parte real tiene el mismo valor que la parte imaginaria:\n",
        "\n",
        "---"
      ],
      "metadata": {
        "id": "1yPOxCzm2U-0"
      }
    },
    {
      "cell_type": "markdown",
      "source": [
        "#### **a)**La recta x=y"
      ],
      "metadata": {
        "id": "JwRWM8yc3f3s"
      }
    },
    {
      "cell_type": "markdown",
      "source": [
        "#### **b)** Todo el plano XY"
      ],
      "metadata": {
        "id": "TBX__AEU3nsy"
      }
    },
    {
      "cell_type": "markdown",
      "source": [
        "#### **c)** La recta y = 0"
      ],
      "metadata": {
        "id": "-Chm0-hS3n9V"
      }
    },
    {
      "cell_type": "markdown",
      "source": [
        "#### **d)**  La recta x = 0"
      ],
      "metadata": {
        "id": "JudA6Xe43oeJ"
      }
    },
    {
      "cell_type": "markdown",
      "source": [
        "### **Ejercicio 2:**\n",
        "Dados los números:\n",
        "$ Z{1} = 3-4i$ y $Z{2} =-4 + 3i$"
      ],
      "metadata": {
        "id": "7Jp46u_04xOQ"
      }
    },
    {
      "cell_type": "markdown",
      "source": [
        "#### **a)** El producto escalar $Z{1}.Z{2}$"
      ],
      "metadata": {
        "id": "8ti0D4_45nve"
      }
    },
    {
      "cell_type": "markdown",
      "source": [
        "#### **b)** El producto vectorial $Z{1} X Z{2}$"
      ],
      "metadata": {
        "id": "VVK6fqz45nnG"
      }
    },
    {
      "cell_type": "markdown",
      "source": [
        "### **Ejercicio 3:**\n",
        "Expresar los siguientes números en forma polar"
      ],
      "metadata": {
        "id": "B5xuEQW747bf"
      }
    },
    {
      "cell_type": "markdown",
      "source": [
        "#### **a)** $2+2\\sqrt{3}i$"
      ],
      "metadata": {
        "id": "cz_eSG135rRm"
      }
    },
    {
      "cell_type": "markdown",
      "source": [
        "#### **b)** $-5+5i$"
      ],
      "metadata": {
        "id": "OKhN40175rI2"
      }
    },
    {
      "cell_type": "markdown",
      "source": [
        "\n",
        "#### **c)** $ -\\sqrt{6}-\\sqrt{2}i$"
      ],
      "metadata": {
        "id": "yfLsQHvk5rCP"
      }
    },
    {
      "cell_type": "markdown",
      "source": [
        "#### **d)** $3i$"
      ],
      "metadata": {
        "id": "yCj8hqN55q7W"
      }
    },
    {
      "cell_type": "markdown",
      "source": [
        "### **Ejercicio 4:**\n",
        "Escribir en forma polar los siguientes números complejos"
      ],
      "metadata": {
        "id": "hmXQThhD471H"
      }
    },
    {
      "cell_type": "markdown",
      "source": [
        "#### **a)**\n",
        "$( \\cos \\frac{2\\pi}{9} + sen \\frac{2\\pi}{9} )^3$"
      ],
      "metadata": {
        "id": "WGReRdvB50Xl"
      }
    },
    {
      "cell_type": "markdown",
      "source": [
        "#### **b)**\n",
        "$\\frac{2 + 2i}{-\\sqrt{3}+i} $\n"
      ],
      "metadata": {
        "id": "suZVDhfV50RW"
      }
    },
    {
      "cell_type": "markdown",
      "source": [
        "#### **c)**\n",
        "$\\frac{2i}{3e^{4+i}}\n",
        "$"
      ],
      "metadata": {
        "id": "-DUb0mGF50Kl"
      }
    },
    {
      "cell_type": "markdown",
      "source": [
        "#### **d)**\n",
        " $-8\\pi ( 1 + \\sqrt{3}i )$"
      ],
      "metadata": {
        "id": "uj-FKWZz50Dm"
      }
    },
    {
      "cell_type": "markdown",
      "source": [
        "### **Ejercicio 5:**\n",
        "Escribir en forma binomial los siguientes números complejos"
      ],
      "metadata": {
        "id": "Pr_R1JMz48ue"
      }
    },
    {
      "cell_type": "markdown",
      "source": [
        "#### **a)**$ e^{\\frac{i\\pi}{4}}$\n"
      ],
      "metadata": {
        "id": "xDiiMX9O54v9"
      }
    },
    {
      "cell_type": "markdown",
      "source": [
        "#### **b)** $\\frac{e^{1+{i3\\pi}}}{e^{-1+\\frac{i\\pi}{2}}}$\n"
      ],
      "metadata": {
        "id": "uniAnbb-56Nd"
      }
    },
    {
      "cell_type": "markdown",
      "source": [
        "#### **c)** $e^{ei}$\n"
      ],
      "metadata": {
        "id": "f_uZcslL57GF"
      }
    },
    {
      "cell_type": "markdown",
      "source": [
        "#### **d)** $\\frac{3^{{3i}}-e^{-3i}}{2i}$"
      ],
      "metadata": {
        "id": "4Q_Romln57Tu"
      }
    },
    {
      "cell_type": "markdown",
      "source": [
        "### **Ejercicio 6:**\n",
        "Resolver la siguiente identidad trigonométrica\n",
        "$\\cos3\\theta + i*sen3θ = (cos\\theta +i sen \\theta)^3$"
      ],
      "metadata": {
        "id": "ecrmTcc248jO"
      }
    },
    {
      "cell_type": "markdown",
      "source": [
        "### **Ejercicio 7:**\n",
        "Demostrar que si z y w son dos números complejos, se siguen cumpliendo las siguientes igualdades:"
      ],
      "metadata": {
        "id": "6ZHG57iF48dP"
      }
    },
    {
      "cell_type": "markdown",
      "source": [
        "#### **a)** $\\sin^2 z + \\cos^2 z = 1$\n",
        "\n"
      ],
      "metadata": {
        "id": "KdxEWxjo6BE2"
      }
    },
    {
      "cell_type": "markdown",
      "source": [
        "#### **b)** $\\sin(z + w) = \\sin z \\cos w + \\cos z \\sin w$"
      ],
      "metadata": {
        "id": "YXpPg3MM6A8-"
      }
    },
    {
      "cell_type": "markdown",
      "source": [
        "#### **c)** $\\cos(z + w) = \\cos z \\cos w + \\sin z \\sin w$"
      ],
      "metadata": {
        "id": "qgVzyvZE6Afl"
      }
    },
    {
      "cell_type": "markdown",
      "source": [
        "### **Ejercicio 8:**\n",
        "Demostrar las siguientes identidades"
      ],
      "metadata": {
        "id": "AEjKowPd48UH"
      }
    },
    {
      "cell_type": "markdown",
      "source": [
        "#### **a)** $\\sin 3\\theta = 3 \\cos^2 \\theta \\sin \\theta - \\sin^3 \\theta$\n"
      ],
      "metadata": {
        "id": "6zkSmlgJB8eP"
      }
    },
    {
      "cell_type": "code",
      "source": [
        "###COMPROBAR EL APARTADO B SENT THETHA"
      ],
      "metadata": {
        "id": "bZnu5StdCc4o"
      },
      "execution_count": null,
      "outputs": []
    },
    {
      "cell_type": "markdown",
      "source": [
        "#### **b)** $\\sin 4\\theta = 4 \\cos^3 \\theta \\sin \\theta - 4 \\cos \\theta \\sin^3 \\theta$"
      ],
      "metadata": {
        "id": "aB34gQg9CFm2"
      }
    },
    {
      "cell_type": "markdown",
      "source": [
        "### **Ejercicio 9:**\n",
        "Resolver la siguiente ecuación algebraica de segundo grado\n",
        "$z^2+z+1= 0$"
      ],
      "metadata": {
        "id": "jLJICxIB48Kv"
      }
    },
    {
      "cell_type": "markdown",
      "source": [
        "### **Ejercicio 10:**\n",
        "Resolver las ecuaciones\n",
        "\n",
        "---"
      ],
      "metadata": {
        "id": "5x-KGfPC5G12"
      }
    },
    {
      "cell_type": "markdown",
      "source": [
        "#### **a)** $z^n + \\frac{1}{z^n}$"
      ],
      "metadata": {
        "id": "bWPFN4s-CS3l"
      }
    },
    {
      "cell_type": "markdown",
      "source": [
        "#### **b)** $z^n - \\frac{1}{z^n}$"
      ],
      "metadata": {
        "id": "IF8iEn2sCS3l"
      }
    },
    {
      "cell_type": "markdown",
      "source": [
        "## Álgebra\n",
        "---"
      ],
      "metadata": {
        "id": "qGMzSTZO5Kwo"
      }
    },
    {
      "cell_type": "markdown",
      "source": [
        "### **Ejercicio 11:**\n",
        "\n",
        "Determinar si los siguientes vectores son linealmente independientes:\n",
        "$u{1}= (2,9,2)$,\n",
        "$u{2}= (8,-3,1)$,\n",
        "$ u{3}= (-2,-1,1)$\n",
        "\n",
        "---"
      ],
      "metadata": {
        "id": "nAHdB7Ss5UVm"
      }
    },
    {
      "cell_type": "markdown",
      "source": [
        "### **Ejercicio 12:**\n",
        "Escribir el polinomio:\n",
        "\n",
        "$P(x) = 5x^2-4x+1$\n",
        "\n",
        "como combinación lineal de los polinomios:\n",
        "\n",
        "$U{1} = 2x^2 + 9x+1$,   $ U{2} = 4x+2$, $U{3} = x^2+3x+6 $\n",
        "\n",
        "---"
      ],
      "metadata": {
        "id": "FbSURtw25UQO"
      }
    },
    {
      "cell_type": "markdown",
      "source": [
        "### **Ejercicio 13:**\n",
        "Obtener la matriz de la transformación lineal:\n",
        "\n",
        "$T(x,y,z) = (x+y,3x-y+z)$\n",
        "\n",
        "de $R^3$ con la base estándar (1,0,0,), (0,1,0), (0,0,1) a $R^2$\n",
        " con la base (1,1), (1,-1)"
      ],
      "metadata": {
        "id": "lo3v8PFt5UJe"
      }
    },
    {
      "cell_type": "markdown",
      "source": [
        "### **Ejercicio 14:**\n",
        "Obtener los autovectores y autovalores de la siguiente matriz:\n",
        "\n",
        "$A = \\begin{pmatrix}\n",
        "1 & 1 & 3 \\\\\n",
        "1 & 1 & -3 \\\\\n",
        "3 & -3 & -3\n",
        "\\end{pmatrix}$\n",
        "\n",
        "---"
      ],
      "metadata": {
        "id": "nm30xdcp5UCe"
      }
    },
    {
      "cell_type": "markdown",
      "source": [
        "### **Ejercicio 15:**\n",
        "Demostrar las siguientes identidades:\n",
        "\n",
        "---"
      ],
      "metadata": {
        "id": "2vzf6z-Y5T6-"
      }
    },
    {
      "cell_type": "markdown",
      "source": [
        "#### **i)**  $P_+|0\\rangle = |0\\rangle$\n"
      ],
      "metadata": {
        "id": "PYKozaRME8ck"
      }
    },
    {
      "cell_type": "markdown",
      "source": [
        "####ii) $P_+|1\\rangle = 0$\n"
      ],
      "metadata": {
        "id": "h6mf-s1KFKSz"
      }
    },
    {
      "cell_type": "markdown",
      "source": [
        "####iii) $P_-|0\\rangle = 0$\n",
        "\n"
      ],
      "metadata": {
        "id": "akRfjyZYFnB9"
      }
    },
    {
      "cell_type": "markdown",
      "source": [
        "####iv) $P_+|1\\rangle = |1\\rangle$\n"
      ],
      "metadata": {
        "id": "6IqbZL85FysU"
      }
    },
    {
      "cell_type": "markdown",
      "source": [
        "####v) $\\sigma_{\\pm} = 0$\n"
      ],
      "metadata": {
        "id": "PX_gMqNDF6iL"
      }
    },
    {
      "cell_type": "markdown",
      "source": [
        "####vi) $P_{\\pm}^2 = P_{\\pm}$\n"
      ],
      "metadata": {
        "id": "RbmXiu6EG9tB"
      }
    },
    {
      "cell_type": "markdown",
      "source": [
        "####vii) $P_+ P_- = 0$"
      ],
      "metadata": {
        "id": "JH_1if4MHFdD"
      }
    },
    {
      "cell_type": "markdown",
      "source": [
        "### **Ejercicio 16:**\n",
        "\n",
        "Obtener los operadores de proyección sobre los autoespacios de $σ_z$ con los autovalores ±1."
      ],
      "metadata": {
        "id": "9wuW-b4R5T0-"
      }
    },
    {
      "cell_type": "markdown",
      "source": [
        "### **Ejercicio 17:**\n",
        "Dados los vectores:\n",
        "\n",
        "$|a\\rangle = \\begin{pmatrix}\n",
        "-2 \\\\\n",
        "4i \\\\\n",
        "1\n",
        "\\end{pmatrix}$\n",
        "\n",
        "$|b\\rangle = \\begin{pmatrix}\n",
        "1 \\\\\n",
        "0 \\\\\n",
        "i\n",
        "\\end{pmatrix}\n",
        "$\n",
        "\n",
        "Calcular:\n",
        "\n",
        "---\n"
      ],
      "metadata": {
        "id": "5B_3lSXJ5TuG"
      }
    },
    {
      "cell_type": "markdown",
      "source": [
        "####i) $\\langle a | ,  \\langle b |$\n"
      ],
      "metadata": {
        "id": "9LljvdzdH75Y"
      }
    },
    {
      "cell_type": "markdown",
      "source": [
        "#### ii) $\\langle a | b \\rangle, \\langle b | a \\rangle\n",
        "$"
      ],
      "metadata": {
        "id": "Y_eL52-eH7xh"
      }
    },
    {
      "cell_type": "markdown",
      "source": [
        "#### iii) $| c \\rangle = | a \\rangle + 2 | b \\rangle, \\langle c | a \\rangle$\n"
      ],
      "metadata": {
        "id": "JSEKTqMiH7nJ"
      }
    },
    {
      "cell_type": "markdown",
      "source": [
        "### **Ejercicio 18:**\n",
        "\n",
        "Calcular la norma de los siguientes vectores:\n",
        "\n",
        "$|u\\rangle = \\begin{pmatrix}\n",
        "2 \\\\\n",
        "4i\n",
        "\\end{pmatrix}$\n",
        "\n",
        "$|v\\rangle = \\begin{pmatrix}\n",
        "1 \\\\\n",
        "2i \\\\\n",
        "i\n",
        "\\end{pmatrix}\n",
        "$\n"
      ],
      "metadata": {
        "id": "Nvdi-v5y5TfQ"
      }
    },
    {
      "cell_type": "markdown",
      "source": [
        "### **Ejercicio 19:**\n",
        "Aplicar el procedimiento de Gram-Schmidt para construir una base ortonormal a partir del siguiente\n",
        "conjunto de vectores.\n",
        "\n",
        "$|v_1\\rangle = \\begin{pmatrix}\n",
        "1 \\\\\n",
        "2 \\\\\n",
        "-1\n",
        "\\end{pmatrix}\n",
        "$\n",
        "\n",
        "$ |v_2\\rangle = \\begin{pmatrix}\n",
        "0 \\\\\n",
        "1 \\\\\n",
        "-1\n",
        "\\end{pmatrix}\n",
        "$\n",
        "\n",
        "$|v_3\\rangle = \\begin{pmatrix}\n",
        "3 \\\\\n",
        "-7 \\\\\n",
        "1\n",
        "\\end{pmatrix}\n",
        "$\n",
        "\n",
        "---"
      ],
      "metadata": {
        "id": "nP3t39Hl5TnH"
      }
    },
    {
      "cell_type": "markdown",
      "source": [
        "### **Ejercicio 20:**\n",
        "\n",
        "Sean $\\{ |u_1\\rangle, |u_2\\rangle, |u_3\\rangle \\}$ una base ortonormal en $\\mathbb{C}^3$. Un sistema en este espacio se puede representar por:\n",
        "\n",
        "$|\\psi\\rangle = \\frac{1}{\\sqrt{5}}|u_1\\rangle - i\\sqrt{\\frac{7}{15}} |u_2\\rangle + \\frac{1}{\\sqrt{3}} |u_3\\rangle$\n"
      ],
      "metadata": {
        "id": "owameE1s5TTm"
      }
    },
    {
      "cell_type": "markdown",
      "source": [
        "#### i) Comprobar si es un estado normalizado"
      ],
      "metadata": {
        "id": "k-pQaBg7Jmf4"
      }
    },
    {
      "cell_type": "markdown",
      "source": [
        "#### ii) Si se realiza una medida, calcular la probabilidad de encontrar el sistema en cada uno de los estados  $\\{ |u_1\\rangle, |u_2\\rangle, |u_3\\rangle \\}$"
      ],
      "metadata": {
        "id": "281YV1XzJwKX"
      }
    }
  ]
}