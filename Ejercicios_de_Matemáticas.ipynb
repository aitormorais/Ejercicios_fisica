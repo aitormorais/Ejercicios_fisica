{
  "nbformat": 4,
  "nbformat_minor": 0,
  "metadata": {
    "colab": {
      "provenance": [],
      "authorship_tag": "ABX9TyP1U2V8UwIFuyv7wCd/IrJl",
      "include_colab_link": true
    },
    "kernelspec": {
      "name": "python3",
      "display_name": "Python 3"
    },
    "language_info": {
      "name": "python"
    }
  },
  "cells": [
    {
      "cell_type": "markdown",
      "metadata": {
        "id": "view-in-github",
        "colab_type": "text"
      },
      "source": [
        "<a href=\"https://colab.research.google.com/github/aitormorais/Ejercicios_fisica/blob/main/Ejercicios_de_Matem%C3%A1ticas.ipynb\" target=\"_parent\"><img src=\"https://colab.research.google.com/assets/colab-badge.svg\" alt=\"Open In Colab\"/></a>"
      ]
    },
    {
      "cell_type": "code",
      "source": [
        "from sympy import I, expand,Matrix,atan2,deg,sqrt,atan,sin, cos, E, N, simplify"
      ],
      "metadata": {
        "id": "QHo9SbcHLk43"
      },
      "execution_count": 13,
      "outputs": []
    },
    {
      "cell_type": "markdown",
      "source": [
        "## Variable compleja\n",
        "---"
      ],
      "metadata": {
        "id": "SAPuQvYQ2L7Y"
      }
    },
    {
      "cell_type": "markdown",
      "source": [
        "### **Ejercicio 1:**\n",
        "Indicar cuál será el lugar geométrico sobre el que se ubicarán todos los números complejos en los que la parte real tiene el mismo valor que la parte imaginaria:\n",
        "\n",
        "---"
      ],
      "metadata": {
        "id": "1yPOxCzm2U-0"
      }
    },
    {
      "cell_type": "markdown",
      "source": [
        "#### **a)**La recta x=y"
      ],
      "metadata": {
        "id": "JwRWM8yc3f3s"
      }
    },
    {
      "cell_type": "markdown",
      "source": [
        "#### **b)** Todo el plano XY"
      ],
      "metadata": {
        "id": "TBX__AEU3nsy"
      }
    },
    {
      "cell_type": "markdown",
      "source": [
        "#### **c)** La recta y = 0"
      ],
      "metadata": {
        "id": "-Chm0-hS3n9V"
      }
    },
    {
      "cell_type": "markdown",
      "source": [
        "#### **d)**  La recta x = 0"
      ],
      "metadata": {
        "id": "JudA6Xe43oeJ"
      }
    },
    {
      "cell_type": "markdown",
      "source": [
        "### **Ejercicio 2:** REVISAR!!!!!!!!!!!!!!\n",
        "Dados los números:\n",
        "$ Z{1} = 3-4i$ y $Z{2} =-4 + 3i$"
      ],
      "metadata": {
        "id": "7Jp46u_04xOQ"
      }
    },
    {
      "cell_type": "code",
      "source": [
        "# Definir los números complejos\n",
        "z1 = 3 - 4*I\n",
        "z2 = -4 + 3*I"
      ],
      "metadata": {
        "id": "I0j90ofALnum"
      },
      "execution_count": null,
      "outputs": []
    },
    {
      "cell_type": "markdown",
      "source": [
        "#### **a)** El producto escalar $Z_1 .Z_2$"
      ],
      "metadata": {
        "id": "8ti0D4_45nve"
      }
    },
    {
      "cell_type": "code",
      "source": [
        "# Calcular el producto escalar (producto de un número complejo por el conjugado del otro)\n",
        "producto_escalar = expand(z1 * z2.conjugate())\n"
      ],
      "metadata": {
        "id": "PXvWfTVHLiLe"
      },
      "execution_count": null,
      "outputs": []
    },
    {
      "cell_type": "code",
      "source": [
        "z2=z2.conjugate()"
      ],
      "metadata": {
        "id": "T0UZ71PhQYHx"
      },
      "execution_count": null,
      "outputs": []
    },
    {
      "cell_type": "code",
      "source": [
        "producto_escalar = z1 * z2"
      ],
      "metadata": {
        "id": "RzMa0wJGQAQ1"
      },
      "execution_count": null,
      "outputs": []
    },
    {
      "cell_type": "code",
      "source": [
        "expand(producto_escalar)"
      ],
      "metadata": {
        "colab": {
          "base_uri": "https://localhost:8080/",
          "height": 38
        },
        "id": "4ZpVMGciQCsq",
        "outputId": "695b391e-e576-40ad-881b-c44961165aff"
      },
      "execution_count": null,
      "outputs": [
        {
          "output_type": "execute_result",
          "data": {
            "text/plain": [
              "25*I"
            ],
            "text/latex": "$\\displaystyle 25 i$"
          },
          "metadata": {},
          "execution_count": 20
        }
      ]
    },
    {
      "cell_type": "markdown",
      "source": [
        "#### **b)** El producto vectorial $Z{1} X Z{2}$"
      ],
      "metadata": {
        "id": "VVK6fqz45nnG"
      }
    },
    {
      "cell_type": "code",
      "source": [
        "vector_product = Matrix([[3, -4*I], [-4, 3*I]]).det()"
      ],
      "metadata": {
        "id": "B1l-3V9CQyCK"
      },
      "execution_count": null,
      "outputs": []
    },
    {
      "cell_type": "code",
      "source": [
        "vector_product"
      ],
      "metadata": {
        "colab": {
          "base_uri": "https://localhost:8080/",
          "height": 38
        },
        "id": "UkWNFUeRQ4Gh",
        "outputId": "9b326e2d-6d31-4b5b-84e4-0d0b59d6ea05"
      },
      "execution_count": null,
      "outputs": [
        {
          "output_type": "execute_result",
          "data": {
            "text/plain": [
              "-7*I"
            ],
            "text/latex": "$\\displaystyle - 7 i$"
          },
          "metadata": {},
          "execution_count": 25
        }
      ]
    },
    {
      "cell_type": "markdown",
      "source": [
        "### **Ejercicio 3:** REVISAR!!!!!!!!!1\n",
        "Expresar los siguientes números en forma polar"
      ],
      "metadata": {
        "id": "B5xuEQW747bf"
      }
    },
    {
      "cell_type": "markdown",
      "source": [
        "\n",
        "\n",
        "*   Primero debemos de encontrar el modulo del numero complejo, es decir $m = \\sqrt{a^2+b^2}$\n",
        "*   A continuacion debemos encontrar el angulo usando la funcion arcotangente $\\theta = arcotan (b/a)$\n",
        "*   Una vez que tienes m y $\\theta$ , puedes expresar el número complejo en su forma polar como:\n",
        "$m(\\cosθ+i \\sinθ)$\n",
        "\n",
        "\n"
      ],
      "metadata": {
        "id": "UISuqgvOT8DO"
      }
    },
    {
      "cell_type": "code",
      "source": [
        "def modulo(a,b):\n",
        "  return sqrt(a**2+b**2)"
      ],
      "metadata": {
        "id": "CLqzU2gTVnne"
      },
      "execution_count": null,
      "outputs": []
    },
    {
      "cell_type": "code",
      "source": [
        "def angulo(a, b):\n",
        "  coseno = a\n",
        "  seno = b\n",
        "  if a <0:\n",
        "    coseno  = -a\n",
        "  if b<0:\n",
        "    seno = -b\n",
        "  angulo = deg(atan2(seno,coseno))\n",
        "  if angulo < 0 :\n",
        "    angulo = angulo*-1\n",
        "  return angulo"
      ],
      "metadata": {
        "id": "GlQeFGjzW16s"
      },
      "execution_count": null,
      "outputs": []
    },
    {
      "cell_type": "code",
      "source": [
        "def obtener_angulo(a,b):\n",
        "  if a>=0 and b >=0:#1\n",
        "    ang =  angulo(a,b)\n",
        "  elif a<0 and b >=0:#2\n",
        "    ang =  180 - angulo(a,b)\n",
        "  elif a <0 and b<0:#3\n",
        "    ang =  180+angulo(a,b).evalf()\n",
        "  elif a>=0 and b <0:\n",
        "    ang =  360 - angulo(a,b)\n",
        "  return ang"
      ],
      "metadata": {
        "id": "TF8QZmaoDsGM"
      },
      "execution_count": null,
      "outputs": []
    },
    {
      "cell_type": "code",
      "source": [
        "def ejercicio3(a,b):\n",
        "  #primero calcular el modulo\n",
        "  r_modulo = modulo(a,b)\n",
        "  #encontrar el angulo\n",
        "  angulo = obtener_angulo(a,b)\n",
        "  #imprimir el numero en forma polar\n",
        "  print(f\"{r_modulo}(cos({angulo})+i*sin({angulo}))\")\n"
      ],
      "metadata": {
        "id": "IuazmLwMOpc5"
      },
      "execution_count": null,
      "outputs": []
    },
    {
      "cell_type": "markdown",
      "source": [
        "#### **a)** $2+2\\sqrt{3}i$"
      ],
      "metadata": {
        "id": "cz_eSG135rRm"
      }
    },
    {
      "cell_type": "code",
      "source": [
        "a = 2\n",
        "b= 2*sqrt(3)\n",
        "ejercicio3(a,b)"
      ],
      "metadata": {
        "colab": {
          "base_uri": "https://localhost:8080/"
        },
        "id": "EPKlinNcHaN2",
        "outputId": "b0076d35-eba2-4039-9007-733850b3a750"
      },
      "execution_count": null,
      "outputs": [
        {
          "output_type": "stream",
          "name": "stdout",
          "text": [
            "4(cos(60)+i*sin(60))\n"
          ]
        }
      ]
    },
    {
      "cell_type": "markdown",
      "source": [
        "#### **b)** $-5+5i$"
      ],
      "metadata": {
        "id": "OKhN40175rI2"
      }
    },
    {
      "cell_type": "code",
      "source": [
        "a = -5\n",
        "b = 5\n",
        "ejercicio3(a,b)"
      ],
      "metadata": {
        "colab": {
          "base_uri": "https://localhost:8080/"
        },
        "id": "VhLuKB09T04h",
        "outputId": "75dd0104-5ee9-4700-d824-3bc142226bba"
      },
      "execution_count": null,
      "outputs": [
        {
          "output_type": "stream",
          "name": "stdout",
          "text": [
            "5*sqrt(2)(cos(135)+i*sin(135))\n"
          ]
        }
      ]
    },
    {
      "cell_type": "markdown",
      "source": [
        "\n",
        "#### **c)** $ -\\sqrt{6}-\\sqrt{2}i$"
      ],
      "metadata": {
        "id": "yfLsQHvk5rCP"
      }
    },
    {
      "cell_type": "code",
      "source": [
        "a = -sqrt(6)\n",
        "b = -sqrt(2)\n",
        "ejercicio3(a,b)"
      ],
      "metadata": {
        "colab": {
          "base_uri": "https://localhost:8080/"
        },
        "id": "tHG1hTYZdhUE",
        "outputId": "b62ed999-05e0-4ddb-eb91-78611471e4d1"
      },
      "execution_count": null,
      "outputs": [
        {
          "output_type": "stream",
          "name": "stdout",
          "text": [
            "3\n",
            "30\n",
            "2*sqrt(2)(cos(210)+i*sin(210))\n"
          ]
        }
      ]
    },
    {
      "cell_type": "code",
      "source": [
        "a = -sqrt(6)\n",
        "b = -sqrt(2)\n",
        "ejercicio3(a,b)"
      ],
      "metadata": {
        "colab": {
          "base_uri": "https://localhost:8080/"
        },
        "id": "aRQvYmX2QF6g",
        "outputId": "49636487-a970-4518-b7d6-4af8a6cce134"
      },
      "execution_count": null,
      "outputs": [
        {
          "output_type": "stream",
          "name": "stdout",
          "text": [
            "2*sqrt(2)(cos(210)+i*sin(210))\n"
          ]
        }
      ]
    },
    {
      "cell_type": "markdown",
      "source": [
        "#### **d)** $3i$"
      ],
      "metadata": {
        "id": "yCj8hqN55q7W"
      }
    },
    {
      "cell_type": "code",
      "source": [
        "a = 0\n",
        "b = 3\n",
        "ejercicio3(a,b)"
      ],
      "metadata": {
        "colab": {
          "base_uri": "https://localhost:8080/"
        },
        "id": "81CoUeb2TJXC",
        "outputId": "83334767-2c39-451b-be08-5be86b339cf5"
      },
      "execution_count": null,
      "outputs": [
        {
          "output_type": "stream",
          "name": "stdout",
          "text": [
            "3(cos(90)+i*sin(90))\n"
          ]
        }
      ]
    },
    {
      "cell_type": "markdown",
      "source": [
        "### **Ejercicio 4:**\n",
        "Escribir en forma polar los siguientes números complejos"
      ],
      "metadata": {
        "id": "hmXQThhD471H"
      }
    },
    {
      "cell_type": "markdown",
      "source": [
        "#### **a)**\n",
        "$( \\cos \\frac{2\\pi}{9} + sen \\frac{2\\pi}{9} )^3$\n",
        "\n",
        "* sabemos que el modulo es 1\n",
        "* sabemos que el angulo = 3 x $\\frac{2\\pi}{9}$\n",
        "* la forma polar es igual a $cos(\\frac{2\\pi}{3})+i*sin(\\frac{2\\pi}{3})$"
      ],
      "metadata": {
        "id": "WGReRdvB50Xl"
      }
    },
    {
      "cell_type": "markdown",
      "source": [
        "#### **b)**\n",
        "$\\frac{2 + 2i}{-\\sqrt{3}+i} $\n"
      ],
      "metadata": {
        "id": "suZVDhfV50RW"
      }
    },
    {
      "cell_type": "markdown",
      "source": [
        "* multiplicamos por su conjugado $\\frac{-\\sqrt{3}-i}{-\\sqrt{3}-i}$ dando lugar al siguiente numero: $\\frac{2*(1+i)* (\\sqrt{3}+i)}{-4} = \\frac{-1}{2}*(1+i)* (\\sqrt{3}+i) $"
      ],
      "metadata": {
        "id": "HLXI1GLtkA8-"
      }
    },
    {
      "cell_type": "code",
      "source": [
        "z1 = 1+ 1*I\n",
        "z2 = sqrt(3) + 1*I\n",
        "res =z1*z2"
      ],
      "metadata": {
        "id": "INmCPLMvn-yH"
      },
      "execution_count": null,
      "outputs": []
    },
    {
      "cell_type": "code",
      "source": [
        "a = (sqrt(3)-1)/-2\n",
        "b = (sqrt(3)+1)/-2"
      ],
      "metadata": {
        "id": "Dwsue0PcoFxF"
      },
      "execution_count": null,
      "outputs": []
    },
    {
      "cell_type": "code",
      "source": [
        "mod = modulo(a,b)"
      ],
      "metadata": {
        "id": "HHJZFLByooBu"
      },
      "execution_count": null,
      "outputs": []
    },
    {
      "cell_type": "code",
      "source": [
        "mod"
      ],
      "metadata": {
        "colab": {
          "base_uri": "https://localhost:8080/",
          "height": 75
        },
        "id": "hhMrhtfUorZg",
        "outputId": "f8dc8721-be80-4859-b60f-f802a3d364a5"
      },
      "execution_count": null,
      "outputs": [
        {
          "output_type": "execute_result",
          "data": {
            "text/plain": [
              "sqrt((1/2 - sqrt(3)/2)**2 + (-sqrt(3)/2 - 1/2)**2)"
            ],
            "text/latex": "$\\displaystyle \\sqrt{\\left(\\frac{1}{2} - \\frac{\\sqrt{3}}{2}\\right)^{2} + \\left(- \\frac{\\sqrt{3}}{2} - \\frac{1}{2}\\right)^{2}}$"
          },
          "metadata": {},
          "execution_count": 242
        }
      ]
    },
    {
      "cell_type": "code",
      "source": [
        "angulo = deg(atan2(b,a))"
      ],
      "metadata": {
        "id": "qXJRcLitpMCc"
      },
      "execution_count": null,
      "outputs": []
    },
    {
      "cell_type": "code",
      "source": [
        "type(angulo)"
      ],
      "metadata": {
        "colab": {
          "base_uri": "https://localhost:8080/"
        },
        "id": "FGqe6EBhpPXX",
        "outputId": "f524134f-7c5f-4ea7-d244-4d9530dfe26c"
      },
      "execution_count": null,
      "outputs": [
        {
          "output_type": "execute_result",
          "data": {
            "text/plain": [
              "sympy.core.mul.Mul"
            ]
          },
          "metadata": {},
          "execution_count": 252
        }
      ]
    },
    {
      "cell_type": "code",
      "source": [
        "angulo = angulo.evalf()"
      ],
      "metadata": {
        "id": "mpFLpYjYsSw9"
      },
      "execution_count": null,
      "outputs": []
    },
    {
      "cell_type": "code",
      "source": [
        "angulo"
      ],
      "metadata": {
        "colab": {
          "base_uri": "https://localhost:8080/",
          "height": 37
        },
        "id": "A7YrcIZjr7GE",
        "outputId": "c363c77f-fefa-4c58-bbed-a88b024a1d03"
      },
      "execution_count": null,
      "outputs": [
        {
          "output_type": "execute_result",
          "data": {
            "text/plain": [
              "-105.000000000000"
            ],
            "text/latex": "$\\displaystyle -105.0$"
          },
          "metadata": {},
          "execution_count": 260
        }
      ]
    },
    {
      "cell_type": "markdown",
      "source": [
        "#### **c)**\n",
        "$\\frac{2i}{3e^{4+i}}\n",
        "$"
      ],
      "metadata": {
        "id": "-DUb0mGF50Kl"
      }
    },
    {
      "cell_type": "markdown",
      "source": [
        "#### **d)**\n",
        " $-8\\pi ( 1 + \\sqrt{3}i )$"
      ],
      "metadata": {
        "id": "uj-FKWZz50Dm"
      }
    },
    {
      "cell_type": "markdown",
      "source": [
        "### **Ejercicio 5:**\n",
        "Escribir en forma binomial los siguientes números complejos"
      ],
      "metadata": {
        "id": "Pr_R1JMz48ue"
      }
    },
    {
      "cell_type": "markdown",
      "source": [
        "#### **a)**$ e^{\\frac{i\\pi}{4}}$\n"
      ],
      "metadata": {
        "id": "xDiiMX9O54v9"
      }
    },
    {
      "cell_type": "markdown",
      "source": [
        "* Usando la formula de Euler sabemos que $e^{ix}=cos(x)+i*sin(x)$\n",
        "* $e^{i\\frac{\\pi}{4}}=cos(\\frac{\\pi}{4})+i*sin(\\frac{\\pi}{4})$\n",
        "* Sabemos que coseno y seno con ese angulo ambos son $\\frac{\\sqrt{2}}{2}$\n",
        "* entonces tenemos como resultado $\\frac{\\sqrt2}{2}+i*\\frac{\\sqrt2}{2}$"
      ],
      "metadata": {
        "id": "8D3CYnCM6xyS"
      }
    },
    {
      "cell_type": "markdown",
      "source": [
        "#### **b)** $\\frac{e^{1+{i3\\pi}}}{e^{-1+\\frac{i\\pi}{2}}}$\n"
      ],
      "metadata": {
        "id": "uniAnbb-56Nd"
      }
    },
    {
      "cell_type": "markdown",
      "source": [
        "\n",
        "\n",
        "*   Sabemos que $\\frac{e^{a}}{e^{b}}= e^{a-b}$\n",
        "*   Entonces $e^{(1+3i \\pi)-(-1+i\\frac{\\pi}{2})}= e^{2+\\frac{5i\\pi}{2}} = e^2 * (cos(\\frac{5i\\pi}{2})+i * sin(\\frac{5i\\pi}{2}) = e^2 *  (0+i) = e^2i $\n",
        "\n"
      ],
      "metadata": {
        "id": "cMBL2zdU-St_"
      }
    },
    {
      "cell_type": "markdown",
      "source": [
        "#### **c)** $e^{ei}$\n"
      ],
      "metadata": {
        "id": "f_uZcslL57GF"
      }
    },
    {
      "cell_type": "markdown",
      "source": [
        "$cos(e)+i*sin(e)$"
      ],
      "metadata": {
        "id": "fOnpYr5rBHL_"
      }
    },
    {
      "cell_type": "code",
      "source": [
        "from sympy import sin, cos, E, N, simplify\n",
        "\n",
        "# Calcular seno y coseno de e con sympy\n",
        "sin_e = sin(E)\n",
        "cos_e = cos(E)\n",
        "\n",
        "# Simplificar las expresiones\n",
        "sin_e_simplified = simplify(sin_e)\n",
        "cos_e_simplified = simplify(cos_e)\n",
        "\n",
        "# Evaluar numéricamente\n",
        "sin_e_evaluated = N(sin_e_simplified)\n",
        "cos_e_evaluated = N(cos_e_simplified)"
      ],
      "metadata": {
        "id": "QJKn0WtXBx00"
      },
      "execution_count": 11,
      "outputs": []
    },
    {
      "cell_type": "code",
      "source": [
        "sin_e_evaluated, cos_e_evaluated"
      ],
      "metadata": {
        "id": "rrbT3PFGB3-j",
        "outputId": "69170e45-c341-4230-f9b6-9f0e9bb85adc",
        "colab": {
          "base_uri": "https://localhost:8080/"
        }
      },
      "execution_count": 12,
      "outputs": [
        {
          "output_type": "execute_result",
          "data": {
            "text/plain": [
              "(0.410781290502909, -0.911733914786965)"
            ]
          },
          "metadata": {},
          "execution_count": 12
        }
      ]
    },
    {
      "cell_type": "markdown",
      "source": [
        "El resultado"
      ],
      "metadata": {
        "id": "pkEYG1HsCvJ7"
      }
    },
    {
      "cell_type": "code",
      "source": [
        "print(f\"{sin_e_evaluated}+i*{cos_e_evaluated}\")"
      ],
      "metadata": {
        "id": "FiSxxLomCfF_",
        "outputId": "842335fa-1e93-43bb-eae3-8f25d884edfd",
        "colab": {
          "base_uri": "https://localhost:8080/"
        }
      },
      "execution_count": 16,
      "outputs": [
        {
          "output_type": "stream",
          "name": "stdout",
          "text": [
            "0.410781290502909+i*-0.911733914786965\n"
          ]
        }
      ]
    },
    {
      "cell_type": "markdown",
      "source": [
        "#### **d)** $\\frac{3^{{3i}}-e^{-3i}}{2i}$"
      ],
      "metadata": {
        "id": "4Q_Romln57Tu"
      }
    },
    {
      "cell_type": "markdown",
      "source": [
        "$e^{-3i}=cos(-3)+i*sin(-3)$\n",
        "* ahora podemos multiplicar el numero por $\\frac{i}{i}$ , esto hace que se nos quede el numero $\\frac {(3^{3i}*cos(-3)+i*sin(-3))*i}{-2}$\n",
        "* tenemos en cuenta que : $a^b = e^{b*ln(a)}$,aplicando esto a $3^{3i} = e^{3i*(ln(3))}$\n",
        "* de lo sacado anteriormente pasamos a $e^{3i*(ln(3))}= cos(3*ln(3))+i*sin(3*ln(3))$\n",
        "* $3i - e^{-3i} = \\cos(3 \\ln(3)) + i \\sin(3 \\ln(3)) - (\\cos(3) - i \\sin(3))\n",
        "$\n",
        "\n",
        "\n",
        "\n",
        "1.   Dividimos por iy simplificamos la expresión multiplicando el numerador y el denominador por el conjugado del denominador. $\\frac{\\cos(3\\ln(3)) + i\\sin(3\\ln(3)) - \\cos(3) + i\\sin(3)}{2i} \\cdot \\frac{i}{i} $ esto nos dara: $ \\frac{-i\\cos(3\\ln(3)) - \\sin(3\\ln(3)) + i\\cos(3) - \\sin(3)}{-2}$\n",
        "2.   Separar parte real e imaginaria: $\\frac{\\sin(3) - \\sin(3\\ln(3))}{-2} - i \\frac{\\cos(3\\ln(3)) - \\cos(3)}{2}$\n",
        "\n",
        "\n",
        "\n"
      ],
      "metadata": {
        "id": "H8tnsKnrFKn2"
      }
    },
    {
      "cell_type": "markdown",
      "source": [
        "### **Ejercicio 6:**\n",
        "Resolver la siguiente identidad trigonométrica\n",
        "$\\cos3\\theta + i*sen3θ = (cos\\theta +i sen \\theta)^3$"
      ],
      "metadata": {
        "id": "ecrmTcc248jO"
      }
    },
    {
      "cell_type": "markdown",
      "source": [
        "$\\cos(3\\theta) + i\\sin(3\\theta) = (\\cos(\\theta) - i\\sin(\\theta))^3 =\n",
        "\\cos^3(\\theta) - 3\\cos(\\theta)\\sin^2(\\theta) + i(3\\cos^2(\\theta)\\sin(\\theta) - \\sin^3(\\theta))$"
      ],
      "metadata": {
        "id": "X8uzopyhMAYG"
      }
    },
    {
      "cell_type": "markdown",
      "source": [
        "### **Ejercicio 7:**\n",
        "Demostrar que si z y w son dos números complejos, se siguen cumpliendo las siguientes igualdades:"
      ],
      "metadata": {
        "id": "6ZHG57iF48dP"
      }
    },
    {
      "cell_type": "markdown",
      "source": [
        "#### **a)** $\\sin^2 z + \\cos^2 z = 1$\n",
        "\n"
      ],
      "metadata": {
        "id": "KdxEWxjo6BE2"
      }
    },
    {
      "cell_type": "markdown",
      "source": [
        "#### **b)** $\\sin(z + w) = \\sin z \\cos w + \\cos z \\sin w$"
      ],
      "metadata": {
        "id": "YXpPg3MM6A8-"
      }
    },
    {
      "cell_type": "markdown",
      "source": [
        "#### **c)** $\\cos(z + w) = \\cos z \\cos w + \\sin z \\sin w$"
      ],
      "metadata": {
        "id": "qgVzyvZE6Afl"
      }
    },
    {
      "cell_type": "markdown",
      "source": [
        "### **Ejercicio 8:**\n",
        "Demostrar las siguientes identidades"
      ],
      "metadata": {
        "id": "AEjKowPd48UH"
      }
    },
    {
      "cell_type": "markdown",
      "source": [
        "#### **a)** $\\sin 3\\theta = 3 \\cos^2 \\theta \\sin \\theta - \\sin^3 \\theta$\n"
      ],
      "metadata": {
        "id": "6zkSmlgJB8eP"
      }
    },
    {
      "cell_type": "code",
      "source": [
        "###COMPROBAR EL APARTADO B SENT THETHA"
      ],
      "metadata": {
        "id": "bZnu5StdCc4o"
      },
      "execution_count": null,
      "outputs": []
    },
    {
      "cell_type": "markdown",
      "source": [
        "#### **b)** $\\sin 4\\theta = 4 \\cos^3 \\theta \\sin \\theta - 4 \\cos \\theta \\sin^3 \\theta$"
      ],
      "metadata": {
        "id": "aB34gQg9CFm2"
      }
    },
    {
      "cell_type": "markdown",
      "source": [
        "### **Ejercicio 9:**\n",
        "Resolver la siguiente ecuación algebraica de segundo grado\n",
        "$z^2+z+1= 0$"
      ],
      "metadata": {
        "id": "jLJICxIB48Kv"
      }
    },
    {
      "cell_type": "markdown",
      "source": [
        "### **Ejercicio 10:**\n",
        "Resolver las ecuaciones\n",
        "\n",
        "---"
      ],
      "metadata": {
        "id": "5x-KGfPC5G12"
      }
    },
    {
      "cell_type": "markdown",
      "source": [
        "#### **a)** $z^n + \\frac{1}{z^n}$"
      ],
      "metadata": {
        "id": "bWPFN4s-CS3l"
      }
    },
    {
      "cell_type": "markdown",
      "source": [
        "#### **b)** $z^n - \\frac{1}{z^n}$"
      ],
      "metadata": {
        "id": "IF8iEn2sCS3l"
      }
    },
    {
      "cell_type": "markdown",
      "source": [
        "## Álgebra\n",
        "---"
      ],
      "metadata": {
        "id": "qGMzSTZO5Kwo"
      }
    },
    {
      "cell_type": "markdown",
      "source": [
        "### **Ejercicio 11:**\n",
        "\n",
        "Determinar si los siguientes vectores son linealmente independientes:\n",
        "$u{1}= (2,9,2)$,\n",
        "$u{2}= (8,-3,1)$,\n",
        "$ u{3}= (-2,-1,1)$\n",
        "\n",
        "---"
      ],
      "metadata": {
        "id": "nAHdB7Ss5UVm"
      }
    },
    {
      "cell_type": "markdown",
      "source": [
        "### **Ejercicio 12:**\n",
        "Escribir el polinomio:\n",
        "\n",
        "$P(x) = 5x^2-4x+1$\n",
        "\n",
        "como combinación lineal de los polinomios:\n",
        "\n",
        "$U{1} = 2x^2 + 9x+1$,   $ U{2} = 4x+2$, $U{3} = x^2+3x+6 $\n",
        "\n",
        "---"
      ],
      "metadata": {
        "id": "FbSURtw25UQO"
      }
    },
    {
      "cell_type": "markdown",
      "source": [
        "### **Ejercicio 13:**\n",
        "Obtener la matriz de la transformación lineal:\n",
        "\n",
        "$T(x,y,z) = (x+y,3x-y+z)$\n",
        "\n",
        "de $R^3$ con la base estándar (1,0,0,), (0,1,0), (0,0,1) a $R^2$\n",
        " con la base (1,1), (1,-1)"
      ],
      "metadata": {
        "id": "lo3v8PFt5UJe"
      }
    },
    {
      "cell_type": "markdown",
      "source": [
        "### **Ejercicio 14:**\n",
        "Obtener los autovectores y autovalores de la siguiente matriz:\n",
        "\n",
        "$A = \\begin{pmatrix}\n",
        "1 & 1 & 3 \\\\\n",
        "1 & 1 & -3 \\\\\n",
        "3 & -3 & -3\n",
        "\\end{pmatrix}$\n",
        "\n",
        "---"
      ],
      "metadata": {
        "id": "nm30xdcp5UCe"
      }
    },
    {
      "cell_type": "markdown",
      "source": [
        "### **Ejercicio 15:**\n",
        "Demostrar las siguientes identidades:\n",
        "\n",
        "---"
      ],
      "metadata": {
        "id": "2vzf6z-Y5T6-"
      }
    },
    {
      "cell_type": "markdown",
      "source": [
        "#### **i)**  $P_+|0\\rangle = |0\\rangle$\n"
      ],
      "metadata": {
        "id": "PYKozaRME8ck"
      }
    },
    {
      "cell_type": "markdown",
      "source": [
        "####ii) $P_+|1\\rangle = 0$\n"
      ],
      "metadata": {
        "id": "h6mf-s1KFKSz"
      }
    },
    {
      "cell_type": "markdown",
      "source": [
        "####iii) $P_-|0\\rangle = 0$\n",
        "\n"
      ],
      "metadata": {
        "id": "akRfjyZYFnB9"
      }
    },
    {
      "cell_type": "markdown",
      "source": [
        "####iv) $P_+|1\\rangle = |1\\rangle$\n"
      ],
      "metadata": {
        "id": "6IqbZL85FysU"
      }
    },
    {
      "cell_type": "markdown",
      "source": [
        "####v) $\\sigma_{\\pm} = 0$\n"
      ],
      "metadata": {
        "id": "PX_gMqNDF6iL"
      }
    },
    {
      "cell_type": "markdown",
      "source": [
        "####vi) $P_{\\pm}^2 = P_{\\pm}$\n"
      ],
      "metadata": {
        "id": "RbmXiu6EG9tB"
      }
    },
    {
      "cell_type": "markdown",
      "source": [
        "####vii) $P_+ P_- = 0$"
      ],
      "metadata": {
        "id": "JH_1if4MHFdD"
      }
    },
    {
      "cell_type": "markdown",
      "source": [
        "### **Ejercicio 16:**\n",
        "\n",
        "Obtener los operadores de proyección sobre los autoespacios de $σ_z$ con los autovalores ±1."
      ],
      "metadata": {
        "id": "9wuW-b4R5T0-"
      }
    },
    {
      "cell_type": "markdown",
      "source": [
        "### **Ejercicio 17:**\n",
        "Dados los vectores:\n",
        "\n",
        "$|a\\rangle = \\begin{pmatrix}\n",
        "-2 \\\\\n",
        "4i \\\\\n",
        "1\n",
        "\\end{pmatrix}$\n",
        "\n",
        "$|b\\rangle = \\begin{pmatrix}\n",
        "1 \\\\\n",
        "0 \\\\\n",
        "i\n",
        "\\end{pmatrix}\n",
        "$\n",
        "\n",
        "Calcular:\n",
        "\n",
        "---\n"
      ],
      "metadata": {
        "id": "5B_3lSXJ5TuG"
      }
    },
    {
      "cell_type": "markdown",
      "source": [
        "####i) $\\langle a | ,  \\langle b |$\n"
      ],
      "metadata": {
        "id": "9LljvdzdH75Y"
      }
    },
    {
      "cell_type": "markdown",
      "source": [
        "#### ii) $\\langle a | b \\rangle, \\langle b | a \\rangle\n",
        "$"
      ],
      "metadata": {
        "id": "Y_eL52-eH7xh"
      }
    },
    {
      "cell_type": "markdown",
      "source": [
        "#### iii) $| c \\rangle = | a \\rangle + 2 | b \\rangle, \\langle c | a \\rangle$\n"
      ],
      "metadata": {
        "id": "JSEKTqMiH7nJ"
      }
    },
    {
      "cell_type": "markdown",
      "source": [
        "### **Ejercicio 18:**\n",
        "\n",
        "Calcular la norma de los siguientes vectores:\n",
        "\n",
        "$|u\\rangle = \\begin{pmatrix}\n",
        "2 \\\\\n",
        "4i\n",
        "\\end{pmatrix}$\n",
        "\n",
        "$|v\\rangle = \\begin{pmatrix}\n",
        "1 \\\\\n",
        "2i \\\\\n",
        "i\n",
        "\\end{pmatrix}\n",
        "$\n"
      ],
      "metadata": {
        "id": "Nvdi-v5y5TfQ"
      }
    },
    {
      "cell_type": "markdown",
      "source": [
        "### **Ejercicio 19:**\n",
        "Aplicar el procedimiento de Gram-Schmidt para construir una base ortonormal a partir del siguiente\n",
        "conjunto de vectores.\n",
        "\n",
        "$|v_1\\rangle = \\begin{pmatrix}\n",
        "1 \\\\\n",
        "2 \\\\\n",
        "-1\n",
        "\\end{pmatrix}\n",
        "$\n",
        "\n",
        "$ |v_2\\rangle = \\begin{pmatrix}\n",
        "0 \\\\\n",
        "1 \\\\\n",
        "-1\n",
        "\\end{pmatrix}\n",
        "$\n",
        "\n",
        "$|v_3\\rangle = \\begin{pmatrix}\n",
        "3 \\\\\n",
        "-7 \\\\\n",
        "1\n",
        "\\end{pmatrix}\n",
        "$\n",
        "\n",
        "---"
      ],
      "metadata": {
        "id": "nP3t39Hl5TnH"
      }
    },
    {
      "cell_type": "markdown",
      "source": [
        "### **Ejercicio 20:**\n",
        "\n",
        "Sean $\\{ |u_1\\rangle, |u_2\\rangle, |u_3\\rangle \\}$ una base ortonormal en $\\mathbb{C}^3$. Un sistema en este espacio se puede representar por:\n",
        "\n",
        "$|\\psi\\rangle = \\frac{1}{\\sqrt{5}}|u_1\\rangle - i\\sqrt{\\frac{7}{15}} |u_2\\rangle + \\frac{1}{\\sqrt{3}} |u_3\\rangle$\n"
      ],
      "metadata": {
        "id": "owameE1s5TTm"
      }
    },
    {
      "cell_type": "markdown",
      "source": [
        "#### i) Comprobar si es un estado normalizado"
      ],
      "metadata": {
        "id": "k-pQaBg7Jmf4"
      }
    },
    {
      "cell_type": "markdown",
      "source": [
        "#### ii) Si se realiza una medida, calcular la probabilidad de encontrar el sistema en cada uno de los estados  $\\{ |u_1\\rangle, |u_2\\rangle, |u_3\\rangle \\}$"
      ],
      "metadata": {
        "id": "281YV1XzJwKX"
      }
    }
  ]
}