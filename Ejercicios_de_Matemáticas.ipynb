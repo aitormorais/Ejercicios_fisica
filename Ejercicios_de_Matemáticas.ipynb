{
  "nbformat": 4,
  "nbformat_minor": 0,
  "metadata": {
    "colab": {
      "provenance": [],
      "authorship_tag": "ABX9TyPM49qttPdGXb/LPFyeo92Z",
      "include_colab_link": true
    },
    "kernelspec": {
      "name": "python3",
      "display_name": "Python 3"
    },
    "language_info": {
      "name": "python"
    }
  },
  "cells": [
    {
      "cell_type": "markdown",
      "metadata": {
        "id": "view-in-github",
        "colab_type": "text"
      },
      "source": [
        "<a href=\"https://colab.research.google.com/github/aitormorais/Ejercicios_fisica/blob/main/Ejercicios_de_Matem%C3%A1ticas.ipynb\" target=\"_parent\"><img src=\"https://colab.research.google.com/assets/colab-badge.svg\" alt=\"Open In Colab\"/></a>"
      ]
    },
    {
      "cell_type": "code",
      "source": [
        "from sympy import I, expand,Matrix,atan2,deg,sqrt,atan,sin, cos, E, N, simplify,symbols, Abs,GramSchmidt,conjugate,Eq,solve,polar_lift,pi,exp\n"
      ],
      "metadata": {
        "id": "QHo9SbcHLk43"
      },
      "execution_count": 68,
      "outputs": []
    },
    {
      "cell_type": "code",
      "source": [
        "import numpy as np"
      ],
      "metadata": {
        "id": "YeqE4gvly66l"
      },
      "execution_count": 4,
      "outputs": []
    },
    {
      "cell_type": "markdown",
      "source": [
        "## Variable compleja\n",
        "---"
      ],
      "metadata": {
        "id": "SAPuQvYQ2L7Y"
      }
    },
    {
      "cell_type": "markdown",
      "source": [
        "### **Ejercicio 1:**\n",
        "Indicar cuál será el lugar geométrico sobre el que se ubicarán todos los números complejos en los que la parte real tiene el mismo valor que la parte imaginaria:\n",
        "\n",
        "---"
      ],
      "metadata": {
        "id": "1yPOxCzm2U-0"
      }
    },
    {
      "cell_type": "markdown",
      "source": [
        "#### **a)**La recta x=y"
      ],
      "metadata": {
        "id": "JwRWM8yc3f3s"
      }
    },
    {
      "cell_type": "markdown",
      "source": [
        "#### **b)** Todo el plano XY"
      ],
      "metadata": {
        "id": "TBX__AEU3nsy"
      }
    },
    {
      "cell_type": "markdown",
      "source": [
        "#### **c)** La recta y = 0"
      ],
      "metadata": {
        "id": "-Chm0-hS3n9V"
      }
    },
    {
      "cell_type": "markdown",
      "source": [
        "#### **d)**  La recta x = 0"
      ],
      "metadata": {
        "id": "JudA6Xe43oeJ"
      }
    },
    {
      "cell_type": "markdown",
      "source": [
        "La a) ya que es una línea diagonal que pasa por el origen y tiene una pendiente de 1."
      ],
      "metadata": {
        "id": "FQAE4RRL6oxY"
      }
    },
    {
      "cell_type": "markdown",
      "source": [
        "### **Ejercicio 2**:\n",
        "Dados los números:\n",
        "$ Z{1} = 3-4i$ y $Z{2} =-4 + 3i$"
      ],
      "metadata": {
        "id": "7Jp46u_04xOQ"
      }
    },
    {
      "cell_type": "code",
      "source": [
        "# Definir los números complejos\n",
        "z1 = 3 - 4*I\n",
        "z2 = -4 + 3*I"
      ],
      "metadata": {
        "id": "I0j90ofALnum"
      },
      "execution_count": 10,
      "outputs": []
    },
    {
      "cell_type": "markdown",
      "source": [
        "#### **a)** El producto escalar $Z_1 .Z_2$"
      ],
      "metadata": {
        "id": "8ti0D4_45nve"
      }
    },
    {
      "cell_type": "code",
      "source": [
        "# Calcular el producto escalar (producto de un número complejo por el conjugado del otro)\n",
        "producto_escalar = expand(z1 * z2.conjugate())\n"
      ],
      "metadata": {
        "id": "PXvWfTVHLiLe"
      },
      "execution_count": 11,
      "outputs": []
    },
    {
      "cell_type": "code",
      "source": [
        "z2=z2.conjugate()"
      ],
      "metadata": {
        "id": "T0UZ71PhQYHx"
      },
      "execution_count": 12,
      "outputs": []
    },
    {
      "cell_type": "code",
      "source": [
        "producto_escalar = z1 * z2"
      ],
      "metadata": {
        "id": "RzMa0wJGQAQ1"
      },
      "execution_count": 13,
      "outputs": []
    },
    {
      "cell_type": "code",
      "source": [
        "expand(producto_escalar)"
      ],
      "metadata": {
        "colab": {
          "base_uri": "https://localhost:8080/",
          "height": 39
        },
        "id": "4ZpVMGciQCsq",
        "outputId": "ee3896b8-dde4-4e8e-b637-5a4b9e471e06"
      },
      "execution_count": 14,
      "outputs": [
        {
          "output_type": "execute_result",
          "data": {
            "text/plain": [
              "-24 + 7*I"
            ],
            "text/latex": "$\\displaystyle -24 + 7 i$"
          },
          "metadata": {},
          "execution_count": 14
        }
      ]
    },
    {
      "cell_type": "markdown",
      "source": [
        "#### **b)** El producto vectorial $Z{1} X Z{2}$"
      ],
      "metadata": {
        "id": "VVK6fqz45nnG"
      }
    },
    {
      "cell_type": "code",
      "source": [
        "vector_product = Matrix([[3, -4*I], [-4, 3*I]]).det()"
      ],
      "metadata": {
        "id": "B1l-3V9CQyCK"
      },
      "execution_count": 15,
      "outputs": []
    },
    {
      "cell_type": "code",
      "source": [
        "vector_product"
      ],
      "metadata": {
        "colab": {
          "base_uri": "https://localhost:8080/",
          "height": 39
        },
        "id": "UkWNFUeRQ4Gh",
        "outputId": "479d20ab-fb5f-4f1f-97b5-1c152163452f"
      },
      "execution_count": 16,
      "outputs": [
        {
          "output_type": "execute_result",
          "data": {
            "text/plain": [
              "-7*I"
            ],
            "text/latex": "$\\displaystyle - 7 i$"
          },
          "metadata": {},
          "execution_count": 16
        }
      ]
    },
    {
      "cell_type": "markdown",
      "source": [
        "### **Ejercicio 3:**\n",
        "Expresar los siguientes números en forma polar"
      ],
      "metadata": {
        "id": "B5xuEQW747bf"
      }
    },
    {
      "cell_type": "markdown",
      "source": [
        "\n",
        "\n",
        "*   Primero debemos de encontrar el modulo del numero complejo, es decir $m = \\sqrt{a^2+b^2}$\n",
        "*   A continuacion debemos encontrar el angulo usando la funcion arcotangente $\\theta = arcotan (b/a)$\n",
        "*   Una vez que tienes m y $\\theta$ , puedes expresar el número complejo en su forma polar como:\n",
        "$m(\\cosθ+i \\sinθ)$\n",
        "\n",
        "\n"
      ],
      "metadata": {
        "id": "UISuqgvOT8DO"
      }
    },
    {
      "cell_type": "code",
      "source": [
        "def modulo(a,b):\n",
        "  return sqrt(a**2+b**2)"
      ],
      "metadata": {
        "id": "CLqzU2gTVnne"
      },
      "execution_count": 21,
      "outputs": []
    },
    {
      "cell_type": "code",
      "source": [
        "def angulo(a, b):\n",
        "  coseno = a\n",
        "  seno = b\n",
        "  if a <0:\n",
        "    coseno  = -a\n",
        "  if b<0:\n",
        "    seno = -b\n",
        "  angulo = deg(atan2(seno,coseno))\n",
        "  if angulo < 0 :\n",
        "    angulo = angulo*-1\n",
        "  return angulo"
      ],
      "metadata": {
        "id": "GlQeFGjzW16s"
      },
      "execution_count": 22,
      "outputs": []
    },
    {
      "cell_type": "code",
      "source": [
        "def obtener_angulo(a,b):\n",
        "  if a>=0 and b >=0:#1\n",
        "    ang =  angulo(a,b)\n",
        "  elif a<0 and b >=0:#2\n",
        "    ang =  180 - angulo(a,b)\n",
        "  elif a <0 and b<0:#3\n",
        "    ang =  180+angulo(a,b).evalf()\n",
        "  elif a>=0 and b <0:\n",
        "    ang =  360 - angulo(a,b)\n",
        "  return ang"
      ],
      "metadata": {
        "id": "TF8QZmaoDsGM"
      },
      "execution_count": 23,
      "outputs": []
    },
    {
      "cell_type": "code",
      "source": [
        "def ejercicio3(a,b):\n",
        "  #primero calcular el modulo\n",
        "  r_modulo = modulo(a,b)\n",
        "  #encontrar el angulo\n",
        "  angulo = obtener_angulo(a,b)\n",
        "  #imprimir el numero en forma polar\n",
        "  print(f\"{r_modulo}(cos({angulo})+i*sin({angulo}))\")\n"
      ],
      "metadata": {
        "id": "IuazmLwMOpc5"
      },
      "execution_count": 24,
      "outputs": []
    },
    {
      "cell_type": "markdown",
      "source": [
        "#### **a)** $2+2\\sqrt{3}i$"
      ],
      "metadata": {
        "id": "cz_eSG135rRm"
      }
    },
    {
      "cell_type": "code",
      "source": [
        "a = 2\n",
        "b= 2*sqrt(3)\n",
        "ejercicio3(a,b)"
      ],
      "metadata": {
        "colab": {
          "base_uri": "https://localhost:8080/"
        },
        "id": "EPKlinNcHaN2",
        "outputId": "4ecefa5f-e1ba-4c0d-ddb0-9a11e646374d"
      },
      "execution_count": 25,
      "outputs": [
        {
          "output_type": "stream",
          "name": "stdout",
          "text": [
            "4(cos(60)+i*sin(60))\n"
          ]
        }
      ]
    },
    {
      "cell_type": "markdown",
      "source": [
        "#### **b)** $-5+5i$"
      ],
      "metadata": {
        "id": "OKhN40175rI2"
      }
    },
    {
      "cell_type": "code",
      "source": [
        "a = -5\n",
        "b = 5\n",
        "ejercicio3(a,b)"
      ],
      "metadata": {
        "colab": {
          "base_uri": "https://localhost:8080/"
        },
        "id": "VhLuKB09T04h",
        "outputId": "39755ab7-44bd-4ae7-a533-cfbf66a5df60"
      },
      "execution_count": 26,
      "outputs": [
        {
          "output_type": "stream",
          "name": "stdout",
          "text": [
            "5*sqrt(2)(cos(135)+i*sin(135))\n"
          ]
        }
      ]
    },
    {
      "cell_type": "markdown",
      "source": [
        "\n",
        "#### **c)** $ -\\sqrt{6}-\\sqrt{2}i$"
      ],
      "metadata": {
        "id": "yfLsQHvk5rCP"
      }
    },
    {
      "cell_type": "code",
      "source": [
        "a = -sqrt(6)\n",
        "b = -sqrt(2)\n",
        "ejercicio3(a,b)"
      ],
      "metadata": {
        "colab": {
          "base_uri": "https://localhost:8080/"
        },
        "id": "tHG1hTYZdhUE",
        "outputId": "ac10d3b2-8dd6-4ba7-93be-2e0463a0cc22"
      },
      "execution_count": 27,
      "outputs": [
        {
          "output_type": "stream",
          "name": "stdout",
          "text": [
            "2*sqrt(2)(cos(210.000000000000)+i*sin(210.000000000000))\n"
          ]
        }
      ]
    },
    {
      "cell_type": "code",
      "source": [
        "a = -sqrt(6)\n",
        "b = -sqrt(2)\n",
        "ejercicio3(a,b)"
      ],
      "metadata": {
        "colab": {
          "base_uri": "https://localhost:8080/"
        },
        "id": "aRQvYmX2QF6g",
        "outputId": "2e5aa616-f8be-4656-8bea-290ef06a8fe4"
      },
      "execution_count": 28,
      "outputs": [
        {
          "output_type": "stream",
          "name": "stdout",
          "text": [
            "2*sqrt(2)(cos(210.000000000000)+i*sin(210.000000000000))\n"
          ]
        }
      ]
    },
    {
      "cell_type": "markdown",
      "source": [
        "#### **d)** $3i$"
      ],
      "metadata": {
        "id": "yCj8hqN55q7W"
      }
    },
    {
      "cell_type": "code",
      "source": [
        "a = 0\n",
        "b = 3\n",
        "ejercicio3(a,b)"
      ],
      "metadata": {
        "colab": {
          "base_uri": "https://localhost:8080/"
        },
        "id": "81CoUeb2TJXC",
        "outputId": "ababb456-057a-4af2-e1cf-10caa188be24"
      },
      "execution_count": 29,
      "outputs": [
        {
          "output_type": "stream",
          "name": "stdout",
          "text": [
            "3(cos(90)+i*sin(90))\n"
          ]
        }
      ]
    },
    {
      "cell_type": "markdown",
      "source": [
        "### **Ejercicio 4:**\n",
        "Escribir en forma polar los siguientes números complejos"
      ],
      "metadata": {
        "id": "hmXQThhD471H"
      }
    },
    {
      "cell_type": "markdown",
      "source": [
        "#### **a)**\n",
        "$( \\cos \\frac{2\\pi}{9} + sen \\frac{2\\pi}{9} )^3$\n",
        "\n",
        "* sabemos que el modulo es 1\n",
        "* sabemos que el angulo = 3 x $\\frac{2\\pi}{9}$\n",
        "* la forma polar es igual a $cos(\\frac{2\\pi}{3})+i*sin(\\frac{2\\pi}{3})$"
      ],
      "metadata": {
        "id": "WGReRdvB50Xl"
      }
    },
    {
      "cell_type": "markdown",
      "source": [
        "#### **b)**\n",
        "$\\frac{2 + 2i}{-\\sqrt{3}+i} $\n"
      ],
      "metadata": {
        "id": "suZVDhfV50RW"
      }
    },
    {
      "cell_type": "markdown",
      "source": [
        "* multiplicamos por su conjugado $\\frac{-\\sqrt{3}-i}{-\\sqrt{3}-i}$ dando lugar al siguiente numero: $\\frac{2*(1+i)* (\\sqrt{3}+i)}{-4} = \\frac{-1}{2}*(1+i)* (\\sqrt{3}+i) $"
      ],
      "metadata": {
        "id": "HLXI1GLtkA8-"
      }
    },
    {
      "cell_type": "code",
      "source": [
        "z1 = 1+ 1*I\n",
        "z2 = sqrt(3) + 1*I\n",
        "res =z1*z2"
      ],
      "metadata": {
        "id": "INmCPLMvn-yH"
      },
      "execution_count": 17,
      "outputs": []
    },
    {
      "cell_type": "code",
      "source": [
        "a = (sqrt(3)-1)/-2\n",
        "b = (sqrt(3)+1)/-2"
      ],
      "metadata": {
        "id": "Dwsue0PcoFxF"
      },
      "execution_count": 18,
      "outputs": []
    },
    {
      "cell_type": "code",
      "source": [
        "mod = modulo(a,b)"
      ],
      "metadata": {
        "id": "HHJZFLByooBu"
      },
      "execution_count": 30,
      "outputs": []
    },
    {
      "cell_type": "code",
      "source": [
        "mod"
      ],
      "metadata": {
        "colab": {
          "base_uri": "https://localhost:8080/",
          "height": 37
        },
        "id": "hhMrhtfUorZg",
        "outputId": "e6bc9420-48e3-4108-f980-b8bb0645a40e"
      },
      "execution_count": 31,
      "outputs": [
        {
          "output_type": "execute_result",
          "data": {
            "text/plain": [
              "3"
            ],
            "text/latex": "$\\displaystyle 3$"
          },
          "metadata": {},
          "execution_count": 31
        }
      ]
    },
    {
      "cell_type": "code",
      "source": [
        "angulo = deg(atan2(b,a))"
      ],
      "metadata": {
        "id": "qXJRcLitpMCc"
      },
      "execution_count": 32,
      "outputs": []
    },
    {
      "cell_type": "code",
      "source": [
        "type(angulo)"
      ],
      "metadata": {
        "colab": {
          "base_uri": "https://localhost:8080/"
        },
        "id": "FGqe6EBhpPXX",
        "outputId": "f7a5a4d3-aee8-4d86-ac66-d41c1a10ea53"
      },
      "execution_count": 33,
      "outputs": [
        {
          "output_type": "execute_result",
          "data": {
            "text/plain": [
              "sympy.core.numbers.Integer"
            ]
          },
          "metadata": {},
          "execution_count": 33
        }
      ]
    },
    {
      "cell_type": "code",
      "source": [
        "angulo = angulo.evalf()"
      ],
      "metadata": {
        "id": "mpFLpYjYsSw9"
      },
      "execution_count": 34,
      "outputs": []
    },
    {
      "cell_type": "code",
      "source": [
        "angulo"
      ],
      "metadata": {
        "colab": {
          "base_uri": "https://localhost:8080/",
          "height": 37
        },
        "id": "A7YrcIZjr7GE",
        "outputId": "e9f8f7d4-bf78-4e00-dba5-8fe39c4b2a5a"
      },
      "execution_count": 35,
      "outputs": [
        {
          "output_type": "execute_result",
          "data": {
            "text/plain": [
              "90.0000000000000"
            ],
            "text/latex": "$\\displaystyle 90.0$"
          },
          "metadata": {},
          "execution_count": 35
        }
      ]
    },
    {
      "cell_type": "markdown",
      "source": [
        "#### **c)**\n",
        "$\\frac{2i}{3e^{4+i}}\n",
        "$"
      ],
      "metadata": {
        "id": "-DUb0mGF50Kl"
      }
    },
    {
      "cell_type": "code",
      "source": [
        "\n",
        "\n",
        "# Definimos una variable simbólica\n",
        "x = symbols('x')\n",
        "\n",
        "# El número complejo de la imagen es (2i) / (3e^(4i))\n",
        "numerator = 2*I  # El numerador es 2i\n",
        "denominator = 3 * polar_lift(I)**4  # El denominador es 3e^(4i)\n",
        "\n",
        "# Convertimos a forma polar\n",
        "numerator_polar = polar_lift(numerator)  # Forma polar del numerador\n",
        "denominator_polar = polar_lift(denominator)  # Forma polar del denominador\n",
        "\n",
        "# Dividimos las dos formas polares para obtener la forma polar de la fracción completa\n",
        "result_polar = numerator_polar / denominator_polar  # Resultado en forma polar\n",
        "\n",
        "# Simplificamos el resultado\n",
        "simplified_result = result_polar.simplify()  # Resultado simplificado\n",
        "\n",
        "# Evaluamos para obtener una aproximación numérica\n",
        "simplified_result.evalf()  # Aproximación numérica\n"
      ],
      "metadata": {
        "id": "mUweVwqegoZh",
        "outputId": "8bb64c71-85ec-4747-fe92-5f51472ec7d4",
        "colab": {
          "base_uri": "https://localhost:8080/",
          "height": 41
        }
      },
      "execution_count": 2,
      "outputs": [
        {
          "output_type": "execute_result",
          "data": {
            "text/plain": [
              "0.666666666666667*exp_polar(-3*I*pi/2)"
            ],
            "text/latex": "$\\displaystyle 0.666666666666667 e^{- \\frac{3 i \\pi}{2}}$"
          },
          "metadata": {},
          "execution_count": 2
        }
      ]
    },
    {
      "cell_type": "markdown",
      "source": [
        "#### **d)**\n",
        " $-8\\pi ( 1 + \\sqrt{3}i )$"
      ],
      "metadata": {
        "id": "uj-FKWZz50Dm"
      }
    },
    {
      "cell_type": "code",
      "source": [
        "# Definimos una variable simbólica\n",
        "x = symbols('x')\n",
        "\n",
        "# El número complejo de la imagen cargada es -8π(1 + sqrt(3) * I)\n",
        "# Convertimos esto a forma polar usando la función polar_lift de sympy, que toma un número complejo y devuelve su forma polar\n",
        "numero_complejo = -8 * pi * (1 + sqrt(3) * I)\n",
        "\n",
        "# Convertir a forma polar\n",
        "numero_complejo_polar = polar_lift(numero_complejo)\n",
        "\n",
        "# Simplificar el resultado\n",
        "resultado_simplificado = numero_complejo_polar.simplify()\n",
        "\n",
        "# Evaluar para obtener una aproximación numérica\n",
        "aproximacion_numerica = resultado_simplificado.evalf()  # Aproximación numérica\n",
        "aproximacion_numerica\n",
        "\n"
      ],
      "metadata": {
        "id": "RMkHPaKAh3O9",
        "outputId": "f36ab4db-5975-4b1c-87ec-2e3118f8b42e",
        "colab": {
          "base_uri": "https://localhost:8080/",
          "height": 39
        }
      },
      "execution_count": 7,
      "outputs": [
        {
          "output_type": "execute_result",
          "data": {
            "text/plain": [
              "-25.1327412287183 - 43.5311847416212*I"
            ],
            "text/latex": "$\\displaystyle -25.1327412287183 - 43.5311847416212 i$"
          },
          "metadata": {},
          "execution_count": 7
        }
      ]
    },
    {
      "cell_type": "markdown",
      "source": [
        "### **Ejercicio 5:**\n",
        "Escribir en forma binomial los siguientes números complejos"
      ],
      "metadata": {
        "id": "Pr_R1JMz48ue"
      }
    },
    {
      "cell_type": "markdown",
      "source": [
        "#### **a)**$ e^{\\frac{i\\pi}{4}}$\n"
      ],
      "metadata": {
        "id": "xDiiMX9O54v9"
      }
    },
    {
      "cell_type": "markdown",
      "source": [
        "* Usando la formula de Euler sabemos que $e^{ix}=cos(x)+i*sin(x)$\n",
        "* $e^{i\\frac{\\pi}{4}}=cos(\\frac{\\pi}{4})+i*sin(\\frac{\\pi}{4})$\n",
        "* Sabemos que coseno y seno con ese angulo ambos son $\\frac{\\sqrt{2}}{2}$\n",
        "* entonces tenemos como resultado $\\frac{\\sqrt2}{2}+i*\\frac{\\sqrt2}{2}$"
      ],
      "metadata": {
        "id": "8D3CYnCM6xyS"
      }
    },
    {
      "cell_type": "markdown",
      "source": [
        "#### **b)** $\\frac{e^{1+{i3\\pi}}}{e^{-1+\\frac{i\\pi}{2}}}$\n"
      ],
      "metadata": {
        "id": "uniAnbb-56Nd"
      }
    },
    {
      "cell_type": "markdown",
      "source": [
        "\n",
        "\n",
        "*   Sabemos que $\\frac{e^{a}}{e^{b}}= e^{a-b}$\n",
        "*   Entonces $e^{(1+3i \\pi)-(-1+i\\frac{\\pi}{2})}= e^{2+\\frac{5i\\pi}{2}} = e^2 * (cos(\\frac{5i\\pi}{2})+i * sin(\\frac{5i\\pi}{2}) = e^2 *  (0+i) = e^2i $\n",
        "\n"
      ],
      "metadata": {
        "id": "cMBL2zdU-St_"
      }
    },
    {
      "cell_type": "markdown",
      "source": [
        "#### **c)** $e^{ei}$\n"
      ],
      "metadata": {
        "id": "f_uZcslL57GF"
      }
    },
    {
      "cell_type": "markdown",
      "source": [
        "$cos(e)+i*sin(e)$"
      ],
      "metadata": {
        "id": "fOnpYr5rBHL_"
      }
    },
    {
      "cell_type": "code",
      "source": [
        "\n",
        "\n",
        "# Calcular seno y coseno de e con sympy\n",
        "sin_e = sin(E)\n",
        "cos_e = cos(E)\n",
        "\n",
        "# Simplificar las expresiones\n",
        "sin_e_simplified = simplify(sin_e)\n",
        "cos_e_simplified = simplify(cos_e)\n",
        "\n",
        "# Evaluar numéricamente\n",
        "sin_e_evaluated = N(sin_e_simplified)\n",
        "cos_e_evaluated = N(cos_e_simplified)"
      ],
      "metadata": {
        "id": "QJKn0WtXBx00"
      },
      "execution_count": 36,
      "outputs": []
    },
    {
      "cell_type": "code",
      "source": [
        "sin_e_evaluated, cos_e_evaluated"
      ],
      "metadata": {
        "id": "rrbT3PFGB3-j",
        "outputId": "52a8d80e-440f-44e3-e2e7-2f05a9ddbe24",
        "colab": {
          "base_uri": "https://localhost:8080/"
        }
      },
      "execution_count": 37,
      "outputs": [
        {
          "output_type": "execute_result",
          "data": {
            "text/plain": [
              "(0.410781290502909, -0.911733914786965)"
            ]
          },
          "metadata": {},
          "execution_count": 37
        }
      ]
    },
    {
      "cell_type": "markdown",
      "source": [
        "El resultado"
      ],
      "metadata": {
        "id": "pkEYG1HsCvJ7"
      }
    },
    {
      "cell_type": "code",
      "source": [
        "print(f\"{sin_e_evaluated}+i*{cos_e_evaluated}\")"
      ],
      "metadata": {
        "id": "FiSxxLomCfF_",
        "outputId": "6229a7ef-6924-479f-b48a-3c1165d81d6b",
        "colab": {
          "base_uri": "https://localhost:8080/"
        }
      },
      "execution_count": 38,
      "outputs": [
        {
          "output_type": "stream",
          "name": "stdout",
          "text": [
            "0.410781290502909+i*-0.911733914786965\n"
          ]
        }
      ]
    },
    {
      "cell_type": "markdown",
      "source": [
        "#### **d)** $\\frac{3^{{3i}}-e^{-3i}}{2i}$"
      ],
      "metadata": {
        "id": "4Q_Romln57Tu"
      }
    },
    {
      "cell_type": "markdown",
      "source": [
        "$e^{-3i}=cos(-3)+i*sin(-3)$\n",
        "* ahora podemos multiplicar el numero por $\\frac{i}{i}$ , esto hace que se nos quede el numero $\\frac {(3^{3i}*cos(-3)+i*sin(-3))*i}{-2}$\n",
        "* tenemos en cuenta que : $a^b = e^{b*ln(a)}$,aplicando esto a $3^{3i} = e^{3i*(ln(3))}$\n",
        "* de lo sacado anteriormente pasamos a $e^{3i*(ln(3))}= cos(3*ln(3))+i*sin(3*ln(3))$\n",
        "* $3i - e^{-3i} = \\cos(3 \\ln(3)) + i \\sin(3 \\ln(3)) - (\\cos(3) - i \\sin(3))\n",
        "$\n",
        "\n",
        "\n",
        "\n",
        "1.   Dividimos por iy simplificamos la expresión multiplicando el numerador y el denominador por el conjugado del denominador. $\\frac{\\cos(3\\ln(3)) + i\\sin(3\\ln(3)) - \\cos(3) + i\\sin(3)}{2i} \\cdot \\frac{i}{i} $ esto nos dara: $ \\frac{-i\\cos(3\\ln(3)) - \\sin(3\\ln(3)) + i\\cos(3) - \\sin(3)}{-2}$\n",
        "2.   Separar parte real e imaginaria: $\\frac{\\sin(3) - \\sin(3\\ln(3))}{-2} - i \\frac{\\cos(3\\ln(3)) - \\cos(3)}{2}$\n",
        "\n",
        "\n",
        "\n"
      ],
      "metadata": {
        "id": "H8tnsKnrFKn2"
      }
    },
    {
      "cell_type": "markdown",
      "source": [
        "### **Ejercicio 6:**\n",
        "Resolver la siguiente identidad trigonométrica\n",
        "$\\cos3\\theta + i*sen3θ = (cos\\theta +i sen \\theta)^3$"
      ],
      "metadata": {
        "id": "ecrmTcc248jO"
      }
    },
    {
      "cell_type": "markdown",
      "source": [
        "$\\cos(3\\theta) + i\\sin(3\\theta) = (\\cos(\\theta) - i\\sin(\\theta))^3 =\n",
        "\\cos^3(\\theta) - 3\\cos(\\theta)\\sin^2(\\theta) + i(3\\cos^2(\\theta)\\sin(\\theta) - \\sin^3(\\theta))$"
      ],
      "metadata": {
        "id": "X8uzopyhMAYG"
      }
    },
    {
      "cell_type": "markdown",
      "source": [
        "### **Ejercicio 7:**\n",
        "Demostrar que si z y w son dos números complejos, se siguen cumpliendo las siguientes igualdades:"
      ],
      "metadata": {
        "id": "6ZHG57iF48dP"
      }
    },
    {
      "cell_type": "markdown",
      "source": [
        "#### **a)** $\\sin^2 z + \\cos^2 z = 1$\n",
        "\n"
      ],
      "metadata": {
        "id": "KdxEWxjo6BE2"
      }
    },
    {
      "cell_type": "markdown",
      "source": [
        "a) $\\sin^2 z + \\cos^2 z = 1 $\n",
        "+ Usamos las identidades de Euler para: $\\sin z \\text{ y } \\cos z$\n",
        "$$\\sin z = \\frac{e^{iz} - e^{-iz}}{2i}\n",
        "$$  $$\\cos z = \\frac{e^{iz} + e^{-iz}}{2} $$\n",
        "* Elevamos al cuadrado ambas identidades:\n",
        "$\\sin^2 z = \\left(\\frac{e^{iz} - e^{-iz}}{2i}\\right)^2\n",
        "\\cos^2 z = \\left(\\frac{e^{iz} + e^{-iz}}{2}\\right)^2 $\n",
        "* Sumamos los cuadrados:\n",
        "$$\\sin^2 z + \\cos^2 z = \\left(\\frac{e^{iz} - e^{-iz}}{2i}\\right)^2 + \\left(\\frac{e^{iz} + e^{-iz}}{2}\\right)^2 $$\n",
        "* Simplificamos la expresión y demostramos que es igual a 1.\n"
      ],
      "metadata": {
        "id": "m1uZGWf7kULj"
      }
    },
    {
      "cell_type": "code",
      "source": [
        "\n",
        "# Definir la variable compleja\n",
        "z = symbols('z', complex=True)\n",
        "\n",
        "# Utilizar las identidades de Euler para sin(z) y cos(z)\n",
        "sin_z = (exp(I*z) - exp(-I*z)) / (2*I)\n",
        "cos_z = (exp(I*z) + exp(-I*z)) / 2\n",
        "\n",
        "# Elevar al cuadrado ambas identidades\n",
        "sin_cuadrado = sin_z**2\n",
        "cos_cuadrado = cos_z**2\n",
        "\n",
        "# Sumar los cuadrados\n",
        "identidad_a = simplify(sin_cuadrado + cos_cuadrado)\n",
        "\n",
        "# Mostrar la identidad simplificada\n",
        "identidad_a\n"
      ],
      "metadata": {
        "id": "APvKgLqOl4R0",
        "outputId": "481db52a-425a-4d55-ae99-d5e7ebea71a2",
        "colab": {
          "base_uri": "https://localhost:8080/",
          "height": 37
        }
      },
      "execution_count": 70,
      "outputs": [
        {
          "output_type": "execute_result",
          "data": {
            "text/plain": [
              "1"
            ],
            "text/latex": "$\\displaystyle 1$"
          },
          "metadata": {},
          "execution_count": 70
        }
      ]
    },
    {
      "cell_type": "markdown",
      "source": [
        "#### **b)** $\\sin(z + w) = \\sin z \\cos w + \\cos z \\sin w$"
      ],
      "metadata": {
        "id": "YXpPg3MM6A8-"
      }
    },
    {
      "cell_type": "markdown",
      "source": [
        "Para demostrar esta identidad, seguimos los siguientes pasos:\n",
        "\n",
        "Usamos la fórmula de adición de Euler para $\\sin(z+w)$:\n",
        "\n",
        "$\\sin(z+w) = \\frac{e^{i(z+w)} - e^{-i(z+w)}}{2i}$\n",
        "\n",
        "Expandimos la expresión anterior utilizando la propiedad de exponenciales $e^{a+b} = e^a e^b$:\n",
        "\n",
        "$\\sin(z+w) = \\frac{e^{iz}e^{iw} - e^{-iz}e^{-iw}}{2i}$\n",
        "\n",
        "Separamos la expresión en dos términos y aplicamos las identidades de Euler para $\\sin$ y $\\cos$ en los términos $e^{iz}$, $e^{iw}$, $e^{-iz}$, y $e^{-iw}$.\n",
        "\n",
        "Simplificamos la expresión y demostramos que es igual a $\\sin z \\cos w + \\cos z \\sin w$.\n"
      ],
      "metadata": {
        "id": "iwRrVnvrmpg7"
      }
    },
    {
      "cell_type": "code",
      "source": [
        "# Definir otra variable compleja\n",
        "w = symbols('w', complex=True)\n",
        "\n",
        "# Usar la fórmula de adición para sin(z + w)\n",
        "sin_z_mas_w = sin(z + w)\n",
        "\n",
        "# Usar las fórmulas de adición para sin y cos\n",
        "sin_z_por_cos_w = sin(z) * cos(w)\n",
        "cos_z_por_sin_w = cos(z) * sin(w)\n",
        "\n",
        "# Sumar los componentes para obtener el lado derecho de la identidad\n",
        "lado_derecho_b = sin_z_por_cos_w + cos_z_por_sin_w\n",
        "\n",
        "# Simplificar la expresión\n",
        "identidad_b = simplify(sin_z_mas_w - lado_derecho_b)\n",
        "\n",
        "# Mostrar la identidad simplificada\n",
        "identidad_b"
      ],
      "metadata": {
        "id": "6Sq23n3Slrji",
        "outputId": "14c3fdb6-da6e-419b-defe-1f28eb9e2e7e",
        "colab": {
          "base_uri": "https://localhost:8080/",
          "height": 37
        }
      },
      "execution_count": 71,
      "outputs": [
        {
          "output_type": "execute_result",
          "data": {
            "text/plain": [
              "0"
            ],
            "text/latex": "$\\displaystyle 0$"
          },
          "metadata": {},
          "execution_count": 71
        }
      ]
    },
    {
      "cell_type": "markdown",
      "source": [
        "#### **c)** $\\cos(z + w) = \\cos z \\cos w + \\sin z \\sin w$"
      ],
      "metadata": {
        "id": "qgVzyvZE6Afl"
      }
    },
    {
      "cell_type": "markdown",
      "source": [
        "\n",
        "\n",
        "* Uso de la fórmula de adición para el coseno\n",
        "Utilizamos la fórmula de adición para el coseno de la suma de dos números complejos:\n",
        "$$\n",
        "\\cos(z + w) = \\cos z \\cos w - \\sin z \\sin w\n",
        "$$\n",
        "\n",
        "* Implementación de la fórmula de adición\n",
        "Implementamos la fórmula de adición en el código:\n",
        "$$cos\\_z\\_mas\\_w = \\cos(z + w)$$\n",
        "\n",
        "\n",
        "\n",
        "* Uso de las fórmulas de adición para seno y coseno\n",
        "Utilizamos las fórmulas de adición para el seno y el coseno para expresar el lado derecho de la identidad:\n",
        "\n",
        "$${cos\\_z\\_por\\_cos\\_w} = \\cos(z) \\cdot \\cos(w)$$\n",
        "\n",
        "$$\n",
        "\\texttt{sin\\_z\\_por\\_sin\\_w} = \\sin(z) \\cdot \\sin(w)\n",
        "$$\n",
        "\n",
        "* Combinación de los términos para formar el lado derecho de la identidad\n",
        "Combinamos estos términos para obtener el lado derecho de la identidad:\n",
        "$$\n",
        "\\texttt{lado\\_derecho\\_c} = \\texttt{cos\\_z\\_por\\_cos\\_w} - \\texttt{sin\\_z\\_por\\_sin\\_w}\n",
        "$$\n",
        "\n",
        "*  Simplificación de la expresión\n",
        "Simplificamos la expresión para verificar la identidad:\n",
        "$$\n",
        "\\texttt{identidad\\_c} = \\text{simplify}(\\texttt{cos\\_z\\_mas\\_w} - \\texttt{lado\\_derecho\\_c})\n",
        "$$\n",
        "\n",
        "Si $identidad\\_c$ es igual a 0, entonces la identidad es verdadera.\n"
      ],
      "metadata": {
        "id": "xLqOUPhzm319"
      }
    },
    {
      "cell_type": "code",
      "source": [
        "# Definir una variable compleja 'z'\n",
        "z = symbols('z', complex=True)\n",
        "\n",
        "# Definir otra variable compleja 'w'\n",
        "w = symbols('w', complex=True)\n",
        "\n",
        "# Usar la fórmula de adición para cos(z + w)\n",
        "cos_z_mas_w = cos(z + w)\n",
        "\n",
        "# Usar las fórmulas de adición para sin y cos\n",
        "cos_z_por_cos_w = cos(z) * cos(w)\n",
        "sin_z_por_sin_w = sin(z) * sin(w)\n",
        "\n",
        "# Restar los componentes para obtener el lado derecho de la identidad\n",
        "lado_derecho_c = cos_z_por_cos_w - sin_z_por_sin_w\n",
        "\n",
        "# Simplificar la expresión\n",
        "identidad_c = simplify(cos_z_mas_w - lado_derecho_c)\n",
        "\n",
        "# Mostrar la identidad simplificada\n",
        "identidad_c"
      ],
      "metadata": {
        "id": "k-K1CILlm4N4",
        "outputId": "2f511aad-bd57-4a2b-93a9-3bca35865f07",
        "colab": {
          "base_uri": "https://localhost:8080/",
          "height": 37
        }
      },
      "execution_count": 73,
      "outputs": [
        {
          "output_type": "execute_result",
          "data": {
            "text/plain": [
              "0"
            ],
            "text/latex": "$\\displaystyle 0$"
          },
          "metadata": {},
          "execution_count": 73
        }
      ]
    },
    {
      "cell_type": "markdown",
      "source": [
        "### **Ejercicio 8:**\n",
        "Demostrar las siguientes identidades"
      ],
      "metadata": {
        "id": "AEjKowPd48UH"
      }
    },
    {
      "cell_type": "markdown",
      "source": [
        "#### **a)** $\\sin 3\\theta = 3 \\cos^2 \\theta \\sin \\theta - \\sin^3 \\theta$\n"
      ],
      "metadata": {
        "id": "6zkSmlgJB8eP"
      }
    },
    {
      "cell_type": "markdown",
      "source": [
        "Para demostrar la identidad $(\\sin(3\\theta) = 3\\cos^2(\\theta)\\sin(\\theta) - \\sin^3(\\theta) )$, podemos empezar usando la fórmula de ángulo triple para el seno:\n",
        "\n",
        "$\n",
        "\\sin(3\\theta) = 3\\sin(\\theta) - 4\\sin^3(\\theta)\n",
        "$\n",
        "\n",
        "Luego, utilizando la identidad fundamental de la trigonometría $( \\sin^2(\\theta) + \\cos^2(\\theta) = 1 )$, podemos expresar $( \\sin^2(\\theta) )$ como $( 1 - \\cos^2(\\theta) )$. Al sustituir $( \\sin^2(\\theta) )$ en la fórmula del ángulo triple, obtenemos:\n",
        "\n",
        "$\n",
        "\\sin(3\\theta) = 3\\sin(\\theta) - 4(1 - \\cos^2(\\theta))\\sin(\\theta)\n",
        "$\n",
        "\n",
        "Simplificando, obtenemos la identidad deseada:\n",
        "\n",
        "$\n",
        "\\sin(3\\theta) = 3\\cos^2(\\theta)\\sin(\\theta) - \\sin^3(\\theta)\n",
        "$\n"
      ],
      "metadata": {
        "id": "sTT3R7M07Fx_"
      }
    },
    {
      "cell_type": "markdown",
      "source": [
        "#### **b)** $\\sin 4\\theta = 4 \\cos^3 \\theta \\sin \\theta - 4 \\cos \\theta \\sin^3 \\theta$"
      ],
      "metadata": {
        "id": "aB34gQg9CFm2"
      }
    },
    {
      "cell_type": "markdown",
      "source": [
        "Para demostrar la identidad $ \\sin(4\\theta) = 4\\cos^3(\\theta) \\sin(\\theta) - 4\\cos(\\theta) \\sin^3(\\theta) $, utilizamos la fórmula de doble ángulo y las identidades pitagóricas.\n",
        "\n",
        "Empezamos con la fórmula de doble ángulo:\n",
        "$$\n",
        "\\sin(2\\theta) = 2\\sin(\\theta)\\cos(\\theta)\n",
        "$$\n",
        "\n",
        "Aplicamos la fórmula de doble ángulo nuevamente para obtener $ \\sin(4\\theta) $:\n",
        "$$\n",
        "\\sin(4\\theta) = 2\\sin(2\\theta)\\cos(2\\theta)\n",
        "$$\n",
        "\n",
        "Sustituimos $ \\sin(2\\theta) $ por su expresión en términos de $ \\theta $:\n",
        "$$\n",
        "\\sin(4\\theta) = 2(2\\sin(\\theta)\\cos(\\theta))\\cos(2\\theta)\n",
        "$$\n",
        "\n",
        "Ahora expresamos $ \\cos(2\\theta) $ utilizando la identidad $ \\cos(2\\theta) = 2\\cos^2(\\theta) - 1 $:\n",
        "$$\n",
        "\\sin(4\\theta) = 4\\sin(\\theta)\\cos(\\theta)(2\\cos^2(\\theta) - 1)\n",
        "$$\n",
        "\n",
        "Distribuimos y simplificamos para obtener la identidad deseada:\n",
        "$$\n",
        "\\sin(4\\theta) = 8\\sin(\\theta)\\cos^3(\\theta) - 4\\sin(\\theta)\\cos(\\theta)\n",
        "$$\n",
        "\n",
        "Finalmente, factorizamos $ 4\\sin(\\theta)\\cos(\\theta) $:\n",
        "$$\n",
        "\\sin(4\\theta) = 4\\cos(\\theta)\\sin(\\theta)(2\\cos^2(\\theta) - 1)\n",
        "$$\n",
        "\n",
        "Utilizando la identidad $ \\sin^2(\\theta) = 1 - \\cos^2(\\theta) $, podemos reescribir $ 2\\cos^2(\\theta) - 1 $ como $ 1 - \\sin^2(\\theta) $ y entonces obtenemos la identidad final:\n",
        "$$\n",
        "\\sin(4\\theta) = 4\\cos^3(\\theta)\\sin(\\theta) - 4\\cos(\\theta)\\sin^3(\\theta)\n",
        "$$\n"
      ],
      "metadata": {
        "id": "m8n8RERL7kEp"
      }
    },
    {
      "cell_type": "markdown",
      "source": [
        "### **Ejercicio 9:**\n",
        "Resolver la siguiente ecuación algebraica de segundo grado\n",
        "$z^2+z+1= 0$"
      ],
      "metadata": {
        "id": "jLJICxIB48Kv"
      }
    },
    {
      "cell_type": "code",
      "source": [
        "#Definimos la variable\n",
        "z = symbols('z')\n",
        "#Definimos la ecuacion\n",
        "ecuacion = Eq(z**2+z+1,0)\n",
        "print(solve(ecuacion,z))"
      ],
      "metadata": {
        "id": "CF4Ds9dWq2RU",
        "outputId": "86b50819-7600-46a5-e4fe-248c0c79c7a7",
        "colab": {
          "base_uri": "https://localhost:8080/"
        }
      },
      "execution_count": 39,
      "outputs": [
        {
          "output_type": "stream",
          "name": "stdout",
          "text": [
            "[-1/2 - sqrt(3)*I/2, -1/2 + sqrt(3)*I/2]\n"
          ]
        }
      ]
    },
    {
      "cell_type": "markdown",
      "source": [
        "z = $-\\frac{1}{2} \\pm \\frac{\\sqrt{3}}{2}i$\n"
      ],
      "metadata": {
        "id": "CBBHl_N3r8pb"
      }
    },
    {
      "cell_type": "markdown",
      "source": [
        "### **Ejercicio 10:**\n",
        "Resolver las ecuaciones\n",
        "\n",
        "---"
      ],
      "metadata": {
        "id": "5x-KGfPC5G12"
      }
    },
    {
      "cell_type": "code",
      "source": [
        "# Definimos la variable simbólica y el exponente n\n",
        "z, n = symbols('z n')\n",
        "\n",
        "# Definimos las ecuaciones dadas en el ejercicio\n",
        "ecuacion_a = Eq(z**n + 1/z**n, 0)\n",
        "ecuacion_b = Eq(z**n - 1/z**n, 0)\n",
        "\n"
      ],
      "metadata": {
        "id": "-JfkiY96pbIj"
      },
      "execution_count": 40,
      "outputs": []
    },
    {
      "cell_type": "markdown",
      "source": [
        "#### **a)** $z^n + \\frac{1}{z^n} = 0$"
      ],
      "metadata": {
        "id": "bWPFN4s-CS3l"
      }
    },
    {
      "cell_type": "code",
      "source": [
        "# Resolvemos las ecuaciones\n",
        "solucion_a = solve(ecuacion_a, z)\n",
        "\n",
        "\n",
        "solucion_a"
      ],
      "metadata": {
        "id": "6yU1l2Oxpjqd",
        "outputId": "b69ca60f-5c14-434c-997c-b5a8604883f9",
        "colab": {
          "base_uri": "https://localhost:8080/"
        }
      },
      "execution_count": 41,
      "outputs": [
        {
          "output_type": "execute_result",
          "data": {
            "text/plain": [
              "[I**(1/n), (-I)**(1/n)]"
            ]
          },
          "metadata": {},
          "execution_count": 41
        }
      ]
    },
    {
      "cell_type": "markdown",
      "source": [
        "Para la ecuación $( z^n + \\frac{1}{z^n} = 0 )$, las soluciones son $( z = i^{\\frac{1}{n}} )$ y $( z = (-i)^{\\frac{1}{n}} )$, que corresponden a las raíces n-ésimas de \\( i \\) y \\( -i \\), respectivamente.\n",
        "\n"
      ],
      "metadata": {
        "id": "fo_9V8gAqRHI"
      }
    },
    {
      "cell_type": "markdown",
      "source": [
        "#### **b)** $z^n - \\frac{1}{z^n} = 0$"
      ],
      "metadata": {
        "id": "IF8iEn2sCS3l"
      }
    },
    {
      "cell_type": "code",
      "source": [
        "solucion_b = solve(ecuacion_b, z)\n",
        "solucion_b"
      ],
      "metadata": {
        "id": "zrRt7JUsplvY",
        "outputId": "edc97c95-e611-4528-d65e-89be96f58264",
        "colab": {
          "base_uri": "https://localhost:8080/"
        }
      },
      "execution_count": 42,
      "outputs": [
        {
          "output_type": "execute_result",
          "data": {
            "text/plain": [
              "[1, (-1)**(1/n)]"
            ]
          },
          "metadata": {},
          "execution_count": 42
        }
      ]
    },
    {
      "cell_type": "markdown",
      "source": [
        "Para la ecuación $ z^n - \\frac{1}{z^n} = 0 $, las soluciones son $( z = 1 ) $ y $( z = (-1)^{\\frac{1}{n}} )$, que corresponden a 1 y a las raíces n-ésimas de \\( -1 \\), respectivamente."
      ],
      "metadata": {
        "id": "U-lrAudeqlgF"
      }
    },
    {
      "cell_type": "markdown",
      "source": [
        "## Álgebra\n",
        "---"
      ],
      "metadata": {
        "id": "qGMzSTZO5Kwo"
      }
    },
    {
      "cell_type": "markdown",
      "source": [
        "### **Ejercicio 11:**\n",
        "\n",
        "Determinar si los siguientes vectores son linealmente independientes:\n",
        "$u{1}= (2,9,2)$,\n",
        "$u{2}= (8,-3,1)$,\n",
        "$ u{3}= (-2,-1,1)$\n",
        "\n",
        "---"
      ],
      "metadata": {
        "id": "nAHdB7Ss5UVm"
      }
    },
    {
      "cell_type": "code",
      "source": [
        "a = 2\n",
        "b = 9\n",
        "c = 2\n",
        "d = 8\n",
        "e = -3\n",
        "f = 1\n",
        "g = -2\n",
        "h = -1\n",
        "i = 1\n",
        "determinante = a*((e*i)-(f*h))-b*((d*i)-(f*g))+c*((d*h)-(e*g))\n",
        "print(determinante)"
      ],
      "metadata": {
        "id": "LLqgqJkMrLdu",
        "outputId": "4ce529de-a27b-4749-c790-5a2a6fb24179",
        "colab": {
          "base_uri": "https://localhost:8080/"
        }
      },
      "execution_count": 43,
      "outputs": [
        {
          "output_type": "stream",
          "name": "stdout",
          "text": [
            "-122\n"
          ]
        }
      ]
    },
    {
      "cell_type": "markdown",
      "source": [
        "### **Ejercicio 12:**\n",
        "Escribir el polinomio:\n",
        "\n",
        "$P(x) = 5x^2-4x+1$\n",
        "\n",
        "como combinación lineal de los polinomios:\n",
        "\n",
        "$U{1} = 2x^2 + 9x+1$,   $ U{2} = 4x+2$, $U{3} = x^2+3x+6 $\n",
        "\n",
        "---"
      ],
      "metadata": {
        "id": "FbSURtw25UQO"
      }
    },
    {
      "cell_type": "markdown",
      "source": [
        "Para escribir el polinomio $P(x) = 5x^2 - 4x + 1$ como una combinación lineal de los polinomios $U_1 = 2x^2 + 9x + 1$, $U_2 = 4x + 2$, $U_3 = x^2 + 3x + 6$, necesitamos encontrar coeficientes $a$, $b$, y $c$ tales que:\n",
        "\n",
        "$aU_1 + bU_2 + cU_3 = P(x) $\n",
        "\n",
        "Esto significa que:\n",
        "\n",
        "$ a(2x^2 + 9x + 1) + b(4x + 2) + c(x^2 + 3x + 6) = 5x^2 - 4x + 1 $\n",
        "\n",
        "Expandiendo y agrupando términos semejantes, obtenemos:\n",
        "\n",
        "$ (2a + c)x^2 + (9a + 4b + 3c)x + (a + 2b + 6c) = 5x^2 - 4x + 1 $\n",
        "\n",
        "Para que esta igualdad se cumpla para todo $x$, los coeficientes de los términos correspondientes deben ser iguales. Esto nos da el siguiente sistema de ecuaciones lineales:\n",
        "\n",
        "Para $x^2$: $2a + c = 5$\n",
        "\n",
        "Para $x$: $9a + 4b + 3c = -4$\n",
        "\n",
        "Para el término constante: $a + 2b + 6c = 1$\n"
      ],
      "metadata": {
        "id": "UnHirFnEY2Vs"
      }
    },
    {
      "cell_type": "markdown",
      "source": [
        "Usaremos la regla de Cramer para resolver esto ya que nos queda un sistema de tres ecuaciones"
      ],
      "metadata": {
        "id": "GT5ZT2TtX63v"
      }
    },
    {
      "cell_type": "code",
      "source": [
        "matriz_g = np.array([[2, 0, 1],\n",
        "                   [9, 4, 3],\n",
        "                   [1, 2, 6]])\n",
        "determinante_g = np.linalg.det(matriz_g)"
      ],
      "metadata": {
        "id": "lDFKt8UvWRJT"
      },
      "execution_count": 44,
      "outputs": []
    },
    {
      "cell_type": "code",
      "source": [
        "matriz_a = np.array([[5, 0, 1],\n",
        "                   [-4, 4, 3],\n",
        "                   [1, 2, 6]])\n",
        "determinante_a = np.linalg.det(matriz_a)\n"
      ],
      "metadata": {
        "id": "sAn4F2C0W38S"
      },
      "execution_count": 45,
      "outputs": []
    },
    {
      "cell_type": "code",
      "source": [
        "matriz_b = np.array([[2, 5, 1],\n",
        "                   [9, -4, 3],\n",
        "                   [1, 1, 6]])\n",
        "determinante_b= np.linalg.det(matriz_b)"
      ],
      "metadata": {
        "id": "U2ueE0wHXFA0"
      },
      "execution_count": 46,
      "outputs": []
    },
    {
      "cell_type": "code",
      "source": [
        "matriz_c = np.array([[2, 0, 5],\n",
        "                   [9, 4, -4],\n",
        "                   [1, 2, 1]])\n",
        "determinante_c = np.linalg.det(matriz_c)"
      ],
      "metadata": {
        "id": "lNIddLwKXEqF"
      },
      "execution_count": 47,
      "outputs": []
    },
    {
      "cell_type": "code",
      "source": [
        "a = determinante_a/determinante_g\n",
        "b = determinante_b/determinante_g\n",
        "c = determinante_c/determinante_g"
      ],
      "metadata": {
        "id": "r05eYOYVXcQ-"
      },
      "execution_count": 48,
      "outputs": []
    },
    {
      "cell_type": "code",
      "source": [
        "a"
      ],
      "metadata": {
        "id": "tdktN-piXtSZ",
        "outputId": "91533e03-25cb-489d-d070-ca9643fa106e",
        "colab": {
          "base_uri": "https://localhost:8080/"
        }
      },
      "execution_count": 49,
      "outputs": [
        {
          "output_type": "execute_result",
          "data": {
            "text/plain": [
              "1.5599999999999996"
            ]
          },
          "metadata": {},
          "execution_count": 49
        }
      ]
    },
    {
      "cell_type": "code",
      "source": [
        "b"
      ],
      "metadata": {
        "id": "XZBaHg_FXyz8",
        "outputId": "57ab0ba8-61df-42ee-86cb-2d47dcadfc3c",
        "colab": {
          "base_uri": "https://localhost:8080/"
        }
      },
      "execution_count": 50,
      "outputs": [
        {
          "output_type": "execute_result",
          "data": {
            "text/plain": [
              "-5.920000000000002"
            ]
          },
          "metadata": {},
          "execution_count": 50
        }
      ]
    },
    {
      "cell_type": "code",
      "source": [
        "c"
      ],
      "metadata": {
        "id": "MNVk2sOVX2UE",
        "outputId": "3ee1ca1e-0432-4c05-8c78-d0981ed14272",
        "colab": {
          "base_uri": "https://localhost:8080/"
        }
      },
      "execution_count": 51,
      "outputs": [
        {
          "output_type": "execute_result",
          "data": {
            "text/plain": [
              "1.8799999999999994"
            ]
          },
          "metadata": {},
          "execution_count": 51
        }
      ]
    },
    {
      "cell_type": "markdown",
      "source": [
        "Con estos resultaods escribimos el polinomio $P(x)$ como una combinacion lineal de $U_1$ $U_2$ $U_3$ de la siguiente forma:\n",
        "$P(x) = a* U_1 + b* U_2 + c * U_3 $"
      ],
      "metadata": {
        "id": "ufgvLBqYZf-9"
      }
    },
    {
      "cell_type": "markdown",
      "source": [
        "### **Ejercicio 13:**\n",
        "Obtener la matriz de la transformación lineal:\n",
        "\n",
        "$T(x,y,z) = (x+y,3x-y+z)$\n",
        "\n",
        "de $R^3$ con la base estándar (1,0,0,), (0,1,0), (0,0,1) a $R^2$\n",
        " con la base (1,1), (1,-1)"
      ],
      "metadata": {
        "id": "lo3v8PFt5UJe"
      }
    },
    {
      "cell_type": "code",
      "source": [
        "\n",
        "# Definir la función de transformación\n",
        "def T(x, y, z):\n",
        "    return Matrix([x + y, 3*x - y + z])\n",
        "\n",
        "# Base para R^3\n",
        "base_R3 = [Matrix([1,0,0]), Matrix([0,1,0]), Matrix([0,0,1])]\n",
        "\n",
        "# Base para R^2\n",
        "base_R2 = [Matrix([1,1]), Matrix([1,-1])]\n",
        "\n",
        "# Aplicar la transformación T a cada vector en la base de R^3\n",
        "vectores_transformados = [T(*vec) for vec in base_R3]\n",
        "\n",
        "# Expresar cada vector transformado en términos de la base de R^2\n",
        "# Resolvemos la ecuación base_R2 * [a, b] = vector_transformado para cada vector transformado\n",
        "matriz_de_coeficientes = Matrix([[base_R2[0].dot(vec), base_R2[1].dot(vec)] for vec in vectores_transformados]).transpose()\n",
        "\n",
        "matriz_de_coeficientes\n",
        "\n"
      ],
      "metadata": {
        "id": "3OSEPvtsycfJ",
        "outputId": "29849c1e-6cf4-4432-b3f2-f8e7559f0389",
        "colab": {
          "base_uri": "https://localhost:8080/",
          "height": 58
        }
      },
      "execution_count": 52,
      "outputs": [
        {
          "output_type": "execute_result",
          "data": {
            "text/plain": [
              "Matrix([\n",
              "[ 4, 0,  1],\n",
              "[-2, 2, -1]])"
            ],
            "text/latex": "$\\displaystyle \\left[\\begin{matrix}4 & 0 & 1\\\\-2 & 2 & -1\\end{matrix}\\right]$"
          },
          "metadata": {},
          "execution_count": 52
        }
      ]
    },
    {
      "cell_type": "markdown",
      "source": [
        "La matriz de la transformación lineal $ T(x, y, z) = (x + y, 3x - y + z) $ de $ \\mathbb{R}^3 $ a $ \\mathbb{R}^2 $, con respecto a la base estándar en $ \\mathbb{R}^3 $ y la base $ \\{(1,1), (1,-1)\\} $ en $ \\mathbb{R}^2 $, es:\n",
        "\n",
        "\n",
        "\\begin{pmatrix}\n",
        "4 & 0 & 1 \\\\\n",
        "-2 & 2 & -1\n",
        "\\end{pmatrix}\n",
        "\n",
        "\n",
        "Esto significa que para convertir las coordenadas de un vector en $ \\mathbb{R}^3 $ a las coordenadas de su imagen en $ \\mathbb{R}^2 $ a través de la transformación $ T $, se puede multiplicar la matriz anterior por un vector columna de $ \\mathbb{R}^3 $.\n"
      ],
      "metadata": {
        "id": "PbIsR4cfyVQO"
      }
    },
    {
      "cell_type": "markdown",
      "source": [
        "### **Ejercicio 14:**\n",
        "Obtener los autovectores y autovalores de la siguiente matriz:\n",
        "\n",
        "$A = \\begin{pmatrix}\n",
        "1 & 1 & 3 \\\\\n",
        "1 & 1 & -3 \\\\\n",
        "3 & -3 & -3\n",
        "\\end{pmatrix}$\n",
        "\n",
        "---"
      ],
      "metadata": {
        "id": "nm30xdcp5UCe"
      }
    },
    {
      "cell_type": "code",
      "source": [
        "A = np.array([[1, 1, 3],\n",
        "              [1, 1, -3],\n",
        "              [3, -3, -3]])\n",
        "eigenvalues, eigenvectors = np.linalg.eig(A)\n",
        "\n",
        "eigenvalues, eigenvectors"
      ],
      "metadata": {
        "id": "nM84YepeapBT",
        "outputId": "41b33900-2358-4a32-a19c-bc21ac7fbc13",
        "colab": {
          "base_uri": "https://localhost:8080/"
        }
      },
      "execution_count": 53,
      "outputs": [
        {
          "output_type": "execute_result",
          "data": {
            "text/plain": [
              "(array([-6.,  2.,  3.]),\n",
              " array([[ 4.08248290e-01, -7.07106781e-01,  5.77350269e-01],\n",
              "        [-4.08248290e-01, -7.07106781e-01, -5.77350269e-01],\n",
              "        [-8.16496581e-01,  1.88604174e-16,  5.77350269e-01]]))"
            ]
          },
          "metadata": {},
          "execution_count": 53
        }
      ]
    },
    {
      "cell_type": "markdown",
      "source": [
        "### **Ejercicio 15:**\n",
        "Demostrar las siguientes identidades:\n",
        "\n",
        "---"
      ],
      "metadata": {
        "id": "2vzf6z-Y5T6-"
      }
    },
    {
      "cell_type": "markdown",
      "source": [
        "#### **i)**  $P_+|0\\rangle = |0\\rangle$\n"
      ],
      "metadata": {
        "id": "PYKozaRME8ck"
      }
    },
    {
      "cell_type": "markdown",
      "source": [
        "####ii) $P_+|1\\rangle = 0$\n"
      ],
      "metadata": {
        "id": "h6mf-s1KFKSz"
      }
    },
    {
      "cell_type": "markdown",
      "source": [
        "####iii) $P_-|0\\rangle = 0$\n",
        "\n"
      ],
      "metadata": {
        "id": "akRfjyZYFnB9"
      }
    },
    {
      "cell_type": "markdown",
      "source": [
        "####iv) $P_+|1\\rangle = |1\\rangle$\n"
      ],
      "metadata": {
        "id": "6IqbZL85FysU"
      }
    },
    {
      "cell_type": "markdown",
      "source": [
        "####v) $\\sigma_{\\pm} = 0$\n"
      ],
      "metadata": {
        "id": "PX_gMqNDF6iL"
      }
    },
    {
      "cell_type": "markdown",
      "source": [
        "####vi) $P_{\\pm}^2 = P_{\\pm}$\n"
      ],
      "metadata": {
        "id": "RbmXiu6EG9tB"
      }
    },
    {
      "cell_type": "markdown",
      "source": [
        "####vii) $P_+ P_- = 0$"
      ],
      "metadata": {
        "id": "JH_1if4MHFdD"
      }
    },
    {
      "cell_type": "markdown",
      "source": [
        "### **Ejercicio 16:**\n",
        "\n",
        "Obtener los operadores de proyección sobre los autoespacios de $σ_z$ con los autovalores ±1."
      ],
      "metadata": {
        "id": "9wuW-b4R5T0-"
      }
    },
    {
      "cell_type": "markdown",
      "source": [
        "El operador $ \\sigma_z $ es conocido en mecánica cuántica como el operador de Pauli-Z, y tiene dos autovalores, $ +1 $ y $ -1 $, con autovectores asociados típicamente denotados como $ |0\\rangle $ (o $ |\\uparrow\\rangle $) y $ |1\\rangle $ (o $ |\\downarrow\\rangle $), respectivamente.\n",
        "\n",
        "El operador de proyección $ P_+ $ sobre el autoespacio con autovalor $ +1 $ está dado por:\n",
        "$P_+ = |0\\rangle\\langle0| =\n",
        "\\begin{pmatrix}\n",
        "1 & 0 \\\\\n",
        "0 & 0\n",
        "\\end{pmatrix}\n",
        "$\n",
        "\n",
        "El operador de proyección $ P_- $ sobre el autoespacio con autovalor $ -1 $ es:\n",
        "$ P_- = |1\\rangle\\langle1|$ =\n",
        "\\begin{pmatrix}\n",
        "0 & 0 \\\\\n",
        "0 & 1\n",
        "\\end{pmatrix}\n",
        "\n",
        "\n",
        "Estos operadores proyectan cualquier estado del espacio de Hilbert de un qubit sobre los estados $ |0\\rangle $ y $ |1\\rangle $, respectivamente.\n"
      ],
      "metadata": {
        "id": "PPxF7TYZw3ku"
      }
    },
    {
      "cell_type": "markdown",
      "source": [
        "### **Ejercicio 17:**\n",
        "Dados los vectores:\n",
        "\n",
        "$|a\\rangle = \\begin{pmatrix}\n",
        "-2 \\\\\n",
        "4i \\\\\n",
        "1\n",
        "\\end{pmatrix}$\n",
        "\n",
        "$|b\\rangle = \\begin{pmatrix}\n",
        "1 \\\\\n",
        "0 \\\\\n",
        "i\n",
        "\\end{pmatrix}\n",
        "$\n",
        "\n",
        "Calcular:\n",
        "\n",
        "---\n"
      ],
      "metadata": {
        "id": "5B_3lSXJ5TuG"
      }
    },
    {
      "cell_type": "code",
      "source": [
        "# Definimos los vectores dados en el ejercicio\n",
        "vector_a = Matrix([-2, 4*I, 1])\n",
        "vector_b = Matrix([1, 0, I])"
      ],
      "metadata": {
        "id": "qZaphv0VoLZP"
      },
      "execution_count": 54,
      "outputs": []
    },
    {
      "cell_type": "markdown",
      "source": [
        "####i) $\\langle a | ,  \\langle b |$\n"
      ],
      "metadata": {
        "id": "9LljvdzdH75Y"
      }
    },
    {
      "cell_type": "code",
      "source": [
        "# i) Calculamos el producto escalar (a|b)\n",
        "producto_escalar_ab = vector_a.dot(vector_b.conjugate())"
      ],
      "metadata": {
        "id": "qEgAgvnqoR0-"
      },
      "execution_count": 55,
      "outputs": []
    },
    {
      "cell_type": "code",
      "source": [
        "producto_escalar_ab"
      ],
      "metadata": {
        "id": "316XFoEmoZTV",
        "outputId": "108f86f5-f8f2-4298-8066-9cd94fd951ba",
        "colab": {
          "base_uri": "https://localhost:8080/",
          "height": 39
        }
      },
      "execution_count": 56,
      "outputs": [
        {
          "output_type": "execute_result",
          "data": {
            "text/plain": [
              "-2 - I"
            ],
            "text/latex": "$\\displaystyle -2 - i$"
          },
          "metadata": {},
          "execution_count": 56
        }
      ]
    },
    {
      "cell_type": "markdown",
      "source": [
        "#### ii) $\\langle a | b \\rangle, \\langle b | a \\rangle\n",
        "$"
      ],
      "metadata": {
        "id": "Y_eL52-eH7xh"
      }
    },
    {
      "cell_type": "code",
      "source": [
        "# ii) Calculamos los productos escalares (a|b) y (b|a)\n",
        "producto_escalar_ba = vector_b.dot(vector_a.conjugate())"
      ],
      "metadata": {
        "id": "7fgRdsoloTmH"
      },
      "execution_count": 57,
      "outputs": []
    },
    {
      "cell_type": "code",
      "source": [
        "producto_escalar_ba"
      ],
      "metadata": {
        "id": "Olxd5YjFousW",
        "outputId": "62c3edf5-a927-4ed2-ee02-dba8b67a9d30",
        "colab": {
          "base_uri": "https://localhost:8080/",
          "height": 39
        }
      },
      "execution_count": 58,
      "outputs": [
        {
          "output_type": "execute_result",
          "data": {
            "text/plain": [
              "-2 + I"
            ],
            "text/latex": "$\\displaystyle -2 + i$"
          },
          "metadata": {},
          "execution_count": 58
        }
      ]
    },
    {
      "cell_type": "markdown",
      "source": [
        "#### iii) $| c \\rangle = | a \\rangle + 2 | b \\rangle, \\langle c | a \\rangle$\n"
      ],
      "metadata": {
        "id": "JSEKTqMiH7nJ"
      }
    },
    {
      "cell_type": "code",
      "source": [
        "# iii) Definimos el vector |c⟩ = |a⟩ + 2|b⟩ y calculamos (c|a)\n",
        "vector_c = vector_a + 2 * vector_b\n",
        "producto_escalar_ca = vector_c.dot(vector_a.conjugate())"
      ],
      "metadata": {
        "id": "md010m5AoVnu"
      },
      "execution_count": 59,
      "outputs": []
    },
    {
      "cell_type": "code",
      "source": [
        "vector_c"
      ],
      "metadata": {
        "id": "B70fAv8Wo4w0",
        "outputId": "15f24ad1-9f85-4e1a-f873-8f6b45591b44",
        "colab": {
          "base_uri": "https://localhost:8080/",
          "height": 78
        }
      },
      "execution_count": 60,
      "outputs": [
        {
          "output_type": "execute_result",
          "data": {
            "text/plain": [
              "Matrix([\n",
              "[      0],\n",
              "[    4*I],\n",
              "[1 + 2*I]])"
            ],
            "text/latex": "$\\displaystyle \\left[\\begin{matrix}0\\\\4 i\\\\1 + 2 i\\end{matrix}\\right]$"
          },
          "metadata": {},
          "execution_count": 60
        }
      ]
    },
    {
      "cell_type": "code",
      "source": [
        "producto_escalar_ca"
      ],
      "metadata": {
        "id": "EeoHwAZDo8k8",
        "outputId": "07159342-ae5f-4201-8b8f-bb2da0fbe3fc",
        "colab": {
          "base_uri": "https://localhost:8080/",
          "height": 39
        }
      },
      "execution_count": 61,
      "outputs": [
        {
          "output_type": "execute_result",
          "data": {
            "text/plain": [
              "17 + 2*I"
            ],
            "text/latex": "$\\displaystyle 17 + 2 i$"
          },
          "metadata": {},
          "execution_count": 61
        }
      ]
    },
    {
      "cell_type": "markdown",
      "source": [
        "### **Ejercicio 18:**\n",
        "\n",
        "Calcular la norma de los siguientes vectores:\n",
        "\n",
        "$|u\\rangle = \\begin{pmatrix}\n",
        "2 \\\\\n",
        "4i\n",
        "\\end{pmatrix}$\n",
        "\n",
        "$|v\\rangle = \\begin{pmatrix}\n",
        "1 \\\\\n",
        "2i \\\\\n",
        "i\n",
        "\\end{pmatrix}\n",
        "$\n"
      ],
      "metadata": {
        "id": "Nvdi-v5y5TfQ"
      }
    },
    {
      "cell_type": "code",
      "source": [
        "# Definimos los vectores\n",
        "vector_u = [2, 4*I]\n",
        "vector_v = [1, 2*I, I]\n",
        "\n",
        "# Calculamos la norma (magnitud) de cada vector\n",
        "norma_u = sqrt(sum(Abs(coef)**2 for coef in vector_u))\n",
        "norma_v = sqrt(sum(Abs(coef)**2 for coef in vector_v))\n",
        "\n",
        "norma_u, norma_v\n"
      ],
      "metadata": {
        "id": "NcT7l8GPk9th",
        "outputId": "fc99ce5f-a9e7-4038-ea16-3305a9c81870",
        "colab": {
          "base_uri": "https://localhost:8080/"
        }
      },
      "execution_count": 63,
      "outputs": [
        {
          "output_type": "execute_result",
          "data": {
            "text/plain": [
              "(2*sqrt(5), sqrt(6))"
            ]
          },
          "metadata": {},
          "execution_count": 63
        }
      ]
    },
    {
      "cell_type": "markdown",
      "source": [
        "La norma del vector $ |\\text{u}\\rangle  es ( 2\\sqrt{5} )$ y la norma del vector $| \\text{v}\\rangle  es \\sqrt{6}$.\n"
      ],
      "metadata": {
        "id": "LHe9we49lRSP"
      }
    },
    {
      "cell_type": "markdown",
      "source": [
        "### **Ejercicio 19:**\n",
        "Aplicar el procedimiento de Gram-Schmidt para construir una base ortonormal a partir del siguiente\n",
        "conjunto de vectores.\n",
        "\n",
        "$|v_1\\rangle = \\begin{pmatrix}\n",
        "1 \\\\\n",
        "2 \\\\\n",
        "-1\n",
        "\\end{pmatrix}\n",
        "$\n",
        "\n",
        "$ |v_2\\rangle = \\begin{pmatrix}\n",
        "0 \\\\\n",
        "1 \\\\\n",
        "-1\n",
        "\\end{pmatrix}\n",
        "$\n",
        "\n",
        "$|v_3\\rangle = \\begin{pmatrix}\n",
        "3 \\\\\n",
        "-7 \\\\\n",
        "1\n",
        "\\end{pmatrix}\n",
        "$\n",
        "\n",
        "---"
      ],
      "metadata": {
        "id": "nP3t39Hl5TnH"
      }
    },
    {
      "cell_type": "code",
      "source": [
        "# Definimos los vectores\n",
        "vector_u1 = Matrix([1, 2, -1])\n",
        "vector_u2 = Matrix([0, 1, -1])\n",
        "vector_u3 = Matrix([3, -7, 1])\n",
        "\n",
        "# Creamos una lista con los vectores originales\n",
        "vectores = [vector_u1, vector_u2, vector_u3]\n",
        "\n",
        "# Aplicamos el proceso de Gram-Schmidt para obtener una base ortonormal\n",
        "base_ortonormal = GramSchmidt(vectores, True)\n",
        "\n",
        "base_ortonormal"
      ],
      "metadata": {
        "id": "pWCZDv0qk7NM",
        "outputId": "da16231c-bd27-4937-cc31-d2e4d31e3bbe",
        "colab": {
          "base_uri": "https://localhost:8080/"
        }
      },
      "execution_count": 64,
      "outputs": [
        {
          "output_type": "execute_result",
          "data": {
            "text/plain": [
              "[Matrix([\n",
              " [ sqrt(6)/6],\n",
              " [ sqrt(6)/3],\n",
              " [-sqrt(6)/6]]),\n",
              " Matrix([\n",
              " [-sqrt(2)/2],\n",
              " [         0],\n",
              " [-sqrt(2)/2]]),\n",
              " Matrix([\n",
              " [ sqrt(3)/3],\n",
              " [-sqrt(3)/3],\n",
              " [-sqrt(3)/3]])]"
            ]
          },
          "metadata": {},
          "execution_count": 64
        }
      ]
    },
    {
      "cell_type": "markdown",
      "source": [
        "El procedimiento de Gram-Schmidt ha generado la siguiente base ortonormal a partir del conjunto de vectores proporcionados:\n",
        "\n",
        "Para $ |\\text{u}_1\\rangle $:\n",
        "\n",
        "\\begin{pmatrix}\n",
        "\\frac{\\sqrt{6}}{6} \\\\\n",
        "\\frac{\\sqrt{6}}{3} \\\\\n",
        "-\\frac{\\sqrt{6}}{6}\n",
        "\\end{pmatrix}\n",
        "\n",
        "\n",
        "Para $|\\text{u}_2\\rangle $:\n",
        "\n",
        "\\begin{pmatrix}\n",
        "-\\frac{\\sqrt{2}}{2} \\\\\n",
        "0 \\\\\n",
        "-\\frac{\\sqrt{2}}{2}\n",
        "\\end{pmatrix}\n",
        "\n",
        "\n",
        "Para $ |\\text{u}_3\\rangle $:\n",
        "\n",
        "\\begin{pmatrix}\n",
        "\\frac{\\sqrt{3}}{3} \\\\\n",
        "-\\frac{\\sqrt{3}}{3} \\\\\n",
        "-\\frac{\\sqrt{3}}{3}\n",
        "\\end{pmatrix}\n",
        "\n"
      ],
      "metadata": {
        "id": "T9UjqfqFm6BW"
      }
    },
    {
      "cell_type": "markdown",
      "source": [
        "### **Ejercicio 20:**\n",
        "\n",
        "Sean $\\{ |u_1\\rangle, |u_2\\rangle, |u_3\\rangle \\}$ una base ortonormal en $\\mathbb{C}^3$. Un sistema en este espacio se puede representar por:\n",
        "\n",
        "$|\\psi\\rangle = \\frac{1}{\\sqrt{5}}|u_1\\rangle - i\\sqrt{\\frac{7}{15}} |u_2\\rangle + \\frac{1}{\\sqrt{3}} |u_3\\rangle$\n"
      ],
      "metadata": {
        "id": "owameE1s5TTm"
      }
    },
    {
      "cell_type": "markdown",
      "source": [
        "#### i) Comprobar si es un estado normalizado"
      ],
      "metadata": {
        "id": "k-pQaBg7Jmf4"
      }
    },
    {
      "cell_type": "code",
      "source": [
        "\n",
        "# Definimos los coeficientes del estado |ψ⟩ en la base ortonormal\n",
        "coef_u1 = 1/sqrt(5)\n",
        "coef_u2 = -I/sqrt(7/15)\n",
        "coef_u3 = 1/sqrt(3)\n",
        "\n",
        "# Calculamos la norma al cuadrado del estado |ψ⟩\n",
        "norma_psi_cuadrado = abs(coef_u1)**2 + abs(coef_u2)**2 + abs(coef_u3)**2\n",
        "norma_psi_cuadrado\n"
      ],
      "metadata": {
        "id": "0FZLQRUaaBxO",
        "outputId": "cf1af37f-3eb9-4fb6-9407-166e4b3c1e40",
        "colab": {
          "base_uri": "https://localhost:8080/",
          "height": 37
        }
      },
      "execution_count": 65,
      "outputs": [
        {
          "output_type": "execute_result",
          "data": {
            "text/plain": [
              "2.67619047619048"
            ],
            "text/latex": "$\\displaystyle 2.67619047619048$"
          },
          "metadata": {},
          "execution_count": 65
        }
      ]
    },
    {
      "cell_type": "markdown",
      "source": [
        "No esta normalizado ya que tendria que dar 1"
      ],
      "metadata": {
        "id": "TN-x9f4UnwLY"
      }
    },
    {
      "cell_type": "markdown",
      "source": [
        "#### ii) Si se realiza una medida, calcular la probabilidad de encontrar el sistema en cada uno de los estados  $\\{ |u_1\\rangle, |u_2\\rangle, |u_3\\rangle \\}$"
      ],
      "metadata": {
        "id": "281YV1XzJwKX"
      }
    },
    {
      "cell_type": "code",
      "source": [
        "# Probabilidades de encontrar el sistema en cada uno de los estados de la base ortonormal\n",
        "\n",
        "# Para estar seguros, recalculamos los valores absolutos al cuadrado de los coeficientes\n",
        "probabilidad_u1 = abs(coef_u1)**2\n",
        "probabilidad_u2 = abs(coef_u2)**2\n",
        "probabilidad_u3 = abs(coef_u3)**2\n",
        "\n",
        "probabilidad_u1/norma_psi_cuadrado, probabilidad_u2/norma_psi_cuadrado, probabilidad_u3/norma_psi_cuadrado\n"
      ],
      "metadata": {
        "id": "VNpA0YQcbEqz",
        "outputId": "89d403c1-c5dd-478e-a5e2-08987193af2c",
        "colab": {
          "base_uri": "https://localhost:8080/"
        }
      },
      "execution_count": 66,
      "outputs": [
        {
          "output_type": "execute_result",
          "data": {
            "text/plain": [
              "(0.0747330960854092, 0.800711743772242, 0.124555160142349)"
            ]
          },
          "metadata": {},
          "execution_count": 66
        }
      ]
    }
  ]
}